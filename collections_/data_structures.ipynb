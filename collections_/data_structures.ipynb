{
 "cells": [
  {
   "cell_type": "markdown",
   "source": [
    "RealPython\n",
    "https://realpython.com/python-data-structures/"
   ],
   "metadata": {
    "collapsed": false
   },
   "id": "cb9623544f2c71e3"
  },
  {
   "cell_type": "markdown",
   "source": [
    "# Dictionaries\n",
    "Inaczej maps, hashmaps, lookup tables"
   ],
   "metadata": {
    "collapsed": false
   },
   "id": "6ed0381ce6efabe8"
  },
  {
   "cell_type": "markdown",
   "source": [
    "## collections.OrderedDict\n",
    "remember insertion order of keys\n"
   ],
   "metadata": {
    "collapsed": false
   },
   "id": "a4e41feb7f63a337"
  },
  {
   "cell_type": "code",
   "execution_count": 3,
   "outputs": [],
   "source": [
    "import collections"
   ],
   "metadata": {
    "collapsed": false,
    "ExecuteTime": {
     "end_time": "2023-08-09T17:05:58.028769387Z",
     "start_time": "2023-08-09T17:05:57.966328188Z"
    }
   },
   "id": "5021e288d08cef9e"
  },
  {
   "cell_type": "code",
   "execution_count": 4,
   "outputs": [
    {
     "data": {
      "text/plain": "OrderedDict([('one', 1), ('two', 2), ('three', 3)])"
     },
     "execution_count": 4,
     "metadata": {},
     "output_type": "execute_result"
    }
   ],
   "source": [
    "ordered = collections.OrderedDict(one=1, two=2, three=3)\n",
    "ordered"
   ],
   "metadata": {
    "collapsed": false,
    "ExecuteTime": {
     "end_time": "2023-08-09T17:06:34.248242952Z",
     "start_time": "2023-08-09T17:06:34.182070660Z"
    }
   },
   "id": "3b64de4db3f3d042"
  },
  {
   "cell_type": "code",
   "execution_count": 6,
   "outputs": [
    {
     "data": {
      "text/plain": "OrderedDict([('one', 1), ('two', 2), ('three', 3), ('four', 4)])"
     },
     "execution_count": 6,
     "metadata": {},
     "output_type": "execute_result"
    }
   ],
   "source": [
    "ordered[\"four\"] = 4\n",
    "ordered"
   ],
   "metadata": {
    "collapsed": false,
    "ExecuteTime": {
     "end_time": "2023-08-09T17:06:57.373362376Z",
     "start_time": "2023-08-09T17:06:57.314487722Z"
    }
   },
   "id": "24fe2f8967882740"
  },
  {
   "cell_type": "code",
   "execution_count": 7,
   "outputs": [
    {
     "data": {
      "text/plain": "odict_keys(['one', 'two', 'three', 'four'])"
     },
     "execution_count": 7,
     "metadata": {},
     "output_type": "execute_result"
    }
   ],
   "source": [
    "ordered.keys()"
   ],
   "metadata": {
    "collapsed": false,
    "ExecuteTime": {
     "end_time": "2023-08-09T17:07:09.136492914Z",
     "start_time": "2023-08-09T17:07:09.113898954Z"
    }
   },
   "id": "7f7ae69e137f08f7"
  },
  {
   "cell_type": "markdown",
   "source": [
    "## collections.DefaultDict\n",
    "zwraca wartość domyślą jeśli nie będzie klucza"
   ],
   "metadata": {
    "collapsed": false
   },
   "id": "f677f3ffb043ebbe"
  },
  {
   "cell_type": "code",
   "execution_count": 8,
   "outputs": [
    {
     "data": {
      "text/plain": "defaultdict(list, {})"
     },
     "execution_count": 8,
     "metadata": {},
     "output_type": "execute_result"
    }
   ],
   "source": [
    "defaultd = collections.defaultdict(list)  # lista jako domyślny element\n",
    "defaultd"
   ],
   "metadata": {
    "collapsed": false,
    "ExecuteTime": {
     "end_time": "2023-08-09T17:09:35.173430308Z",
     "start_time": "2023-08-09T17:09:35.121483014Z"
    }
   },
   "id": "e1464ed58ed04b87"
  },
  {
   "cell_type": "code",
   "execution_count": 9,
   "outputs": [
    {
     "data": {
      "text/plain": "defaultdict(list, {'dogs': ['Amal', 'Brutus']})"
     },
     "execution_count": 9,
     "metadata": {},
     "output_type": "execute_result"
    }
   ],
   "source": [
    "defaultd[\"dogs\"].append(\"Amal\")\n",
    "defaultd[\"dogs\"].append(\"Brutus\")\n",
    "defaultd"
   ],
   "metadata": {
    "collapsed": false,
    "ExecuteTime": {
     "end_time": "2023-08-09T17:10:27.866259957Z",
     "start_time": "2023-08-09T17:10:27.790081420Z"
    }
   },
   "id": "d1d79f4db3df59dc"
  },
  {
   "cell_type": "code",
   "execution_count": 10,
   "outputs": [
    {
     "data": {
      "text/plain": "[]"
     },
     "execution_count": 10,
     "metadata": {},
     "output_type": "execute_result"
    }
   ],
   "source": [
    "defaultd[\"cats\"]"
   ],
   "metadata": {
    "collapsed": false,
    "ExecuteTime": {
     "end_time": "2023-08-09T17:11:27.920862909Z",
     "start_time": "2023-08-09T17:11:27.846065322Z"
    }
   },
   "id": "502a238cce5ef566"
  },
  {
   "cell_type": "code",
   "execution_count": 11,
   "outputs": [
    {
     "data": {
      "text/plain": "['Amal', 'Brutus']"
     },
     "execution_count": 11,
     "metadata": {},
     "output_type": "execute_result"
    }
   ],
   "source": [
    "defaultd[\"dogs\"]"
   ],
   "metadata": {
    "collapsed": false,
    "ExecuteTime": {
     "end_time": "2023-08-09T17:12:02.123299570Z",
     "start_time": "2023-08-09T17:12:02.091453842Z"
    }
   },
   "id": "ffc696b3191d8db0"
  },
  {
   "cell_type": "markdown",
   "source": [
    "## collections.ChainMap\n",
    "łączy słowniki w celu ich przeszukiwania"
   ],
   "metadata": {
    "collapsed": false
   },
   "id": "21f82db3974223"
  },
  {
   "cell_type": "code",
   "execution_count": 12,
   "outputs": [],
   "source": [
    "chain = collections.ChainMap(ordered, defaultd)"
   ],
   "metadata": {
    "collapsed": false,
    "ExecuteTime": {
     "end_time": "2023-08-09T17:13:32.378194344Z",
     "start_time": "2023-08-09T17:13:32.312114024Z"
    }
   },
   "id": "f56e19e88f1f8707"
  },
  {
   "cell_type": "code",
   "execution_count": 13,
   "outputs": [
    {
     "data": {
      "text/plain": "2"
     },
     "execution_count": 13,
     "metadata": {},
     "output_type": "execute_result"
    }
   ],
   "source": [
    "chain[\"two\"]"
   ],
   "metadata": {
    "collapsed": false,
    "ExecuteTime": {
     "end_time": "2023-08-09T17:13:54.389778769Z",
     "start_time": "2023-08-09T17:13:54.326288718Z"
    }
   },
   "id": "a63fbb14ce15f0af"
  },
  {
   "cell_type": "code",
   "execution_count": 14,
   "outputs": [
    {
     "data": {
      "text/plain": "['Amal', 'Brutus']"
     },
     "execution_count": 14,
     "metadata": {},
     "output_type": "execute_result"
    }
   ],
   "source": [
    "chain[\"dogs\"]"
   ],
   "metadata": {
    "collapsed": false,
    "ExecuteTime": {
     "end_time": "2023-08-09T17:14:00.644168703Z",
     "start_time": "2023-08-09T17:14:00.575838681Z"
    }
   },
   "id": "8af72968c72e2da0"
  },
  {
   "cell_type": "markdown",
   "source": [
    "## types.MappingProxyType\n",
    "wrapper tworzy słownik tylko do odczytu"
   ],
   "metadata": {
    "collapsed": false
   },
   "id": "66e0aab89e874287"
  },
  {
   "cell_type": "code",
   "execution_count": 15,
   "outputs": [],
   "source": [
    "from types import MappingProxyType"
   ],
   "metadata": {
    "collapsed": false,
    "ExecuteTime": {
     "end_time": "2023-08-09T17:16:40.944872286Z",
     "start_time": "2023-08-09T17:16:40.881686736Z"
    }
   },
   "id": "da679dfefee3325c"
  },
  {
   "cell_type": "code",
   "execution_count": 16,
   "outputs": [],
   "source": [
    "writable = {\"one\": 1, \"two\": 2}"
   ],
   "metadata": {
    "collapsed": false,
    "ExecuteTime": {
     "end_time": "2023-08-09T17:17:06.074133003Z",
     "start_time": "2023-08-09T17:17:06.008463931Z"
    }
   },
   "id": "644dcdb04c9da9f"
  },
  {
   "cell_type": "code",
   "execution_count": 17,
   "outputs": [],
   "source": [
    "read_only = MappingProxyType(writable)"
   ],
   "metadata": {
    "collapsed": false,
    "ExecuteTime": {
     "end_time": "2023-08-09T17:17:19.761286176Z",
     "start_time": "2023-08-09T17:17:19.684732148Z"
    }
   },
   "id": "9548e3c10ce04839"
  },
  {
   "cell_type": "code",
   "execution_count": 18,
   "outputs": [
    {
     "data": {
      "text/plain": "1"
     },
     "execution_count": 18,
     "metadata": {},
     "output_type": "execute_result"
    }
   ],
   "source": [
    "read_only[\"one\"]"
   ],
   "metadata": {
    "collapsed": false,
    "ExecuteTime": {
     "end_time": "2023-08-09T17:17:27.045970394Z",
     "start_time": "2023-08-09T17:17:26.991500536Z"
    }
   },
   "id": "3d9a6f6367bb8c78"
  },
  {
   "cell_type": "code",
   "execution_count": 19,
   "outputs": [
    {
     "ename": "TypeError",
     "evalue": "'mappingproxy' object does not support item assignment",
     "output_type": "error",
     "traceback": [
      "\u001B[0;31m---------------------------------------------------------------------------\u001B[0m",
      "\u001B[0;31mTypeError\u001B[0m                                 Traceback (most recent call last)",
      "Cell \u001B[0;32mIn[19], line 1\u001B[0m\n\u001B[0;32m----> 1\u001B[0m \u001B[43mread_only\u001B[49m\u001B[43m[\u001B[49m\u001B[38;5;124;43m\"\u001B[39;49m\u001B[38;5;124;43mone\u001B[39;49m\u001B[38;5;124;43m\"\u001B[39;49m\u001B[43m]\u001B[49m \u001B[38;5;241m=\u001B[39m \u001B[38;5;241m42\u001B[39m\n",
      "\u001B[0;31mTypeError\u001B[0m: 'mappingproxy' object does not support item assignment"
     ]
    }
   ],
   "source": [
    "read_only[\"one\"] = 42"
   ],
   "metadata": {
    "collapsed": false,
    "ExecuteTime": {
     "end_time": "2023-08-09T17:17:38.835439380Z",
     "start_time": "2023-08-09T17:17:38.662033412Z"
    }
   },
   "id": "e59f033bd9cf7559"
  },
  {
   "cell_type": "code",
   "execution_count": null,
   "outputs": [],
   "source": [],
   "metadata": {
    "collapsed": false
   },
   "id": "18b1887a84c878ef"
  }
 ],
 "metadata": {
  "kernelspec": {
   "display_name": "Python 3",
   "language": "python",
   "name": "python3"
  },
  "language_info": {
   "codemirror_mode": {
    "name": "ipython",
    "version": 2
   },
   "file_extension": ".py",
   "mimetype": "text/x-python",
   "name": "python",
   "nbconvert_exporter": "python",
   "pygments_lexer": "ipython2",
   "version": "2.7.6"
  }
 },
 "nbformat": 4,
 "nbformat_minor": 5
}
