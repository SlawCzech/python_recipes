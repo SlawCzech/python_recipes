{
 "cells": [
  {
   "cell_type": "markdown",
   "source": [
    "RealPython\n",
    "https://realpython.com/python-data-structures/"
   ],
   "metadata": {
    "collapsed": false
   },
   "id": "cb9623544f2c71e3"
  },
  {
   "cell_type": "markdown",
   "source": [
    "# Dictionaries\n",
    "Inaczej maps, hashmaps, lookup tables"
   ],
   "metadata": {
    "collapsed": false
   },
   "id": "6ed0381ce6efabe8"
  },
  {
   "cell_type": "markdown",
   "source": [
    "## collections.OrderedDict\n",
    "remember insertion order of keys\n"
   ],
   "metadata": {
    "collapsed": false
   },
   "id": "a4e41feb7f63a337"
  },
  {
   "cell_type": "code",
   "execution_count": 3,
   "outputs": [],
   "source": [
    "import collections"
   ],
   "metadata": {
    "collapsed": false,
    "ExecuteTime": {
     "end_time": "2023-08-09T17:05:58.028769387Z",
     "start_time": "2023-08-09T17:05:57.966328188Z"
    }
   },
   "id": "5021e288d08cef9e"
  },
  {
   "cell_type": "code",
   "execution_count": 4,
   "outputs": [
    {
     "data": {
      "text/plain": "OrderedDict([('one', 1), ('two', 2), ('three', 3)])"
     },
     "execution_count": 4,
     "metadata": {},
     "output_type": "execute_result"
    }
   ],
   "source": [
    "ordered = collections.OrderedDict(one=1, two=2, three=3)\n",
    "ordered"
   ],
   "metadata": {
    "collapsed": false,
    "ExecuteTime": {
     "end_time": "2023-08-09T17:06:34.248242952Z",
     "start_time": "2023-08-09T17:06:34.182070660Z"
    }
   },
   "id": "3b64de4db3f3d042"
  },
  {
   "cell_type": "code",
   "execution_count": 6,
   "outputs": [
    {
     "data": {
      "text/plain": "OrderedDict([('one', 1), ('two', 2), ('three', 3), ('four', 4)])"
     },
     "execution_count": 6,
     "metadata": {},
     "output_type": "execute_result"
    }
   ],
   "source": [
    "ordered[\"four\"] = 4\n",
    "ordered"
   ],
   "metadata": {
    "collapsed": false,
    "ExecuteTime": {
     "end_time": "2023-08-09T17:06:57.373362376Z",
     "start_time": "2023-08-09T17:06:57.314487722Z"
    }
   },
   "id": "24fe2f8967882740"
  },
  {
   "cell_type": "code",
   "execution_count": 7,
   "outputs": [
    {
     "data": {
      "text/plain": "odict_keys(['one', 'two', 'three', 'four'])"
     },
     "execution_count": 7,
     "metadata": {},
     "output_type": "execute_result"
    }
   ],
   "source": [
    "ordered.keys()"
   ],
   "metadata": {
    "collapsed": false,
    "ExecuteTime": {
     "end_time": "2023-08-09T17:07:09.136492914Z",
     "start_time": "2023-08-09T17:07:09.113898954Z"
    }
   },
   "id": "7f7ae69e137f08f7"
  },
  {
   "cell_type": "markdown",
   "source": [
    "## collections.DefaultDict\n",
    "zwraca wartość domyślą jeśli nie będzie klucza"
   ],
   "metadata": {
    "collapsed": false
   },
   "id": "f677f3ffb043ebbe"
  },
  {
   "cell_type": "code",
   "execution_count": 8,
   "outputs": [
    {
     "data": {
      "text/plain": "defaultdict(list, {})"
     },
     "execution_count": 8,
     "metadata": {},
     "output_type": "execute_result"
    }
   ],
   "source": [
    "defaultd = collections.defaultdict(list)  # lista jako domyślny element\n",
    "defaultd"
   ],
   "metadata": {
    "collapsed": false,
    "ExecuteTime": {
     "end_time": "2023-08-09T17:09:35.173430308Z",
     "start_time": "2023-08-09T17:09:35.121483014Z"
    }
   },
   "id": "e1464ed58ed04b87"
  },
  {
   "cell_type": "code",
   "execution_count": 9,
   "outputs": [
    {
     "data": {
      "text/plain": "defaultdict(list, {'dogs': ['Amal', 'Brutus']})"
     },
     "execution_count": 9,
     "metadata": {},
     "output_type": "execute_result"
    }
   ],
   "source": [
    "defaultd[\"dogs\"].append(\"Amal\")\n",
    "defaultd[\"dogs\"].append(\"Brutus\")\n",
    "defaultd"
   ],
   "metadata": {
    "collapsed": false,
    "ExecuteTime": {
     "end_time": "2023-08-09T17:10:27.866259957Z",
     "start_time": "2023-08-09T17:10:27.790081420Z"
    }
   },
   "id": "d1d79f4db3df59dc"
  },
  {
   "cell_type": "code",
   "execution_count": 10,
   "outputs": [
    {
     "data": {
      "text/plain": "[]"
     },
     "execution_count": 10,
     "metadata": {},
     "output_type": "execute_result"
    }
   ],
   "source": [
    "defaultd[\"cats\"]"
   ],
   "metadata": {
    "collapsed": false,
    "ExecuteTime": {
     "end_time": "2023-08-09T17:11:27.920862909Z",
     "start_time": "2023-08-09T17:11:27.846065322Z"
    }
   },
   "id": "502a238cce5ef566"
  },
  {
   "cell_type": "code",
   "execution_count": 11,
   "outputs": [
    {
     "data": {
      "text/plain": "['Amal', 'Brutus']"
     },
     "execution_count": 11,
     "metadata": {},
     "output_type": "execute_result"
    }
   ],
   "source": [
    "defaultd[\"dogs\"]"
   ],
   "metadata": {
    "collapsed": false,
    "ExecuteTime": {
     "end_time": "2023-08-09T17:12:02.123299570Z",
     "start_time": "2023-08-09T17:12:02.091453842Z"
    }
   },
   "id": "ffc696b3191d8db0"
  },
  {
   "cell_type": "markdown",
   "source": [
    "## collections.ChainMap\n",
    "łączy słowniki w celu ich przeszukiwania"
   ],
   "metadata": {
    "collapsed": false
   },
   "id": "21f82db3974223"
  },
  {
   "cell_type": "code",
   "execution_count": 12,
   "outputs": [],
   "source": [
    "chain = collections.ChainMap(ordered, defaultd)"
   ],
   "metadata": {
    "collapsed": false,
    "ExecuteTime": {
     "end_time": "2023-08-09T17:13:32.378194344Z",
     "start_time": "2023-08-09T17:13:32.312114024Z"
    }
   },
   "id": "f56e19e88f1f8707"
  },
  {
   "cell_type": "code",
   "execution_count": 13,
   "outputs": [
    {
     "data": {
      "text/plain": "2"
     },
     "execution_count": 13,
     "metadata": {},
     "output_type": "execute_result"
    }
   ],
   "source": [
    "chain[\"two\"]"
   ],
   "metadata": {
    "collapsed": false,
    "ExecuteTime": {
     "end_time": "2023-08-09T17:13:54.389778769Z",
     "start_time": "2023-08-09T17:13:54.326288718Z"
    }
   },
   "id": "a63fbb14ce15f0af"
  },
  {
   "cell_type": "code",
   "execution_count": 14,
   "outputs": [
    {
     "data": {
      "text/plain": "['Amal', 'Brutus']"
     },
     "execution_count": 14,
     "metadata": {},
     "output_type": "execute_result"
    }
   ],
   "source": [
    "chain[\"dogs\"]"
   ],
   "metadata": {
    "collapsed": false,
    "ExecuteTime": {
     "end_time": "2023-08-09T17:14:00.644168703Z",
     "start_time": "2023-08-09T17:14:00.575838681Z"
    }
   },
   "id": "8af72968c72e2da0"
  },
  {
   "cell_type": "markdown",
   "source": [
    "## types.MappingProxyType\n",
    "wrapper tworzy słownik tylko do odczytu"
   ],
   "metadata": {
    "collapsed": false
   },
   "id": "66e0aab89e874287"
  },
  {
   "cell_type": "code",
   "execution_count": 15,
   "outputs": [],
   "source": [
    "from types import MappingProxyType"
   ],
   "metadata": {
    "collapsed": false,
    "ExecuteTime": {
     "end_time": "2023-08-09T17:16:40.944872286Z",
     "start_time": "2023-08-09T17:16:40.881686736Z"
    }
   },
   "id": "da679dfefee3325c"
  },
  {
   "cell_type": "code",
   "execution_count": 16,
   "outputs": [],
   "source": [
    "writable = {\"one\": 1, \"two\": 2}"
   ],
   "metadata": {
    "collapsed": false,
    "ExecuteTime": {
     "end_time": "2023-08-09T17:17:06.074133003Z",
     "start_time": "2023-08-09T17:17:06.008463931Z"
    }
   },
   "id": "644dcdb04c9da9f"
  },
  {
   "cell_type": "code",
   "execution_count": 17,
   "outputs": [],
   "source": [
    "read_only = MappingProxyType(writable)"
   ],
   "metadata": {
    "collapsed": false,
    "ExecuteTime": {
     "end_time": "2023-08-09T17:17:19.761286176Z",
     "start_time": "2023-08-09T17:17:19.684732148Z"
    }
   },
   "id": "9548e3c10ce04839"
  },
  {
   "cell_type": "code",
   "execution_count": 18,
   "outputs": [
    {
     "data": {
      "text/plain": "1"
     },
     "execution_count": 18,
     "metadata": {},
     "output_type": "execute_result"
    }
   ],
   "source": [
    "read_only[\"one\"]"
   ],
   "metadata": {
    "collapsed": false,
    "ExecuteTime": {
     "end_time": "2023-08-09T17:17:27.045970394Z",
     "start_time": "2023-08-09T17:17:26.991500536Z"
    }
   },
   "id": "3d9a6f6367bb8c78"
  },
  {
   "cell_type": "code",
   "execution_count": 19,
   "outputs": [
    {
     "ename": "TypeError",
     "evalue": "'mappingproxy' object does not support item assignment",
     "output_type": "error",
     "traceback": [
      "\u001B[0;31m---------------------------------------------------------------------------\u001B[0m",
      "\u001B[0;31mTypeError\u001B[0m                                 Traceback (most recent call last)",
      "Cell \u001B[0;32mIn[19], line 1\u001B[0m\n\u001B[0;32m----> 1\u001B[0m \u001B[43mread_only\u001B[49m\u001B[43m[\u001B[49m\u001B[38;5;124;43m\"\u001B[39;49m\u001B[38;5;124;43mone\u001B[39;49m\u001B[38;5;124;43m\"\u001B[39;49m\u001B[43m]\u001B[49m \u001B[38;5;241m=\u001B[39m \u001B[38;5;241m42\u001B[39m\n",
      "\u001B[0;31mTypeError\u001B[0m: 'mappingproxy' object does not support item assignment"
     ]
    }
   ],
   "source": [
    "read_only[\"one\"] = 42"
   ],
   "metadata": {
    "collapsed": false,
    "ExecuteTime": {
     "end_time": "2023-08-09T17:17:38.835439380Z",
     "start_time": "2023-08-09T17:17:38.662033412Z"
    }
   },
   "id": "e59f033bd9cf7559"
  },
  {
   "cell_type": "markdown",
   "source": [
    "# Array Data Structures"
   ],
   "metadata": {
    "collapsed": false
   },
   "id": "80cb71f75e2ef0ab"
  },
  {
   "cell_type": "markdown",
   "source": [
    "## list: Mutable Dynamic Array"
   ],
   "metadata": {
    "collapsed": false
   },
   "id": "2c8a87267eccef61"
  },
  {
   "cell_type": "code",
   "execution_count": 21,
   "outputs": [
    {
     "data": {
      "text/plain": "['one', 'two', 'three']"
     },
     "execution_count": 21,
     "metadata": {},
     "output_type": "execute_result"
    }
   ],
   "source": [
    "arr = [\"one\", \"two\", \"three\"]\n",
    "arr"
   ],
   "metadata": {
    "collapsed": false,
    "ExecuteTime": {
     "end_time": "2023-08-09T17:32:34.205685684Z",
     "start_time": "2023-08-09T17:32:34.174822910Z"
    }
   },
   "id": "9be087c6a2fe2a3a"
  },
  {
   "cell_type": "code",
   "execution_count": 26,
   "outputs": [
    {
     "data": {
      "text/plain": "['one', 'hello', 'three']"
     },
     "execution_count": 26,
     "metadata": {},
     "output_type": "execute_result"
    }
   ],
   "source": [
    "arr[1] = \"hello\"\n",
    "arr"
   ],
   "metadata": {
    "collapsed": false,
    "ExecuteTime": {
     "end_time": "2023-08-09T17:34:35.747935119Z",
     "start_time": "2023-08-09T17:34:35.705679738Z"
    }
   },
   "id": "3334d296da584ae"
  },
  {
   "cell_type": "code",
   "execution_count": 27,
   "outputs": [
    {
     "data": {
      "text/plain": "['one', 'three']"
     },
     "execution_count": 27,
     "metadata": {},
     "output_type": "execute_result"
    }
   ],
   "source": [
    "del arr[1]\n",
    "arr"
   ],
   "metadata": {
    "collapsed": false,
    "ExecuteTime": {
     "end_time": "2023-08-09T17:34:46.863368311Z",
     "start_time": "2023-08-09T17:34:46.823146023Z"
    }
   },
   "id": "657c16283e2a34bb"
  },
  {
   "cell_type": "code",
   "execution_count": 29,
   "outputs": [
    {
     "data": {
      "text/plain": "['one', 'three', 23, 23]"
     },
     "execution_count": 29,
     "metadata": {},
     "output_type": "execute_result"
    }
   ],
   "source": [
    "arr.append(23)\n",
    "arr"
   ],
   "metadata": {
    "collapsed": false,
    "ExecuteTime": {
     "end_time": "2023-08-09T17:35:01.535204348Z",
     "start_time": "2023-08-09T17:35:01.487336143Z"
    }
   },
   "id": "97b5145536ccb8a2"
  },
  {
   "cell_type": "markdown",
   "source": [
    "## tuple: Immutable Container"
   ],
   "metadata": {
    "collapsed": false
   },
   "id": "84449c5d0cb0178a"
  },
  {
   "cell_type": "code",
   "execution_count": 30,
   "outputs": [
    {
     "data": {
      "text/plain": "'two'"
     },
     "execution_count": 30,
     "metadata": {},
     "output_type": "execute_result"
    }
   ],
   "source": [
    "tup = (\"one\", \"two\", \"three\")\n",
    "tup[1]"
   ],
   "metadata": {
    "collapsed": false,
    "ExecuteTime": {
     "end_time": "2023-08-09T17:52:05.019637316Z",
     "start_time": "2023-08-09T17:52:04.936154650Z"
    }
   },
   "id": "8187fd2b4a862709"
  },
  {
   "cell_type": "code",
   "execution_count": 31,
   "outputs": [
    {
     "ename": "TypeError",
     "evalue": "'tuple' object doesn't support item deletion",
     "output_type": "error",
     "traceback": [
      "\u001B[0;31m---------------------------------------------------------------------------\u001B[0m",
      "\u001B[0;31mTypeError\u001B[0m                                 Traceback (most recent call last)",
      "Cell \u001B[0;32mIn[31], line 1\u001B[0m\n\u001B[0;32m----> 1\u001B[0m \u001B[38;5;28;01mdel\u001B[39;00m \u001B[43mtup\u001B[49m\u001B[43m[\u001B[49m\u001B[38;5;241;43m1\u001B[39;49m\u001B[43m]\u001B[49m\n",
      "\u001B[0;31mTypeError\u001B[0m: 'tuple' object doesn't support item deletion"
     ]
    }
   ],
   "source": [
    "del tup[1]"
   ],
   "metadata": {
    "collapsed": false,
    "ExecuteTime": {
     "end_time": "2023-08-09T17:52:33.967064613Z",
     "start_time": "2023-08-09T17:52:33.894761933Z"
    }
   },
   "id": "262eeb30a82f2f6f"
  },
  {
   "cell_type": "code",
   "execution_count": 32,
   "outputs": [
    {
     "data": {
      "text/plain": "('one', 'two', 'three', 23)"
     },
     "execution_count": 32,
     "metadata": {},
     "output_type": "execute_result"
    }
   ],
   "source": [
    "tup + (23,)"
   ],
   "metadata": {
    "collapsed": false,
    "ExecuteTime": {
     "end_time": "2023-08-09T17:52:46.158994249Z",
     "start_time": "2023-08-09T17:52:46.093230863Z"
    }
   },
   "id": "9f1eda66b468536e"
  },
  {
   "cell_type": "code",
   "execution_count": 33,
   "outputs": [
    {
     "data": {
      "text/plain": "('one', 'two', 'three')"
     },
     "execution_count": 33,
     "metadata": {},
     "output_type": "execute_result"
    }
   ],
   "source": [
    "tup"
   ],
   "metadata": {
    "collapsed": false,
    "ExecuteTime": {
     "end_time": "2023-08-09T17:52:50.352227576Z",
     "start_time": "2023-08-09T17:52:50.294437390Z"
    }
   },
   "id": "8523f6b2c0550eef"
  },
  {
   "cell_type": "markdown",
   "source": [
    "## array.array: Basic Type Array\n",
    "typowana lista, tj. przyjmuje tylko jeden typ danych\n",
    "bardziej efektywne jeśli chodzi o pamięć"
   ],
   "metadata": {
    "collapsed": false
   },
   "id": "8c02d2fdf2c1c946"
  },
  {
   "cell_type": "code",
   "execution_count": 34,
   "outputs": [],
   "source": [
    "import array"
   ],
   "metadata": {
    "collapsed": false,
    "ExecuteTime": {
     "end_time": "2023-08-09T17:56:54.036104697Z",
     "start_time": "2023-08-09T17:56:53.961871506Z"
    }
   },
   "id": "a156623491638d17"
  },
  {
   "cell_type": "code",
   "execution_count": 35,
   "outputs": [
    {
     "data": {
      "text/plain": "array('f', [1.0, 1.5, 2.0, 2.5])"
     },
     "execution_count": 35,
     "metadata": {},
     "output_type": "execute_result"
    }
   ],
   "source": [
    "ar = array.array(\"f\", (1.0, 1.5, 2.0, 2.5))\n",
    "ar"
   ],
   "metadata": {
    "collapsed": false,
    "ExecuteTime": {
     "end_time": "2023-08-09T17:57:31.786343681Z",
     "start_time": "2023-08-09T17:57:31.708600717Z"
    }
   },
   "id": "5629624896c82433"
  },
  {
   "cell_type": "code",
   "execution_count": 37,
   "outputs": [
    {
     "data": {
      "text/plain": "array('f', [1.0, 23.0, 2.0, 2.5])"
     },
     "execution_count": 37,
     "metadata": {},
     "output_type": "execute_result"
    }
   ],
   "source": [
    "ar[1] = 23\n",
    "ar"
   ],
   "metadata": {
    "collapsed": false,
    "ExecuteTime": {
     "end_time": "2023-08-09T17:57:53.481769969Z",
     "start_time": "2023-08-09T17:57:53.416796087Z"
    }
   },
   "id": "500ade79513e2bd"
  },
  {
   "cell_type": "code",
   "execution_count": 39,
   "outputs": [
    {
     "data": {
      "text/plain": "array('f', [1.0, 23.0, 2.0, 2.5, 42.0, 42.0])"
     },
     "execution_count": 39,
     "metadata": {},
     "output_type": "execute_result"
    }
   ],
   "source": [
    "ar.append(42)\n",
    "ar"
   ],
   "metadata": {
    "collapsed": false,
    "ExecuteTime": {
     "end_time": "2023-08-09T17:58:09.724297313Z",
     "start_time": "2023-08-09T17:58:09.679107576Z"
    }
   },
   "id": "188577baa87d059f"
  },
  {
   "cell_type": "code",
   "execution_count": 40,
   "outputs": [
    {
     "ename": "TypeError",
     "evalue": "must be real number, not str",
     "output_type": "error",
     "traceback": [
      "\u001B[0;31m---------------------------------------------------------------------------\u001B[0m",
      "\u001B[0;31mTypeError\u001B[0m                                 Traceback (most recent call last)",
      "Cell \u001B[0;32mIn[40], line 1\u001B[0m\n\u001B[0;32m----> 1\u001B[0m \u001B[43mar\u001B[49m\u001B[43m[\u001B[49m\u001B[38;5;241;43m1\u001B[39;49m\u001B[43m]\u001B[49m \u001B[38;5;241m=\u001B[39m \u001B[38;5;124m\"\u001B[39m\u001B[38;5;124mhello\u001B[39m\u001B[38;5;124m\"\u001B[39m\n",
      "\u001B[0;31mTypeError\u001B[0m: must be real number, not str"
     ]
    }
   ],
   "source": [
    "ar[1] = \"hello\""
   ],
   "metadata": {
    "collapsed": false,
    "ExecuteTime": {
     "end_time": "2023-08-09T17:58:22.528929279Z",
     "start_time": "2023-08-09T17:58:22.477373288Z"
    }
   },
   "id": "1107ce73ed17e7d7"
  },
  {
   "cell_type": "markdown",
   "source": [
    "## str: immutable arrays of unicode characters\n"
   ],
   "metadata": {
    "collapsed": false
   },
   "id": "43281e585649e991"
  },
  {
   "cell_type": "code",
   "execution_count": 41,
   "outputs": [
    {
     "data": {
      "text/plain": "'abcd'"
     },
     "execution_count": 41,
     "metadata": {},
     "output_type": "execute_result"
    }
   ],
   "source": [
    "string = \"abcd\"\n",
    "string"
   ],
   "metadata": {
    "collapsed": false,
    "ExecuteTime": {
     "end_time": "2023-08-09T18:00:25.514914088Z",
     "start_time": "2023-08-09T18:00:25.464117436Z"
    }
   },
   "id": "b320abf192b341cf"
  },
  {
   "cell_type": "code",
   "execution_count": 42,
   "outputs": [
    {
     "data": {
      "text/plain": "'b'"
     },
     "execution_count": 42,
     "metadata": {},
     "output_type": "execute_result"
    }
   ],
   "source": [
    "string[1]"
   ],
   "metadata": {
    "collapsed": false,
    "ExecuteTime": {
     "end_time": "2023-08-09T18:00:29.315774770Z",
     "start_time": "2023-08-09T18:00:29.267907423Z"
    }
   },
   "id": "8abd9aa87f2695d4"
  },
  {
   "cell_type": "code",
   "execution_count": 44,
   "outputs": [
    {
     "ename": "TypeError",
     "evalue": "'str' object does not support item assignment",
     "output_type": "error",
     "traceback": [
      "\u001B[0;31m---------------------------------------------------------------------------\u001B[0m",
      "\u001B[0;31mTypeError\u001B[0m                                 Traceback (most recent call last)",
      "Cell \u001B[0;32mIn[44], line 1\u001B[0m\n\u001B[0;32m----> 1\u001B[0m \u001B[43mstring\u001B[49m\u001B[43m[\u001B[49m\u001B[38;5;241;43m1\u001B[39;49m\u001B[43m]\u001B[49m \u001B[38;5;241m=\u001B[39m \u001B[38;5;124m\"\u001B[39m\u001B[38;5;124me\u001B[39m\u001B[38;5;124m\"\u001B[39m\n",
      "\u001B[0;31mTypeError\u001B[0m: 'str' object does not support item assignment"
     ]
    }
   ],
   "source": [
    "string[1] = \"e\""
   ],
   "metadata": {
    "collapsed": false,
    "ExecuteTime": {
     "end_time": "2023-08-09T18:00:48.452798241Z",
     "start_time": "2023-08-09T18:00:48.379473684Z"
    }
   },
   "id": "94d23ec854b17b5c"
  },
  {
   "cell_type": "code",
   "execution_count": 45,
   "outputs": [
    {
     "ename": "TypeError",
     "evalue": "'str' object doesn't support item deletion",
     "output_type": "error",
     "traceback": [
      "\u001B[0;31m---------------------------------------------------------------------------\u001B[0m",
      "\u001B[0;31mTypeError\u001B[0m                                 Traceback (most recent call last)",
      "Cell \u001B[0;32mIn[45], line 1\u001B[0m\n\u001B[0;32m----> 1\u001B[0m \u001B[38;5;28;01mdel\u001B[39;00m \u001B[43mstring\u001B[49m\u001B[43m[\u001B[49m\u001B[38;5;241;43m1\u001B[39;49m\u001B[43m]\u001B[49m\n",
      "\u001B[0;31mTypeError\u001B[0m: 'str' object doesn't support item deletion"
     ]
    }
   ],
   "source": [
    "del string[1]"
   ],
   "metadata": {
    "collapsed": false,
    "ExecuteTime": {
     "end_time": "2023-08-09T18:01:07.555743180Z",
     "start_time": "2023-08-09T18:01:07.519866689Z"
    }
   },
   "id": "826d15bf895d51ce"
  },
  {
   "cell_type": "code",
   "execution_count": 46,
   "outputs": [
    {
     "data": {
      "text/plain": "str"
     },
     "execution_count": 46,
     "metadata": {},
     "output_type": "execute_result"
    }
   ],
   "source": [
    "type(string)"
   ],
   "metadata": {
    "collapsed": false,
    "ExecuteTime": {
     "end_time": "2023-08-09T18:01:26.960313552Z",
     "start_time": "2023-08-09T18:01:26.874525779Z"
    }
   },
   "id": "7b8fc690bd67822c"
  },
  {
   "cell_type": "code",
   "execution_count": 47,
   "outputs": [
    {
     "data": {
      "text/plain": "str"
     },
     "execution_count": 47,
     "metadata": {},
     "output_type": "execute_result"
    }
   ],
   "source": [
    "type(string[1])"
   ],
   "metadata": {
    "collapsed": false,
    "ExecuteTime": {
     "end_time": "2023-08-09T18:01:31.765498964Z",
     "start_time": "2023-08-09T18:01:31.692106218Z"
    }
   },
   "id": "b6b5587a51bbbfa3"
  },
  {
   "cell_type": "markdown",
   "source": [
    "## bytes: Immutable Arrays of Single Bytes\n",
    "sekwencja bitów lub integerów między 0 a 255"
   ],
   "metadata": {
    "collapsed": false
   },
   "id": "6f9cb5f82e20a1ab"
  },
  {
   "cell_type": "code",
   "execution_count": 48,
   "outputs": [
    {
     "data": {
      "text/plain": "2"
     },
     "execution_count": 48,
     "metadata": {},
     "output_type": "execute_result"
    }
   ],
   "source": [
    "byt = bytes((1, 2, 3, 4))\n",
    "byt[1]"
   ],
   "metadata": {
    "collapsed": false,
    "ExecuteTime": {
     "end_time": "2023-08-09T18:03:13.065505408Z",
     "start_time": "2023-08-09T18:03:13.015439161Z"
    }
   },
   "id": "6cf5ca667cdce320"
  },
  {
   "cell_type": "code",
   "execution_count": 49,
   "outputs": [
    {
     "data": {
      "text/plain": "b'\\x01\\x02\\x03\\x04'"
     },
     "execution_count": 49,
     "metadata": {},
     "output_type": "execute_result"
    }
   ],
   "source": [
    "byt"
   ],
   "metadata": {
    "collapsed": false,
    "ExecuteTime": {
     "end_time": "2023-08-09T18:03:19.396420703Z",
     "start_time": "2023-08-09T18:03:19.309263332Z"
    }
   },
   "id": "5cf212195dca9c52"
  },
  {
   "cell_type": "code",
   "execution_count": 50,
   "outputs": [
    {
     "ename": "TypeError",
     "evalue": "'bytes' object does not support item assignment",
     "output_type": "error",
     "traceback": [
      "\u001B[0;31m---------------------------------------------------------------------------\u001B[0m",
      "\u001B[0;31mTypeError\u001B[0m                                 Traceback (most recent call last)",
      "Cell \u001B[0;32mIn[50], line 1\u001B[0m\n\u001B[0;32m----> 1\u001B[0m \u001B[43mbyt\u001B[49m\u001B[43m[\u001B[49m\u001B[38;5;241;43m1\u001B[39;49m\u001B[43m]\u001B[49m \u001B[38;5;241m=\u001B[39m \u001B[38;5;241m5\u001B[39m\n",
      "\u001B[0;31mTypeError\u001B[0m: 'bytes' object does not support item assignment"
     ]
    }
   ],
   "source": [
    "byt[1] = 5"
   ],
   "metadata": {
    "collapsed": false,
    "ExecuteTime": {
     "end_time": "2023-08-09T18:03:50.019675974Z",
     "start_time": "2023-08-09T18:03:49.920837755Z"
    }
   },
   "id": "d321f0ca7a975e2f"
  },
  {
   "cell_type": "code",
   "execution_count": 51,
   "outputs": [
    {
     "ename": "TypeError",
     "evalue": "'bytes' object doesn't support item deletion",
     "output_type": "error",
     "traceback": [
      "\u001B[0;31m---------------------------------------------------------------------------\u001B[0m",
      "\u001B[0;31mTypeError\u001B[0m                                 Traceback (most recent call last)",
      "Cell \u001B[0;32mIn[51], line 1\u001B[0m\n\u001B[0;32m----> 1\u001B[0m \u001B[38;5;28;01mdel\u001B[39;00m \u001B[43mbyt\u001B[49m\u001B[43m[\u001B[49m\u001B[38;5;241;43m1\u001B[39;49m\u001B[43m]\u001B[49m\n",
      "\u001B[0;31mTypeError\u001B[0m: 'bytes' object doesn't support item deletion"
     ]
    }
   ],
   "source": [
    "del byt[1]"
   ],
   "metadata": {
    "collapsed": false,
    "ExecuteTime": {
     "end_time": "2023-08-09T18:03:58.379165155Z",
     "start_time": "2023-08-09T18:03:58.321021402Z"
    }
   },
   "id": "41de62709efca9f2"
  },
  {
   "cell_type": "code",
   "execution_count": 52,
   "outputs": [
    {
     "ename": "ValueError",
     "evalue": "bytes must be in range(0, 256)",
     "output_type": "error",
     "traceback": [
      "\u001B[0;31m---------------------------------------------------------------------------\u001B[0m",
      "\u001B[0;31mValueError\u001B[0m                                Traceback (most recent call last)",
      "Cell \u001B[0;32mIn[52], line 1\u001B[0m\n\u001B[0;32m----> 1\u001B[0m \u001B[38;5;28;43mbytes\u001B[39;49m\u001B[43m(\u001B[49m\u001B[43m(\u001B[49m\u001B[38;5;241;43m0\u001B[39;49m\u001B[43m,\u001B[49m\u001B[43m \u001B[49m\u001B[38;5;241;43m1\u001B[39;49m\u001B[43m,\u001B[49m\u001B[43m \u001B[49m\u001B[38;5;241;43m300\u001B[39;49m\u001B[43m)\u001B[49m\u001B[43m)\u001B[49m\n",
      "\u001B[0;31mValueError\u001B[0m: bytes must be in range(0, 256)"
     ]
    }
   ],
   "source": [
    "bytes((0, 1, 300))"
   ],
   "metadata": {
    "collapsed": false,
    "ExecuteTime": {
     "end_time": "2023-08-09T18:04:09.208849748Z",
     "start_time": "2023-08-09T18:04:09.040656087Z"
    }
   },
   "id": "125e25dd19b4f157"
  },
  {
   "cell_type": "markdown",
   "source": [
    "## bytearray: Mutable Arrays of Single Bytes\n",
    "jak wyżej, ale mutowalne"
   ],
   "metadata": {
    "collapsed": false
   },
   "id": "57a9e9bc51cc56d4"
  },
  {
   "cell_type": "code",
   "execution_count": 53,
   "outputs": [
    {
     "data": {
      "text/plain": "bytearray(b'\\x01\\x02\\x03\\x04')"
     },
     "execution_count": 53,
     "metadata": {},
     "output_type": "execute_result"
    }
   ],
   "source": [
    "bytear = bytearray((1, 2, 3, 4))\n",
    "bytear"
   ],
   "metadata": {
    "collapsed": false,
    "ExecuteTime": {
     "end_time": "2023-08-09T18:18:54.642162027Z",
     "start_time": "2023-08-09T18:18:54.562991357Z"
    }
   },
   "id": "19418a89d4cfa7db"
  },
  {
   "cell_type": "code",
   "execution_count": 55,
   "outputs": [
    {
     "data": {
      "text/plain": "bytearray(b'\\x01\\x17\\x03\\x04')"
     },
     "execution_count": 55,
     "metadata": {},
     "output_type": "execute_result"
    }
   ],
   "source": [
    "bytear[1] = 23\n",
    "bytear"
   ],
   "metadata": {
    "collapsed": false,
    "ExecuteTime": {
     "end_time": "2023-08-09T18:19:31.343941200Z",
     "start_time": "2023-08-09T18:19:31.297350107Z"
    }
   },
   "id": "4386cf94994aa395"
  },
  {
   "cell_type": "code",
   "execution_count": 56,
   "outputs": [],
   "source": [
    "del bytear[1]"
   ],
   "metadata": {
    "collapsed": false,
    "ExecuteTime": {
     "end_time": "2023-08-09T18:19:50.928664713Z",
     "start_time": "2023-08-09T18:19:50.845706190Z"
    }
   },
   "id": "b73f3913a9aa9be3"
  },
  {
   "cell_type": "code",
   "execution_count": 57,
   "outputs": [
    {
     "data": {
      "text/plain": "bytearray(b'\\x01\\x03\\x04')"
     },
     "execution_count": 57,
     "metadata": {},
     "output_type": "execute_result"
    }
   ],
   "source": [
    "bytear"
   ],
   "metadata": {
    "collapsed": false,
    "ExecuteTime": {
     "end_time": "2023-08-09T18:19:55.823080159Z",
     "start_time": "2023-08-09T18:19:55.739639230Z"
    }
   },
   "id": "123a6565efbfb437"
  },
  {
   "cell_type": "code",
   "execution_count": 58,
   "outputs": [
    {
     "ename": "ValueError",
     "evalue": "byte must be in range(0, 256)",
     "output_type": "error",
     "traceback": [
      "\u001B[0;31m---------------------------------------------------------------------------\u001B[0m",
      "\u001B[0;31mValueError\u001B[0m                                Traceback (most recent call last)",
      "Cell \u001B[0;32mIn[58], line 1\u001B[0m\n\u001B[0;32m----> 1\u001B[0m \u001B[43mbytear\u001B[49m\u001B[43m[\u001B[49m\u001B[38;5;241;43m1\u001B[39;49m\u001B[43m]\u001B[49m \u001B[38;5;241m=\u001B[39m \u001B[38;5;241m300\u001B[39m\n",
      "\u001B[0;31mValueError\u001B[0m: byte must be in range(0, 256)"
     ]
    }
   ],
   "source": [
    "bytear[1] = 300"
   ],
   "metadata": {
    "collapsed": false,
    "ExecuteTime": {
     "end_time": "2023-08-09T18:20:13.725131059Z",
     "start_time": "2023-08-09T18:20:13.633596340Z"
    }
   },
   "id": "5d798ea012a0e009"
  },
  {
   "cell_type": "code",
   "execution_count": 60,
   "outputs": [
    {
     "data": {
      "text/plain": "b'\\x01\\x03\\x04'"
     },
     "execution_count": 60,
     "metadata": {},
     "output_type": "execute_result"
    }
   ],
   "source": [
    "bytes(bytear)"
   ],
   "metadata": {
    "collapsed": false,
    "ExecuteTime": {
     "end_time": "2023-08-09T18:20:40.036920274Z",
     "start_time": "2023-08-09T18:20:40.004480135Z"
    }
   },
   "id": "e54c03f7ebfa4690"
  },
  {
   "cell_type": "code",
   "execution_count": null,
   "outputs": [],
   "source": [],
   "metadata": {
    "collapsed": false
   },
   "id": "ddaceedac9e7bc80"
  }
 ],
 "metadata": {
  "kernelspec": {
   "display_name": "Python 3",
   "language": "python",
   "name": "python3"
  },
  "language_info": {
   "codemirror_mode": {
    "name": "ipython",
    "version": 2
   },
   "file_extension": ".py",
   "mimetype": "text/x-python",
   "name": "python",
   "nbconvert_exporter": "python",
   "pygments_lexer": "ipython2",
   "version": "2.7.6"
  }
 },
 "nbformat": 4,
 "nbformat_minor": 5
}
