{
 "cells": [
  {
   "cell_type": "markdown",
   "source": [
    "RealPython\n",
    "https://realpython.com/python-data-structures/"
   ],
   "metadata": {
    "collapsed": false
   },
   "id": "cb9623544f2c71e3"
  },
  {
   "cell_type": "markdown",
   "source": [
    "# Dictionaries\n",
    "Inaczej maps, hashmaps, lookup tables"
   ],
   "metadata": {
    "collapsed": false
   },
   "id": "6ed0381ce6efabe8"
  },
  {
   "cell_type": "markdown",
   "source": [
    "## collections.OrderedDict\n",
    "remember insertion order of keys\n"
   ],
   "metadata": {
    "collapsed": false
   },
   "id": "a4e41feb7f63a337"
  },
  {
   "cell_type": "code",
   "execution_count": 3,
   "outputs": [],
   "source": [
    "import collections"
   ],
   "metadata": {
    "collapsed": false,
    "ExecuteTime": {
     "end_time": "2023-08-09T17:05:58.028769387Z",
     "start_time": "2023-08-09T17:05:57.966328188Z"
    }
   },
   "id": "5021e288d08cef9e"
  },
  {
   "cell_type": "code",
   "execution_count": 4,
   "outputs": [
    {
     "data": {
      "text/plain": "OrderedDict([('one', 1), ('two', 2), ('three', 3)])"
     },
     "execution_count": 4,
     "metadata": {},
     "output_type": "execute_result"
    }
   ],
   "source": [
    "ordered = collections.OrderedDict(one=1, two=2, three=3)\n",
    "ordered"
   ],
   "metadata": {
    "collapsed": false,
    "ExecuteTime": {
     "end_time": "2023-08-09T17:06:34.248242952Z",
     "start_time": "2023-08-09T17:06:34.182070660Z"
    }
   },
   "id": "3b64de4db3f3d042"
  },
  {
   "cell_type": "code",
   "execution_count": 6,
   "outputs": [
    {
     "data": {
      "text/plain": "OrderedDict([('one', 1), ('two', 2), ('three', 3), ('four', 4)])"
     },
     "execution_count": 6,
     "metadata": {},
     "output_type": "execute_result"
    }
   ],
   "source": [
    "ordered[\"four\"] = 4\n",
    "ordered"
   ],
   "metadata": {
    "collapsed": false,
    "ExecuteTime": {
     "end_time": "2023-08-09T17:06:57.373362376Z",
     "start_time": "2023-08-09T17:06:57.314487722Z"
    }
   },
   "id": "24fe2f8967882740"
  },
  {
   "cell_type": "code",
   "execution_count": 7,
   "outputs": [
    {
     "data": {
      "text/plain": "odict_keys(['one', 'two', 'three', 'four'])"
     },
     "execution_count": 7,
     "metadata": {},
     "output_type": "execute_result"
    }
   ],
   "source": [
    "ordered.keys()"
   ],
   "metadata": {
    "collapsed": false,
    "ExecuteTime": {
     "end_time": "2023-08-09T17:07:09.136492914Z",
     "start_time": "2023-08-09T17:07:09.113898954Z"
    }
   },
   "id": "7f7ae69e137f08f7"
  },
  {
   "cell_type": "markdown",
   "source": [
    "## collections.DefaultDict\n",
    "zwraca wartość domyślą jeśli nie będzie klucza"
   ],
   "metadata": {
    "collapsed": false
   },
   "id": "f677f3ffb043ebbe"
  },
  {
   "cell_type": "code",
   "execution_count": 8,
   "outputs": [
    {
     "data": {
      "text/plain": "defaultdict(list, {})"
     },
     "execution_count": 8,
     "metadata": {},
     "output_type": "execute_result"
    }
   ],
   "source": [
    "defaultd = collections.defaultdict(list)  # lista jako domyślny element\n",
    "defaultd"
   ],
   "metadata": {
    "collapsed": false,
    "ExecuteTime": {
     "end_time": "2023-08-09T17:09:35.173430308Z",
     "start_time": "2023-08-09T17:09:35.121483014Z"
    }
   },
   "id": "e1464ed58ed04b87"
  },
  {
   "cell_type": "code",
   "execution_count": 9,
   "outputs": [
    {
     "data": {
      "text/plain": "defaultdict(list, {'dogs': ['Amal', 'Brutus']})"
     },
     "execution_count": 9,
     "metadata": {},
     "output_type": "execute_result"
    }
   ],
   "source": [
    "defaultd[\"dogs\"].append(\"Amal\")\n",
    "defaultd[\"dogs\"].append(\"Brutus\")\n",
    "defaultd"
   ],
   "metadata": {
    "collapsed": false,
    "ExecuteTime": {
     "end_time": "2023-08-09T17:10:27.866259957Z",
     "start_time": "2023-08-09T17:10:27.790081420Z"
    }
   },
   "id": "d1d79f4db3df59dc"
  },
  {
   "cell_type": "code",
   "execution_count": 10,
   "outputs": [
    {
     "data": {
      "text/plain": "[]"
     },
     "execution_count": 10,
     "metadata": {},
     "output_type": "execute_result"
    }
   ],
   "source": [
    "defaultd[\"cats\"]"
   ],
   "metadata": {
    "collapsed": false,
    "ExecuteTime": {
     "end_time": "2023-08-09T17:11:27.920862909Z",
     "start_time": "2023-08-09T17:11:27.846065322Z"
    }
   },
   "id": "502a238cce5ef566"
  },
  {
   "cell_type": "code",
   "execution_count": 11,
   "outputs": [
    {
     "data": {
      "text/plain": "['Amal', 'Brutus']"
     },
     "execution_count": 11,
     "metadata": {},
     "output_type": "execute_result"
    }
   ],
   "source": [
    "defaultd[\"dogs\"]"
   ],
   "metadata": {
    "collapsed": false,
    "ExecuteTime": {
     "end_time": "2023-08-09T17:12:02.123299570Z",
     "start_time": "2023-08-09T17:12:02.091453842Z"
    }
   },
   "id": "ffc696b3191d8db0"
  },
  {
   "cell_type": "markdown",
   "source": [
    "## collections.ChainMap\n",
    "łączy słowniki w celu ich przeszukiwania"
   ],
   "metadata": {
    "collapsed": false
   },
   "id": "21f82db3974223"
  },
  {
   "cell_type": "code",
   "execution_count": 12,
   "outputs": [],
   "source": [
    "chain = collections.ChainMap(ordered, defaultd)"
   ],
   "metadata": {
    "collapsed": false,
    "ExecuteTime": {
     "end_time": "2023-08-09T17:13:32.378194344Z",
     "start_time": "2023-08-09T17:13:32.312114024Z"
    }
   },
   "id": "f56e19e88f1f8707"
  },
  {
   "cell_type": "code",
   "execution_count": 13,
   "outputs": [
    {
     "data": {
      "text/plain": "2"
     },
     "execution_count": 13,
     "metadata": {},
     "output_type": "execute_result"
    }
   ],
   "source": [
    "chain[\"two\"]"
   ],
   "metadata": {
    "collapsed": false,
    "ExecuteTime": {
     "end_time": "2023-08-09T17:13:54.389778769Z",
     "start_time": "2023-08-09T17:13:54.326288718Z"
    }
   },
   "id": "a63fbb14ce15f0af"
  },
  {
   "cell_type": "code",
   "execution_count": 14,
   "outputs": [
    {
     "data": {
      "text/plain": "['Amal', 'Brutus']"
     },
     "execution_count": 14,
     "metadata": {},
     "output_type": "execute_result"
    }
   ],
   "source": [
    "chain[\"dogs\"]"
   ],
   "metadata": {
    "collapsed": false,
    "ExecuteTime": {
     "end_time": "2023-08-09T17:14:00.644168703Z",
     "start_time": "2023-08-09T17:14:00.575838681Z"
    }
   },
   "id": "8af72968c72e2da0"
  },
  {
   "cell_type": "markdown",
   "source": [
    "## types.MappingProxyType\n",
    "wrapper tworzy słownik tylko do odczytu"
   ],
   "metadata": {
    "collapsed": false
   },
   "id": "66e0aab89e874287"
  },
  {
   "cell_type": "code",
   "execution_count": 15,
   "outputs": [],
   "source": [
    "from types import MappingProxyType"
   ],
   "metadata": {
    "collapsed": false,
    "ExecuteTime": {
     "end_time": "2023-08-09T17:16:40.944872286Z",
     "start_time": "2023-08-09T17:16:40.881686736Z"
    }
   },
   "id": "da679dfefee3325c"
  },
  {
   "cell_type": "code",
   "execution_count": 16,
   "outputs": [],
   "source": [
    "writable = {\"one\": 1, \"two\": 2}"
   ],
   "metadata": {
    "collapsed": false,
    "ExecuteTime": {
     "end_time": "2023-08-09T17:17:06.074133003Z",
     "start_time": "2023-08-09T17:17:06.008463931Z"
    }
   },
   "id": "644dcdb04c9da9f"
  },
  {
   "cell_type": "code",
   "execution_count": 17,
   "outputs": [],
   "source": [
    "read_only = MappingProxyType(writable)"
   ],
   "metadata": {
    "collapsed": false,
    "ExecuteTime": {
     "end_time": "2023-08-09T17:17:19.761286176Z",
     "start_time": "2023-08-09T17:17:19.684732148Z"
    }
   },
   "id": "9548e3c10ce04839"
  },
  {
   "cell_type": "code",
   "execution_count": 18,
   "outputs": [
    {
     "data": {
      "text/plain": "1"
     },
     "execution_count": 18,
     "metadata": {},
     "output_type": "execute_result"
    }
   ],
   "source": [
    "read_only[\"one\"]"
   ],
   "metadata": {
    "collapsed": false,
    "ExecuteTime": {
     "end_time": "2023-08-09T17:17:27.045970394Z",
     "start_time": "2023-08-09T17:17:26.991500536Z"
    }
   },
   "id": "3d9a6f6367bb8c78"
  },
  {
   "cell_type": "code",
   "execution_count": 19,
   "outputs": [
    {
     "ename": "TypeError",
     "evalue": "'mappingproxy' object does not support item assignment",
     "output_type": "error",
     "traceback": [
      "\u001B[0;31m---------------------------------------------------------------------------\u001B[0m",
      "\u001B[0;31mTypeError\u001B[0m                                 Traceback (most recent call last)",
      "Cell \u001B[0;32mIn[19], line 1\u001B[0m\n\u001B[0;32m----> 1\u001B[0m \u001B[43mread_only\u001B[49m\u001B[43m[\u001B[49m\u001B[38;5;124;43m\"\u001B[39;49m\u001B[38;5;124;43mone\u001B[39;49m\u001B[38;5;124;43m\"\u001B[39;49m\u001B[43m]\u001B[49m \u001B[38;5;241m=\u001B[39m \u001B[38;5;241m42\u001B[39m\n",
      "\u001B[0;31mTypeError\u001B[0m: 'mappingproxy' object does not support item assignment"
     ]
    }
   ],
   "source": [
    "read_only[\"one\"] = 42"
   ],
   "metadata": {
    "collapsed": false,
    "ExecuteTime": {
     "end_time": "2023-08-09T17:17:38.835439380Z",
     "start_time": "2023-08-09T17:17:38.662033412Z"
    }
   },
   "id": "e59f033bd9cf7559"
  },
  {
   "cell_type": "markdown",
   "source": [
    "# Array Data Structures"
   ],
   "metadata": {
    "collapsed": false
   },
   "id": "80cb71f75e2ef0ab"
  },
  {
   "cell_type": "markdown",
   "source": [
    "## list: Mutable Dynamic Array"
   ],
   "metadata": {
    "collapsed": false
   },
   "id": "2c8a87267eccef61"
  },
  {
   "cell_type": "code",
   "execution_count": 21,
   "outputs": [
    {
     "data": {
      "text/plain": "['one', 'two', 'three']"
     },
     "execution_count": 21,
     "metadata": {},
     "output_type": "execute_result"
    }
   ],
   "source": [
    "arr = [\"one\", \"two\", \"three\"]\n",
    "arr"
   ],
   "metadata": {
    "collapsed": false,
    "ExecuteTime": {
     "end_time": "2023-08-09T17:32:34.205685684Z",
     "start_time": "2023-08-09T17:32:34.174822910Z"
    }
   },
   "id": "9be087c6a2fe2a3a"
  },
  {
   "cell_type": "code",
   "execution_count": 26,
   "outputs": [
    {
     "data": {
      "text/plain": "['one', 'hello', 'three']"
     },
     "execution_count": 26,
     "metadata": {},
     "output_type": "execute_result"
    }
   ],
   "source": [
    "arr[1] = \"hello\"\n",
    "arr"
   ],
   "metadata": {
    "collapsed": false,
    "ExecuteTime": {
     "end_time": "2023-08-09T17:34:35.747935119Z",
     "start_time": "2023-08-09T17:34:35.705679738Z"
    }
   },
   "id": "3334d296da584ae"
  },
  {
   "cell_type": "code",
   "execution_count": 27,
   "outputs": [
    {
     "data": {
      "text/plain": "['one', 'three']"
     },
     "execution_count": 27,
     "metadata": {},
     "output_type": "execute_result"
    }
   ],
   "source": [
    "del arr[1]\n",
    "arr"
   ],
   "metadata": {
    "collapsed": false,
    "ExecuteTime": {
     "end_time": "2023-08-09T17:34:46.863368311Z",
     "start_time": "2023-08-09T17:34:46.823146023Z"
    }
   },
   "id": "657c16283e2a34bb"
  },
  {
   "cell_type": "code",
   "execution_count": 29,
   "outputs": [
    {
     "data": {
      "text/plain": "['one', 'three', 23, 23]"
     },
     "execution_count": 29,
     "metadata": {},
     "output_type": "execute_result"
    }
   ],
   "source": [
    "arr.append(23)\n",
    "arr"
   ],
   "metadata": {
    "collapsed": false,
    "ExecuteTime": {
     "end_time": "2023-08-09T17:35:01.535204348Z",
     "start_time": "2023-08-09T17:35:01.487336143Z"
    }
   },
   "id": "97b5145536ccb8a2"
  },
  {
   "cell_type": "markdown",
   "source": [
    "## tuple: Immutable Container"
   ],
   "metadata": {
    "collapsed": false
   },
   "id": "84449c5d0cb0178a"
  },
  {
   "cell_type": "code",
   "execution_count": 30,
   "outputs": [
    {
     "data": {
      "text/plain": "'two'"
     },
     "execution_count": 30,
     "metadata": {},
     "output_type": "execute_result"
    }
   ],
   "source": [
    "tup = (\"one\", \"two\", \"three\")\n",
    "tup[1]"
   ],
   "metadata": {
    "collapsed": false,
    "ExecuteTime": {
     "end_time": "2023-08-09T17:52:05.019637316Z",
     "start_time": "2023-08-09T17:52:04.936154650Z"
    }
   },
   "id": "8187fd2b4a862709"
  },
  {
   "cell_type": "code",
   "execution_count": 31,
   "outputs": [
    {
     "ename": "TypeError",
     "evalue": "'tuple' object doesn't support item deletion",
     "output_type": "error",
     "traceback": [
      "\u001B[0;31m---------------------------------------------------------------------------\u001B[0m",
      "\u001B[0;31mTypeError\u001B[0m                                 Traceback (most recent call last)",
      "Cell \u001B[0;32mIn[31], line 1\u001B[0m\n\u001B[0;32m----> 1\u001B[0m \u001B[38;5;28;01mdel\u001B[39;00m \u001B[43mtup\u001B[49m\u001B[43m[\u001B[49m\u001B[38;5;241;43m1\u001B[39;49m\u001B[43m]\u001B[49m\n",
      "\u001B[0;31mTypeError\u001B[0m: 'tuple' object doesn't support item deletion"
     ]
    }
   ],
   "source": [
    "del tup[1]"
   ],
   "metadata": {
    "collapsed": false,
    "ExecuteTime": {
     "end_time": "2023-08-09T17:52:33.967064613Z",
     "start_time": "2023-08-09T17:52:33.894761933Z"
    }
   },
   "id": "262eeb30a82f2f6f"
  },
  {
   "cell_type": "code",
   "execution_count": 32,
   "outputs": [
    {
     "data": {
      "text/plain": "('one', 'two', 'three', 23)"
     },
     "execution_count": 32,
     "metadata": {},
     "output_type": "execute_result"
    }
   ],
   "source": [
    "tup + (23,)"
   ],
   "metadata": {
    "collapsed": false,
    "ExecuteTime": {
     "end_time": "2023-08-09T17:52:46.158994249Z",
     "start_time": "2023-08-09T17:52:46.093230863Z"
    }
   },
   "id": "9f1eda66b468536e"
  },
  {
   "cell_type": "code",
   "execution_count": 33,
   "outputs": [
    {
     "data": {
      "text/plain": "('one', 'two', 'three')"
     },
     "execution_count": 33,
     "metadata": {},
     "output_type": "execute_result"
    }
   ],
   "source": [
    "tup"
   ],
   "metadata": {
    "collapsed": false,
    "ExecuteTime": {
     "end_time": "2023-08-09T17:52:50.352227576Z",
     "start_time": "2023-08-09T17:52:50.294437390Z"
    }
   },
   "id": "8523f6b2c0550eef"
  },
  {
   "cell_type": "markdown",
   "source": [
    "## array.array: Basic Type Array\n",
    "typowana lista, tj. przyjmuje tylko jeden typ danych\n",
    "bardziej efektywne jeśli chodzi o pamięć"
   ],
   "metadata": {
    "collapsed": false
   },
   "id": "8c02d2fdf2c1c946"
  },
  {
   "cell_type": "code",
   "execution_count": 34,
   "outputs": [],
   "source": [
    "import array"
   ],
   "metadata": {
    "collapsed": false,
    "ExecuteTime": {
     "end_time": "2023-08-09T17:56:54.036104697Z",
     "start_time": "2023-08-09T17:56:53.961871506Z"
    }
   },
   "id": "a156623491638d17"
  },
  {
   "cell_type": "code",
   "execution_count": 35,
   "outputs": [
    {
     "data": {
      "text/plain": "array('f', [1.0, 1.5, 2.0, 2.5])"
     },
     "execution_count": 35,
     "metadata": {},
     "output_type": "execute_result"
    }
   ],
   "source": [
    "ar = array.array(\"f\", (1.0, 1.5, 2.0, 2.5))\n",
    "ar"
   ],
   "metadata": {
    "collapsed": false,
    "ExecuteTime": {
     "end_time": "2023-08-09T17:57:31.786343681Z",
     "start_time": "2023-08-09T17:57:31.708600717Z"
    }
   },
   "id": "5629624896c82433"
  },
  {
   "cell_type": "code",
   "execution_count": 37,
   "outputs": [
    {
     "data": {
      "text/plain": "array('f', [1.0, 23.0, 2.0, 2.5])"
     },
     "execution_count": 37,
     "metadata": {},
     "output_type": "execute_result"
    }
   ],
   "source": [
    "ar[1] = 23\n",
    "ar"
   ],
   "metadata": {
    "collapsed": false,
    "ExecuteTime": {
     "end_time": "2023-08-09T17:57:53.481769969Z",
     "start_time": "2023-08-09T17:57:53.416796087Z"
    }
   },
   "id": "500ade79513e2bd"
  },
  {
   "cell_type": "code",
   "execution_count": 39,
   "outputs": [
    {
     "data": {
      "text/plain": "array('f', [1.0, 23.0, 2.0, 2.5, 42.0, 42.0])"
     },
     "execution_count": 39,
     "metadata": {},
     "output_type": "execute_result"
    }
   ],
   "source": [
    "ar.append(42)\n",
    "ar"
   ],
   "metadata": {
    "collapsed": false,
    "ExecuteTime": {
     "end_time": "2023-08-09T17:58:09.724297313Z",
     "start_time": "2023-08-09T17:58:09.679107576Z"
    }
   },
   "id": "188577baa87d059f"
  },
  {
   "cell_type": "code",
   "execution_count": 40,
   "outputs": [
    {
     "ename": "TypeError",
     "evalue": "must be real number, not str",
     "output_type": "error",
     "traceback": [
      "\u001B[0;31m---------------------------------------------------------------------------\u001B[0m",
      "\u001B[0;31mTypeError\u001B[0m                                 Traceback (most recent call last)",
      "Cell \u001B[0;32mIn[40], line 1\u001B[0m\n\u001B[0;32m----> 1\u001B[0m \u001B[43mar\u001B[49m\u001B[43m[\u001B[49m\u001B[38;5;241;43m1\u001B[39;49m\u001B[43m]\u001B[49m \u001B[38;5;241m=\u001B[39m \u001B[38;5;124m\"\u001B[39m\u001B[38;5;124mhello\u001B[39m\u001B[38;5;124m\"\u001B[39m\n",
      "\u001B[0;31mTypeError\u001B[0m: must be real number, not str"
     ]
    }
   ],
   "source": [
    "ar[1] = \"hello\""
   ],
   "metadata": {
    "collapsed": false,
    "ExecuteTime": {
     "end_time": "2023-08-09T17:58:22.528929279Z",
     "start_time": "2023-08-09T17:58:22.477373288Z"
    }
   },
   "id": "1107ce73ed17e7d7"
  },
  {
   "cell_type": "markdown",
   "source": [
    "## str: immutable arrays of unicode characters\n"
   ],
   "metadata": {
    "collapsed": false
   },
   "id": "43281e585649e991"
  },
  {
   "cell_type": "code",
   "execution_count": 41,
   "outputs": [
    {
     "data": {
      "text/plain": "'abcd'"
     },
     "execution_count": 41,
     "metadata": {},
     "output_type": "execute_result"
    }
   ],
   "source": [
    "string = \"abcd\"\n",
    "string"
   ],
   "metadata": {
    "collapsed": false,
    "ExecuteTime": {
     "end_time": "2023-08-09T18:00:25.514914088Z",
     "start_time": "2023-08-09T18:00:25.464117436Z"
    }
   },
   "id": "b320abf192b341cf"
  },
  {
   "cell_type": "code",
   "execution_count": 42,
   "outputs": [
    {
     "data": {
      "text/plain": "'b'"
     },
     "execution_count": 42,
     "metadata": {},
     "output_type": "execute_result"
    }
   ],
   "source": [
    "string[1]"
   ],
   "metadata": {
    "collapsed": false,
    "ExecuteTime": {
     "end_time": "2023-08-09T18:00:29.315774770Z",
     "start_time": "2023-08-09T18:00:29.267907423Z"
    }
   },
   "id": "8abd9aa87f2695d4"
  },
  {
   "cell_type": "code",
   "execution_count": 44,
   "outputs": [
    {
     "ename": "TypeError",
     "evalue": "'str' object does not support item assignment",
     "output_type": "error",
     "traceback": [
      "\u001B[0;31m---------------------------------------------------------------------------\u001B[0m",
      "\u001B[0;31mTypeError\u001B[0m                                 Traceback (most recent call last)",
      "Cell \u001B[0;32mIn[44], line 1\u001B[0m\n\u001B[0;32m----> 1\u001B[0m \u001B[43mstring\u001B[49m\u001B[43m[\u001B[49m\u001B[38;5;241;43m1\u001B[39;49m\u001B[43m]\u001B[49m \u001B[38;5;241m=\u001B[39m \u001B[38;5;124m\"\u001B[39m\u001B[38;5;124me\u001B[39m\u001B[38;5;124m\"\u001B[39m\n",
      "\u001B[0;31mTypeError\u001B[0m: 'str' object does not support item assignment"
     ]
    }
   ],
   "source": [
    "string[1] = \"e\""
   ],
   "metadata": {
    "collapsed": false,
    "ExecuteTime": {
     "end_time": "2023-08-09T18:00:48.452798241Z",
     "start_time": "2023-08-09T18:00:48.379473684Z"
    }
   },
   "id": "94d23ec854b17b5c"
  },
  {
   "cell_type": "code",
   "execution_count": 45,
   "outputs": [
    {
     "ename": "TypeError",
     "evalue": "'str' object doesn't support item deletion",
     "output_type": "error",
     "traceback": [
      "\u001B[0;31m---------------------------------------------------------------------------\u001B[0m",
      "\u001B[0;31mTypeError\u001B[0m                                 Traceback (most recent call last)",
      "Cell \u001B[0;32mIn[45], line 1\u001B[0m\n\u001B[0;32m----> 1\u001B[0m \u001B[38;5;28;01mdel\u001B[39;00m \u001B[43mstring\u001B[49m\u001B[43m[\u001B[49m\u001B[38;5;241;43m1\u001B[39;49m\u001B[43m]\u001B[49m\n",
      "\u001B[0;31mTypeError\u001B[0m: 'str' object doesn't support item deletion"
     ]
    }
   ],
   "source": [
    "del string[1]"
   ],
   "metadata": {
    "collapsed": false,
    "ExecuteTime": {
     "end_time": "2023-08-09T18:01:07.555743180Z",
     "start_time": "2023-08-09T18:01:07.519866689Z"
    }
   },
   "id": "826d15bf895d51ce"
  },
  {
   "cell_type": "code",
   "execution_count": 46,
   "outputs": [
    {
     "data": {
      "text/plain": "str"
     },
     "execution_count": 46,
     "metadata": {},
     "output_type": "execute_result"
    }
   ],
   "source": [
    "type(string)"
   ],
   "metadata": {
    "collapsed": false,
    "ExecuteTime": {
     "end_time": "2023-08-09T18:01:26.960313552Z",
     "start_time": "2023-08-09T18:01:26.874525779Z"
    }
   },
   "id": "7b8fc690bd67822c"
  },
  {
   "cell_type": "code",
   "execution_count": 47,
   "outputs": [
    {
     "data": {
      "text/plain": "str"
     },
     "execution_count": 47,
     "metadata": {},
     "output_type": "execute_result"
    }
   ],
   "source": [
    "type(string[1])"
   ],
   "metadata": {
    "collapsed": false,
    "ExecuteTime": {
     "end_time": "2023-08-09T18:01:31.765498964Z",
     "start_time": "2023-08-09T18:01:31.692106218Z"
    }
   },
   "id": "b6b5587a51bbbfa3"
  },
  {
   "cell_type": "markdown",
   "source": [
    "## bytes: Immutable Arrays of Single Bytes\n",
    "sekwencja bitów lub integerów między 0 a 255"
   ],
   "metadata": {
    "collapsed": false
   },
   "id": "6f9cb5f82e20a1ab"
  },
  {
   "cell_type": "code",
   "execution_count": 48,
   "outputs": [
    {
     "data": {
      "text/plain": "2"
     },
     "execution_count": 48,
     "metadata": {},
     "output_type": "execute_result"
    }
   ],
   "source": [
    "byt = bytes((1, 2, 3, 4))\n",
    "byt[1]"
   ],
   "metadata": {
    "collapsed": false,
    "ExecuteTime": {
     "end_time": "2023-08-09T18:03:13.065505408Z",
     "start_time": "2023-08-09T18:03:13.015439161Z"
    }
   },
   "id": "6cf5ca667cdce320"
  },
  {
   "cell_type": "code",
   "execution_count": 49,
   "outputs": [
    {
     "data": {
      "text/plain": "b'\\x01\\x02\\x03\\x04'"
     },
     "execution_count": 49,
     "metadata": {},
     "output_type": "execute_result"
    }
   ],
   "source": [
    "byt"
   ],
   "metadata": {
    "collapsed": false,
    "ExecuteTime": {
     "end_time": "2023-08-09T18:03:19.396420703Z",
     "start_time": "2023-08-09T18:03:19.309263332Z"
    }
   },
   "id": "5cf212195dca9c52"
  },
  {
   "cell_type": "code",
   "execution_count": 50,
   "outputs": [
    {
     "ename": "TypeError",
     "evalue": "'bytes' object does not support item assignment",
     "output_type": "error",
     "traceback": [
      "\u001B[0;31m---------------------------------------------------------------------------\u001B[0m",
      "\u001B[0;31mTypeError\u001B[0m                                 Traceback (most recent call last)",
      "Cell \u001B[0;32mIn[50], line 1\u001B[0m\n\u001B[0;32m----> 1\u001B[0m \u001B[43mbyt\u001B[49m\u001B[43m[\u001B[49m\u001B[38;5;241;43m1\u001B[39;49m\u001B[43m]\u001B[49m \u001B[38;5;241m=\u001B[39m \u001B[38;5;241m5\u001B[39m\n",
      "\u001B[0;31mTypeError\u001B[0m: 'bytes' object does not support item assignment"
     ]
    }
   ],
   "source": [
    "byt[1] = 5"
   ],
   "metadata": {
    "collapsed": false,
    "ExecuteTime": {
     "end_time": "2023-08-09T18:03:50.019675974Z",
     "start_time": "2023-08-09T18:03:49.920837755Z"
    }
   },
   "id": "d321f0ca7a975e2f"
  },
  {
   "cell_type": "code",
   "execution_count": 51,
   "outputs": [
    {
     "ename": "TypeError",
     "evalue": "'bytes' object doesn't support item deletion",
     "output_type": "error",
     "traceback": [
      "\u001B[0;31m---------------------------------------------------------------------------\u001B[0m",
      "\u001B[0;31mTypeError\u001B[0m                                 Traceback (most recent call last)",
      "Cell \u001B[0;32mIn[51], line 1\u001B[0m\n\u001B[0;32m----> 1\u001B[0m \u001B[38;5;28;01mdel\u001B[39;00m \u001B[43mbyt\u001B[49m\u001B[43m[\u001B[49m\u001B[38;5;241;43m1\u001B[39;49m\u001B[43m]\u001B[49m\n",
      "\u001B[0;31mTypeError\u001B[0m: 'bytes' object doesn't support item deletion"
     ]
    }
   ],
   "source": [
    "del byt[1]"
   ],
   "metadata": {
    "collapsed": false,
    "ExecuteTime": {
     "end_time": "2023-08-09T18:03:58.379165155Z",
     "start_time": "2023-08-09T18:03:58.321021402Z"
    }
   },
   "id": "41de62709efca9f2"
  },
  {
   "cell_type": "code",
   "execution_count": 52,
   "outputs": [
    {
     "ename": "ValueError",
     "evalue": "bytes must be in range(0, 256)",
     "output_type": "error",
     "traceback": [
      "\u001B[0;31m---------------------------------------------------------------------------\u001B[0m",
      "\u001B[0;31mValueError\u001B[0m                                Traceback (most recent call last)",
      "Cell \u001B[0;32mIn[52], line 1\u001B[0m\n\u001B[0;32m----> 1\u001B[0m \u001B[38;5;28;43mbytes\u001B[39;49m\u001B[43m(\u001B[49m\u001B[43m(\u001B[49m\u001B[38;5;241;43m0\u001B[39;49m\u001B[43m,\u001B[49m\u001B[43m \u001B[49m\u001B[38;5;241;43m1\u001B[39;49m\u001B[43m,\u001B[49m\u001B[43m \u001B[49m\u001B[38;5;241;43m300\u001B[39;49m\u001B[43m)\u001B[49m\u001B[43m)\u001B[49m\n",
      "\u001B[0;31mValueError\u001B[0m: bytes must be in range(0, 256)"
     ]
    }
   ],
   "source": [
    "bytes((0, 1, 300))"
   ],
   "metadata": {
    "collapsed": false,
    "ExecuteTime": {
     "end_time": "2023-08-09T18:04:09.208849748Z",
     "start_time": "2023-08-09T18:04:09.040656087Z"
    }
   },
   "id": "125e25dd19b4f157"
  },
  {
   "cell_type": "markdown",
   "source": [
    "## bytearray: Mutable Arrays of Single Bytes\n",
    "jak wyżej, ale mutowalne"
   ],
   "metadata": {
    "collapsed": false
   },
   "id": "57a9e9bc51cc56d4"
  },
  {
   "cell_type": "code",
   "execution_count": 53,
   "outputs": [
    {
     "data": {
      "text/plain": "bytearray(b'\\x01\\x02\\x03\\x04')"
     },
     "execution_count": 53,
     "metadata": {},
     "output_type": "execute_result"
    }
   ],
   "source": [
    "bytear = bytearray((1, 2, 3, 4))\n",
    "bytear"
   ],
   "metadata": {
    "collapsed": false,
    "ExecuteTime": {
     "end_time": "2023-08-09T18:18:54.642162027Z",
     "start_time": "2023-08-09T18:18:54.562991357Z"
    }
   },
   "id": "19418a89d4cfa7db"
  },
  {
   "cell_type": "code",
   "execution_count": 55,
   "outputs": [
    {
     "data": {
      "text/plain": "bytearray(b'\\x01\\x17\\x03\\x04')"
     },
     "execution_count": 55,
     "metadata": {},
     "output_type": "execute_result"
    }
   ],
   "source": [
    "bytear[1] = 23\n",
    "bytear"
   ],
   "metadata": {
    "collapsed": false,
    "ExecuteTime": {
     "end_time": "2023-08-09T18:19:31.343941200Z",
     "start_time": "2023-08-09T18:19:31.297350107Z"
    }
   },
   "id": "4386cf94994aa395"
  },
  {
   "cell_type": "code",
   "execution_count": 56,
   "outputs": [],
   "source": [
    "del bytear[1]"
   ],
   "metadata": {
    "collapsed": false,
    "ExecuteTime": {
     "end_time": "2023-08-09T18:19:50.928664713Z",
     "start_time": "2023-08-09T18:19:50.845706190Z"
    }
   },
   "id": "b73f3913a9aa9be3"
  },
  {
   "cell_type": "code",
   "execution_count": 57,
   "outputs": [
    {
     "data": {
      "text/plain": "bytearray(b'\\x01\\x03\\x04')"
     },
     "execution_count": 57,
     "metadata": {},
     "output_type": "execute_result"
    }
   ],
   "source": [
    "bytear"
   ],
   "metadata": {
    "collapsed": false,
    "ExecuteTime": {
     "end_time": "2023-08-09T18:19:55.823080159Z",
     "start_time": "2023-08-09T18:19:55.739639230Z"
    }
   },
   "id": "123a6565efbfb437"
  },
  {
   "cell_type": "code",
   "execution_count": 58,
   "outputs": [
    {
     "ename": "ValueError",
     "evalue": "byte must be in range(0, 256)",
     "output_type": "error",
     "traceback": [
      "\u001B[0;31m---------------------------------------------------------------------------\u001B[0m",
      "\u001B[0;31mValueError\u001B[0m                                Traceback (most recent call last)",
      "Cell \u001B[0;32mIn[58], line 1\u001B[0m\n\u001B[0;32m----> 1\u001B[0m \u001B[43mbytear\u001B[49m\u001B[43m[\u001B[49m\u001B[38;5;241;43m1\u001B[39;49m\u001B[43m]\u001B[49m \u001B[38;5;241m=\u001B[39m \u001B[38;5;241m300\u001B[39m\n",
      "\u001B[0;31mValueError\u001B[0m: byte must be in range(0, 256)"
     ]
    }
   ],
   "source": [
    "bytear[1] = 300"
   ],
   "metadata": {
    "collapsed": false,
    "ExecuteTime": {
     "end_time": "2023-08-09T18:20:13.725131059Z",
     "start_time": "2023-08-09T18:20:13.633596340Z"
    }
   },
   "id": "5d798ea012a0e009"
  },
  {
   "cell_type": "code",
   "execution_count": 60,
   "outputs": [
    {
     "data": {
      "text/plain": "b'\\x01\\x03\\x04'"
     },
     "execution_count": 60,
     "metadata": {},
     "output_type": "execute_result"
    }
   ],
   "source": [
    "bytes(bytear)"
   ],
   "metadata": {
    "collapsed": false,
    "ExecuteTime": {
     "end_time": "2023-08-09T18:20:40.036920274Z",
     "start_time": "2023-08-09T18:20:40.004480135Z"
    }
   },
   "id": "e54c03f7ebfa4690"
  },
  {
   "cell_type": "markdown",
   "source": [
    "# Records, Structs and Data Transfer Objects\n",
    "Record data structures provide fixed number of fields. Each field can have a name and different data type."
   ],
   "metadata": {
    "collapsed": false
   },
   "id": "e3e46226355cb8d3"
  },
  {
   "cell_type": "markdown",
   "source": [
    "## dict: Simple Data Objects\n",
    "mutable"
   ],
   "metadata": {
    "collapsed": false
   },
   "id": "1b46dcfb162d0405"
  },
  {
   "cell_type": "code",
   "execution_count": 61,
   "outputs": [],
   "source": [
    "car1 = {\"color\": \"red\", \"mileage\": 1000, \"automatic\": True}\n",
    "car2 = {\"color\": \"blue\", \"mileage\": 5000, \"automatic\": False}\n"
   ],
   "metadata": {
    "collapsed": false,
    "ExecuteTime": {
     "end_time": "2023-08-09T18:46:00.863637823Z",
     "start_time": "2023-08-09T18:46:00.771615141Z"
    }
   },
   "id": "408ec2d05de5882d"
  },
  {
   "cell_type": "code",
   "execution_count": 62,
   "outputs": [
    {
     "data": {
      "text/plain": "{'color': 'red', 'mileage': 1000, 'automatic': True}"
     },
     "execution_count": 62,
     "metadata": {},
     "output_type": "execute_result"
    }
   ],
   "source": [
    "car1"
   ],
   "metadata": {
    "collapsed": false,
    "ExecuteTime": {
     "end_time": "2023-08-09T18:46:02.661873896Z",
     "start_time": "2023-08-09T18:46:02.593884728Z"
    }
   },
   "id": "bd2f322806999b1b"
  },
  {
   "cell_type": "code",
   "execution_count": 63,
   "outputs": [],
   "source": [
    "car1[\"windshield\"] = \"broken\""
   ],
   "metadata": {
    "collapsed": false,
    "ExecuteTime": {
     "end_time": "2023-08-09T18:46:19.442441338Z",
     "start_time": "2023-08-09T18:46:19.372213567Z"
    }
   },
   "id": "b8477813a9f421aa"
  },
  {
   "cell_type": "code",
   "execution_count": 64,
   "outputs": [
    {
     "data": {
      "text/plain": "{'color': 'red', 'mileage': 1000, 'automatic': True, 'windshield': 'broken'}"
     },
     "execution_count": 64,
     "metadata": {},
     "output_type": "execute_result"
    }
   ],
   "source": [
    "car1"
   ],
   "metadata": {
    "collapsed": false,
    "ExecuteTime": {
     "end_time": "2023-08-09T18:46:23.163737809Z",
     "start_time": "2023-08-09T18:46:23.082471855Z"
    }
   },
   "id": "6c35745523b89389"
  },
  {
   "cell_type": "markdown",
   "source": [
    "## tuples: Immutable Groups of Objects\n",
    "grouping of arbitrary objects, immutable"
   ],
   "metadata": {
    "collapsed": false
   },
   "id": "a52d36ecf53aa877"
  },
  {
   "cell_type": "code",
   "execution_count": 65,
   "outputs": [],
   "source": [
    "car3 = (\"green\", 20000, True)"
   ],
   "metadata": {
    "collapsed": false,
    "ExecuteTime": {
     "end_time": "2023-08-09T18:49:23.933772038Z",
     "start_time": "2023-08-09T18:49:23.819421349Z"
    }
   },
   "id": "44e737cc160cbc4a"
  },
  {
   "cell_type": "markdown",
   "source": [
    "## Custom Class\n",
    "define reusable blueprints for data objects with the same set of fields"
   ],
   "metadata": {
    "collapsed": false
   },
   "id": "ebb2d8c205c66558"
  },
  {
   "cell_type": "code",
   "execution_count": 66,
   "outputs": [],
   "source": [
    "class Car:\n",
    "    def __init__(self, color, mileage, automatic):\n",
    "        self.color = color\n",
    "        self.mileage = mileage\n",
    "        self.automatic = automatic"
   ],
   "metadata": {
    "collapsed": false,
    "ExecuteTime": {
     "end_time": "2023-08-09T18:51:54.409185738Z",
     "start_time": "2023-08-09T18:51:54.271301502Z"
    }
   },
   "id": "57e828a3e2400ad0"
  },
  {
   "cell_type": "code",
   "execution_count": 68,
   "outputs": [
    {
     "data": {
      "text/plain": "'<__main__.Car object at 0x7f341076f050>'"
     },
     "execution_count": 68,
     "metadata": {},
     "output_type": "execute_result"
    }
   ],
   "source": [
    "car4 = Car(\"black\", 900, False)\n",
    "repr(car4)"
   ],
   "metadata": {
    "collapsed": false,
    "ExecuteTime": {
     "end_time": "2023-08-09T18:52:24.146420823Z",
     "start_time": "2023-08-09T18:52:24.122786359Z"
    }
   },
   "id": "fd9da847d62ac35c"
  },
  {
   "cell_type": "markdown",
   "source": [
    "## dataclasses.dataclass Python 3.7+\n",
    "excellent for data storage, shorter syntax than class, repr autogenerated"
   ],
   "metadata": {
    "collapsed": false
   },
   "id": "3e194eb182ebdf9d"
  },
  {
   "cell_type": "code",
   "execution_count": 69,
   "outputs": [],
   "source": [
    "from dataclasses import dataclass"
   ],
   "metadata": {
    "collapsed": false,
    "ExecuteTime": {
     "end_time": "2023-08-09T18:54:32.631827785Z",
     "start_time": "2023-08-09T18:54:32.526535963Z"
    }
   },
   "id": "3b72c8bb0a1c4a19"
  },
  {
   "cell_type": "code",
   "execution_count": 70,
   "outputs": [],
   "source": [
    "@dataclass\n",
    "class Carr:\n",
    "    color: str\n",
    "    mileage: int\n",
    "    automatic: bool"
   ],
   "metadata": {
    "collapsed": false,
    "ExecuteTime": {
     "end_time": "2023-08-09T18:55:08.567230777Z",
     "start_time": "2023-08-09T18:55:08.447348296Z"
    }
   },
   "id": "5bc4c4abc13eea63"
  },
  {
   "cell_type": "code",
   "execution_count": 71,
   "outputs": [
    {
     "data": {
      "text/plain": "Carr(color='yellow', mileage=300, automatic=True)"
     },
     "execution_count": 71,
     "metadata": {},
     "output_type": "execute_result"
    }
   ],
   "source": [
    "car5 = Carr(\"yellow\", 300, True)\n",
    "car5"
   ],
   "metadata": {
    "collapsed": false,
    "ExecuteTime": {
     "end_time": "2023-08-09T18:55:38.737232851Z",
     "start_time": "2023-08-09T18:55:38.655628375Z"
    }
   },
   "id": "ea8fe90d3772ee14"
  },
  {
   "cell_type": "markdown",
   "source": [
    "## collections.NamedTuple: Convenient Data Objects\n",
    "similar to class, define reusable blueprints to ensure correct fields are used\n",
    "immutable once created, memory efficient like tuples"
   ],
   "metadata": {
    "collapsed": false
   },
   "id": "63530f1db05225b0"
  },
  {
   "cell_type": "code",
   "execution_count": 72,
   "outputs": [],
   "source": [
    "from collections import namedtuple"
   ],
   "metadata": {
    "collapsed": false,
    "ExecuteTime": {
     "end_time": "2023-08-09T19:02:40.649743906Z",
     "start_time": "2023-08-09T19:02:40.589924809Z"
    }
   },
   "id": "16f68c7d96729f50"
  },
  {
   "cell_type": "code",
   "execution_count": 76,
   "outputs": [],
   "source": [
    "samochod = namedtuple(\"Car\", \"color mileage automatic\")"
   ],
   "metadata": {
    "collapsed": false,
    "ExecuteTime": {
     "end_time": "2023-08-09T19:05:08.246797792Z",
     "start_time": "2023-08-09T19:05:08.225422899Z"
    }
   },
   "id": "13da266feeae698b"
  },
  {
   "cell_type": "code",
   "execution_count": 77,
   "outputs": [
    {
     "data": {
      "text/plain": "Car(color='white', mileage=876, automatic=False)"
     },
     "execution_count": 77,
     "metadata": {},
     "output_type": "execute_result"
    }
   ],
   "source": [
    "auto1 = samochod(\"white\", 876, False)\n",
    "auto1"
   ],
   "metadata": {
    "collapsed": false,
    "ExecuteTime": {
     "end_time": "2023-08-09T19:05:36.348855050Z",
     "start_time": "2023-08-09T19:05:36.289850116Z"
    }
   },
   "id": "5c185d19c2a077af"
  },
  {
   "cell_type": "code",
   "execution_count": 78,
   "outputs": [
    {
     "data": {
      "text/plain": "876"
     },
     "execution_count": 78,
     "metadata": {},
     "output_type": "execute_result"
    }
   ],
   "source": [
    "auto1.mileage"
   ],
   "metadata": {
    "collapsed": false,
    "ExecuteTime": {
     "end_time": "2023-08-09T19:05:54.913592870Z",
     "start_time": "2023-08-09T19:05:54.850277322Z"
    }
   },
   "id": "a64b0ffc4d51f835"
  },
  {
   "cell_type": "code",
   "execution_count": 79,
   "outputs": [
    {
     "ename": "AttributeError",
     "evalue": "can't set attribute",
     "output_type": "error",
     "traceback": [
      "\u001B[0;31m---------------------------------------------------------------------------\u001B[0m",
      "\u001B[0;31mAttributeError\u001B[0m                            Traceback (most recent call last)",
      "Cell \u001B[0;32mIn[79], line 1\u001B[0m\n\u001B[0;32m----> 1\u001B[0m \u001B[43mauto1\u001B[49m\u001B[38;5;241;43m.\u001B[39;49m\u001B[43mmileage\u001B[49m \u001B[38;5;241m=\u001B[39m \u001B[38;5;241m12\u001B[39m\n",
      "\u001B[0;31mAttributeError\u001B[0m: can't set attribute"
     ]
    }
   ],
   "source": [
    "auto1.mileage = 12"
   ],
   "metadata": {
    "collapsed": false,
    "ExecuteTime": {
     "end_time": "2023-08-09T19:06:01.514338674Z",
     "start_time": "2023-08-09T19:06:01.428119764Z"
    }
   },
   "id": "5e59326af39916c7"
  },
  {
   "cell_type": "markdown",
   "source": [
    "## typing.NamedTuples: Improved NamedTuples\n",
    "updated syntax for new record types and add support for type hints with mypy\n",
    "immutable"
   ],
   "metadata": {
    "collapsed": false
   },
   "id": "8b372975efac6b2f"
  },
  {
   "cell_type": "code",
   "execution_count": 80,
   "outputs": [],
   "source": [
    "from typing import NamedTuple"
   ],
   "metadata": {
    "collapsed": false,
    "ExecuteTime": {
     "end_time": "2023-08-09T19:12:18.030165429Z",
     "start_time": "2023-08-09T19:12:17.966984293Z"
    }
   },
   "id": "76ff6ca526ac34ef"
  },
  {
   "cell_type": "code",
   "execution_count": 81,
   "outputs": [],
   "source": [
    "class Vehicle(NamedTuple):\n",
    "    color: str\n",
    "    mileage: int\n",
    "    automatic: bool"
   ],
   "metadata": {
    "collapsed": false,
    "ExecuteTime": {
     "end_time": "2023-08-09T19:12:52.331169048Z",
     "start_time": "2023-08-09T19:12:52.249874049Z"
    }
   },
   "id": "6a38b36a2272a34"
  },
  {
   "cell_type": "code",
   "execution_count": 82,
   "outputs": [
    {
     "data": {
      "text/plain": "Vehicle(color='purple', mileage=10, automatic=True)"
     },
     "execution_count": 82,
     "metadata": {},
     "output_type": "execute_result"
    }
   ],
   "source": [
    "car6 = Vehicle(\"purple\", 10, True)\n",
    "car6"
   ],
   "metadata": {
    "collapsed": false,
    "ExecuteTime": {
     "end_time": "2023-08-09T19:13:12.130054407Z",
     "start_time": "2023-08-09T19:13:12.019929839Z"
    }
   },
   "id": "b9e427c32e9d1e06"
  },
  {
   "cell_type": "markdown",
   "source": [
    "## struct.Struct: Serialized C Structs\n",
    "data exchange format between Python values and C structs serialized into Python bytes objects"
   ],
   "metadata": {
    "collapsed": false
   },
   "id": "f256f07b9f13877d"
  },
  {
   "cell_type": "code",
   "execution_count": 83,
   "outputs": [],
   "source": [
    "from struct import Struct"
   ],
   "metadata": {
    "collapsed": false,
    "ExecuteTime": {
     "end_time": "2023-08-09T19:15:19.986338471Z",
     "start_time": "2023-08-09T19:15:19.929985555Z"
    }
   },
   "id": "7b9e929776d1914"
  },
  {
   "cell_type": "code",
   "execution_count": 84,
   "outputs": [
    {
     "data": {
      "text/plain": "b'\\x17\\x00\\x00\\x00\\x00\\x00\\x00\\x00\\x00\\x00(B'"
     },
     "execution_count": 84,
     "metadata": {},
     "output_type": "execute_result"
    }
   ],
   "source": [
    "MyStruct = Struct(\"i?f\")\n",
    "data = MyStruct.pack(23, False, 42.0)\n",
    "data"
   ],
   "metadata": {
    "collapsed": false,
    "ExecuteTime": {
     "end_time": "2023-08-09T19:15:54.697348905Z",
     "start_time": "2023-08-09T19:15:54.629605433Z"
    }
   },
   "id": "3486c20f90c99a1b"
  },
  {
   "cell_type": "code",
   "execution_count": 85,
   "outputs": [
    {
     "data": {
      "text/plain": "(23, False, 42.0)"
     },
     "execution_count": 85,
     "metadata": {},
     "output_type": "execute_result"
    }
   ],
   "source": [
    "MyStruct.unpack(data)"
   ],
   "metadata": {
    "collapsed": false,
    "ExecuteTime": {
     "end_time": "2023-08-09T19:16:15.341863908Z",
     "start_time": "2023-08-09T19:16:15.286684195Z"
    }
   },
   "id": "1507dd2ef3596433"
  },
  {
   "cell_type": "markdown",
   "source": [
    "## types.SimpleNamespace: Fancy Attribute Address\n",
    "Attribute access to namespace, keys are class attributes (obj.key instead of obj[\"key\"]"
   ],
   "metadata": {
    "collapsed": false
   },
   "id": "37a248fdf0fbcc24"
  },
  {
   "cell_type": "code",
   "execution_count": 86,
   "outputs": [],
   "source": [
    "from types import SimpleNamespace"
   ],
   "metadata": {
    "collapsed": false,
    "ExecuteTime": {
     "end_time": "2023-08-09T19:18:08.348029389Z",
     "start_time": "2023-08-09T19:18:08.284085029Z"
    }
   },
   "id": "e2800b6371cae696"
  },
  {
   "cell_type": "code",
   "execution_count": 87,
   "outputs": [
    {
     "data": {
      "text/plain": "namespace(color='red', mileage=654, automatic=True)"
     },
     "execution_count": 87,
     "metadata": {},
     "output_type": "execute_result"
    }
   ],
   "source": [
    "car7 = SimpleNamespace(color=\"red\", mileage=654, automatic=True)\n",
    "car7"
   ],
   "metadata": {
    "collapsed": false,
    "ExecuteTime": {
     "end_time": "2023-08-09T19:18:42.119223450Z",
     "start_time": "2023-08-09T19:18:42.040312790Z"
    }
   },
   "id": "dc021c02c18a90c"
  },
  {
   "cell_type": "code",
   "execution_count": 89,
   "outputs": [
    {
     "data": {
      "text/plain": "'red'"
     },
     "execution_count": 89,
     "metadata": {},
     "output_type": "execute_result"
    }
   ],
   "source": [
    "car7.color"
   ],
   "metadata": {
    "collapsed": false,
    "ExecuteTime": {
     "end_time": "2023-08-09T19:19:04.149093069Z",
     "start_time": "2023-08-09T19:19:04.129283800Z"
    }
   },
   "id": "daf59d3a8cc5e6d"
  },
  {
   "cell_type": "code",
   "execution_count": 90,
   "outputs": [
    {
     "data": {
      "text/plain": "namespace(color='blue', mileage=654, automatic=True)"
     },
     "execution_count": 90,
     "metadata": {},
     "output_type": "execute_result"
    }
   ],
   "source": [
    "car7.color = \"blue\"\n",
    "car7"
   ],
   "metadata": {
    "collapsed": false,
    "ExecuteTime": {
     "end_time": "2023-08-09T19:19:15.282590532Z",
     "start_time": "2023-08-09T19:19:15.193903968Z"
    }
   },
   "id": "fd3a34a4ec1715d"
  },
  {
   "cell_type": "markdown",
   "source": [
    "# Sets and Multisets"
   ],
   "metadata": {
    "collapsed": false
   },
   "id": "6746a84dd4ca12d2"
  },
  {
   "cell_type": "markdown",
   "source": [
    "## set\n",
    "unordered collection of objects which does not allow duplicate elements\n",
    "mutable, backed by dict, hashable only"
   ],
   "metadata": {
    "collapsed": false
   },
   "id": "784e3907ac5fe6bc"
  },
  {
   "cell_type": "code",
   "execution_count": 91,
   "outputs": [
    {
     "data": {
      "text/plain": "True"
     },
     "execution_count": 91,
     "metadata": {},
     "output_type": "execute_result"
    }
   ],
   "source": [
    "vovels = {\"a\", \"e\", \"i\", \"o\", \"u\"}\n",
    "\"e\" in vovels"
   ],
   "metadata": {
    "collapsed": false,
    "ExecuteTime": {
     "end_time": "2023-08-09T19:24:01.214994838Z",
     "start_time": "2023-08-09T19:24:01.141351029Z"
    }
   },
   "id": "1ac25346c9705ce4"
  },
  {
   "cell_type": "code",
   "execution_count": 92,
   "outputs": [
    {
     "data": {
      "text/plain": "{'a', 'c', 'e', 'i', 'l'}"
     },
     "execution_count": 92,
     "metadata": {},
     "output_type": "execute_result"
    }
   ],
   "source": [
    "letters = set(\"alice\")\n",
    "letters"
   ],
   "metadata": {
    "collapsed": false,
    "ExecuteTime": {
     "end_time": "2023-08-09T19:24:20.656641260Z",
     "start_time": "2023-08-09T19:24:20.558727288Z"
    }
   },
   "id": "9a0f78f3ecf0c459"
  },
  {
   "cell_type": "code",
   "execution_count": 93,
   "outputs": [
    {
     "data": {
      "text/plain": "{'a', 'e', 'i'}"
     },
     "execution_count": 93,
     "metadata": {},
     "output_type": "execute_result"
    }
   ],
   "source": [
    "letters.intersection(vovels)"
   ],
   "metadata": {
    "collapsed": false,
    "ExecuteTime": {
     "end_time": "2023-08-09T19:24:33.039713653Z",
     "start_time": "2023-08-09T19:24:32.978039065Z"
    }
   },
   "id": "bc0cd641bd9f7cb7"
  },
  {
   "cell_type": "code",
   "execution_count": 95,
   "outputs": [
    {
     "data": {
      "text/plain": "{'a', 'e', 'i', 'o', 'u', 'x'}"
     },
     "execution_count": 95,
     "metadata": {},
     "output_type": "execute_result"
    }
   ],
   "source": [
    "vovels.add(\"x\")\n",
    "vovels"
   ],
   "metadata": {
    "collapsed": false,
    "ExecuteTime": {
     "end_time": "2023-08-09T19:24:48.531309648Z",
     "start_time": "2023-08-09T19:24:48.482759234Z"
    }
   },
   "id": "8eccb3ce1d0f57d0"
  },
  {
   "cell_type": "markdown",
   "source": [
    "## frozenset: Immutable Sets\n",
    "static and only query operations, can be used as dict keys (hashable!)"
   ],
   "metadata": {
    "collapsed": false
   },
   "id": "f9670a4443687df9"
  },
  {
   "cell_type": "code",
   "execution_count": 96,
   "outputs": [
    {
     "data": {
      "text/plain": "frozenset({'a', 'e', 'i', 'o', 'u'})"
     },
     "execution_count": 96,
     "metadata": {},
     "output_type": "execute_result"
    }
   ],
   "source": [
    "vovel = frozenset({\"a\", \"e\", \"i\", \"o\", \"u\"})\n",
    "vovel"
   ],
   "metadata": {
    "collapsed": false,
    "ExecuteTime": {
     "end_time": "2023-08-09T19:26:24.864765352Z",
     "start_time": "2023-08-09T19:26:24.788142787Z"
    }
   },
   "id": "9f1653e882061c8a"
  },
  {
   "cell_type": "code",
   "execution_count": 97,
   "outputs": [
    {
     "ename": "AttributeError",
     "evalue": "'frozenset' object has no attribute 'add'",
     "output_type": "error",
     "traceback": [
      "\u001B[0;31m---------------------------------------------------------------------------\u001B[0m",
      "\u001B[0;31mAttributeError\u001B[0m                            Traceback (most recent call last)",
      "Cell \u001B[0;32mIn[97], line 1\u001B[0m\n\u001B[0;32m----> 1\u001B[0m \u001B[43mvovel\u001B[49m\u001B[38;5;241;43m.\u001B[39;49m\u001B[43madd\u001B[49m(\u001B[38;5;124m\"\u001B[39m\u001B[38;5;124mp\u001B[39m\u001B[38;5;124m\"\u001B[39m)\n",
      "\u001B[0;31mAttributeError\u001B[0m: 'frozenset' object has no attribute 'add'"
     ]
    }
   ],
   "source": [
    "vovel.add(\"p\")"
   ],
   "metadata": {
    "collapsed": false,
    "ExecuteTime": {
     "end_time": "2023-08-09T19:26:31.238028962Z",
     "start_time": "2023-08-09T19:26:31.160869176Z"
    }
   },
   "id": "f26beb39a3f35e72"
  },
  {
   "cell_type": "markdown",
   "source": [
    "## collections.Counter: Multisets\n",
    "bag type that allows elements in the set to have more than one occurrence "
   ],
   "metadata": {
    "collapsed": false
   },
   "id": "f4f907e5fffa0f35"
  },
  {
   "cell_type": "code",
   "execution_count": 98,
   "outputs": [],
   "source": [
    "from collections import Counter"
   ],
   "metadata": {
    "collapsed": false,
    "ExecuteTime": {
     "end_time": "2023-08-09T19:27:46.104776968Z",
     "start_time": "2023-08-09T19:27:46.012404783Z"
    }
   },
   "id": "bb716dee0325612b"
  },
  {
   "cell_type": "code",
   "execution_count": 99,
   "outputs": [],
   "source": [
    "inventory = Counter()"
   ],
   "metadata": {
    "collapsed": false,
    "ExecuteTime": {
     "end_time": "2023-08-09T19:27:54.394374194Z",
     "start_time": "2023-08-09T19:27:54.328288348Z"
    }
   },
   "id": "7e41a2d651cd571f"
  },
  {
   "cell_type": "code",
   "execution_count": 100,
   "outputs": [
    {
     "data": {
      "text/plain": "Counter({'bread': 3, 'sword': 1})"
     },
     "execution_count": 100,
     "metadata": {},
     "output_type": "execute_result"
    }
   ],
   "source": [
    "loot = {\"sword\": 1, \"bread\": 3}\n",
    "inventory.update(loot)\n",
    "inventory"
   ],
   "metadata": {
    "collapsed": false,
    "ExecuteTime": {
     "end_time": "2023-08-09T19:28:26.031794711Z",
     "start_time": "2023-08-09T19:28:25.942379100Z"
    }
   },
   "id": "67ece346c932c469"
  },
  {
   "cell_type": "code",
   "execution_count": 101,
   "outputs": [
    {
     "data": {
      "text/plain": "Counter({'bread': 3, 'sword': 2, 'apples': 2})"
     },
     "execution_count": 101,
     "metadata": {},
     "output_type": "execute_result"
    }
   ],
   "source": [
    "more_loot = {\"sword\": 1, \"apples\": 2}\n",
    "inventory.update(more_loot)\n",
    "inventory"
   ],
   "metadata": {
    "collapsed": false,
    "ExecuteTime": {
     "end_time": "2023-08-09T19:28:56.109050899Z",
     "start_time": "2023-08-09T19:28:56.027876805Z"
    }
   },
   "id": "49a027e931896156"
  },
  {
   "cell_type": "code",
   "execution_count": 102,
   "outputs": [
    {
     "data": {
      "text/plain": "3"
     },
     "execution_count": 102,
     "metadata": {},
     "output_type": "execute_result"
    }
   ],
   "source": [
    "len(inventory)  # no. of unique elements"
   ],
   "metadata": {
    "collapsed": false,
    "ExecuteTime": {
     "end_time": "2023-08-09T19:30:05.190411147Z",
     "start_time": "2023-08-09T19:30:05.105595295Z"
    }
   },
   "id": "86016f6d0a36a3a4"
  },
  {
   "cell_type": "code",
   "execution_count": 103,
   "outputs": [
    {
     "data": {
      "text/plain": "7"
     },
     "execution_count": 103,
     "metadata": {},
     "output_type": "execute_result"
    }
   ],
   "source": [
    "sum(inventory.values())  # total no. of elements"
   ],
   "metadata": {
    "collapsed": false,
    "ExecuteTime": {
     "end_time": "2023-08-09T19:30:22.759899461Z",
     "start_time": "2023-08-09T19:30:22.673852374Z"
    }
   },
   "id": "6f6923dc290ce304"
  },
  {
   "cell_type": "markdown",
   "source": [
    "# Stacks (LIFO)\n",
    "collections of objects that support inserts and deletes\n",
    "do not allow access to random objects they contain"
   ],
   "metadata": {
    "collapsed": false
   },
   "id": "2bd667ac9c93c3d8"
  },
  {
   "cell_type": "markdown",
   "source": [
    "## list: Simple, builtin stacks\n",
    "possible to use with append and pop methods\n",
    "provide random access\n",
    "needs resizing after some operations"
   ],
   "metadata": {
    "collapsed": false
   },
   "id": "56362ab779c6b4cd"
  },
  {
   "cell_type": "code",
   "execution_count": 104,
   "outputs": [
    {
     "data": {
      "text/plain": "['cat', 'dog']"
     },
     "execution_count": 104,
     "metadata": {},
     "output_type": "execute_result"
    }
   ],
   "source": [
    "s = []\n",
    "s.append(\"cat\")\n",
    "s.append(\"dog\")\n",
    "s"
   ],
   "metadata": {
    "collapsed": false,
    "ExecuteTime": {
     "end_time": "2023-08-09T19:40:55.870431863Z",
     "start_time": "2023-08-09T19:40:55.788588489Z"
    }
   },
   "id": "2ff765ee80c602ed"
  },
  {
   "cell_type": "code",
   "execution_count": 105,
   "outputs": [
    {
     "data": {
      "text/plain": "'dog'"
     },
     "execution_count": 105,
     "metadata": {},
     "output_type": "execute_result"
    }
   ],
   "source": [
    "s.pop()"
   ],
   "metadata": {
    "collapsed": false,
    "ExecuteTime": {
     "end_time": "2023-08-09T19:40:59.363321771Z",
     "start_time": "2023-08-09T19:40:59.253337491Z"
    }
   },
   "id": "25ea66e85168c7b7"
  },
  {
   "cell_type": "code",
   "execution_count": 106,
   "outputs": [
    {
     "data": {
      "text/plain": "'cat'"
     },
     "execution_count": 106,
     "metadata": {},
     "output_type": "execute_result"
    }
   ],
   "source": [
    "s.pop()"
   ],
   "metadata": {
    "collapsed": false,
    "ExecuteTime": {
     "end_time": "2023-08-09T19:41:02.155665937Z",
     "start_time": "2023-08-09T19:41:02.089700051Z"
    }
   },
   "id": "a9ecfa4f5fa3a011"
  },
  {
   "cell_type": "code",
   "execution_count": 107,
   "outputs": [
    {
     "ename": "IndexError",
     "evalue": "pop from empty list",
     "output_type": "error",
     "traceback": [
      "\u001B[0;31m---------------------------------------------------------------------------\u001B[0m",
      "\u001B[0;31mIndexError\u001B[0m                                Traceback (most recent call last)",
      "Cell \u001B[0;32mIn[107], line 1\u001B[0m\n\u001B[0;32m----> 1\u001B[0m \u001B[43ms\u001B[49m\u001B[38;5;241;43m.\u001B[39;49m\u001B[43mpop\u001B[49m\u001B[43m(\u001B[49m\u001B[43m)\u001B[49m\n",
      "\u001B[0;31mIndexError\u001B[0m: pop from empty list"
     ]
    }
   ],
   "source": [
    "s.pop()"
   ],
   "metadata": {
    "collapsed": false,
    "ExecuteTime": {
     "end_time": "2023-08-09T19:41:04.976503130Z",
     "start_time": "2023-08-09T19:41:04.910633082Z"
    }
   },
   "id": "30438acc35816b17"
  },
  {
   "cell_type": "markdown",
   "source": [
    "## collections.deque: Fast and Robust Stacks\n",
    "double ended queue, adding and removing from either end\n",
    "can serve as queue and stack"
   ],
   "metadata": {
    "collapsed": false
   },
   "id": "9ead5feee8221b31"
  },
  {
   "cell_type": "code",
   "execution_count": 108,
   "outputs": [],
   "source": [
    "from collections import deque"
   ],
   "metadata": {
    "collapsed": false,
    "ExecuteTime": {
     "end_time": "2023-08-09T19:42:29.617832145Z",
     "start_time": "2023-08-09T19:42:29.516469035Z"
    }
   },
   "id": "a673ab801156ee71"
  },
  {
   "cell_type": "code",
   "execution_count": 109,
   "outputs": [
    {
     "data": {
      "text/plain": "deque(['cat', 'dog'])"
     },
     "execution_count": 109,
     "metadata": {},
     "output_type": "execute_result"
    }
   ],
   "source": [
    "r = deque()\n",
    "r.append(\"cat\")\n",
    "r.append(\"dog\")\n",
    "r"
   ],
   "metadata": {
    "collapsed": false,
    "ExecuteTime": {
     "end_time": "2023-08-09T19:42:52.115909238Z",
     "start_time": "2023-08-09T19:42:52.029883640Z"
    }
   },
   "id": "eaf532055f7bddf2"
  },
  {
   "cell_type": "code",
   "execution_count": 110,
   "outputs": [
    {
     "data": {
      "text/plain": "'dog'"
     },
     "execution_count": 110,
     "metadata": {},
     "output_type": "execute_result"
    }
   ],
   "source": [
    "r.pop()"
   ],
   "metadata": {
    "collapsed": false,
    "ExecuteTime": {
     "end_time": "2023-08-09T19:42:55.676141159Z",
     "start_time": "2023-08-09T19:42:55.606580854Z"
    }
   },
   "id": "4931ee3be98373c1"
  },
  {
   "cell_type": "code",
   "execution_count": 111,
   "outputs": [
    {
     "data": {
      "text/plain": "'cat'"
     },
     "execution_count": 111,
     "metadata": {},
     "output_type": "execute_result"
    }
   ],
   "source": [
    "r.pop()"
   ],
   "metadata": {
    "collapsed": false,
    "ExecuteTime": {
     "end_time": "2023-08-09T19:42:58.158923958Z",
     "start_time": "2023-08-09T19:42:58.089584607Z"
    }
   },
   "id": "90f0c5b6c79fcd01"
  },
  {
   "cell_type": "code",
   "execution_count": 112,
   "outputs": [
    {
     "ename": "IndexError",
     "evalue": "pop from an empty deque",
     "output_type": "error",
     "traceback": [
      "\u001B[0;31m---------------------------------------------------------------------------\u001B[0m",
      "\u001B[0;31mIndexError\u001B[0m                                Traceback (most recent call last)",
      "Cell \u001B[0;32mIn[112], line 1\u001B[0m\n\u001B[0;32m----> 1\u001B[0m \u001B[43mr\u001B[49m\u001B[38;5;241;43m.\u001B[39;49m\u001B[43mpop\u001B[49m\u001B[43m(\u001B[49m\u001B[43m)\u001B[49m\n",
      "\u001B[0;31mIndexError\u001B[0m: pop from an empty deque"
     ]
    }
   ],
   "source": [
    "r.pop()"
   ],
   "metadata": {
    "collapsed": false,
    "ExecuteTime": {
     "end_time": "2023-08-09T19:43:00.883178799Z",
     "start_time": "2023-08-09T19:43:00.821886557Z"
    }
   },
   "id": "9c1e85d7ec557519"
  },
  {
   "cell_type": "markdown",
   "source": [
    "## queue.LifoQueue: Locking Semantics for Parallel Computing\n",
    "support multiple concurrent producers and consumers\n"
   ],
   "metadata": {
    "collapsed": false
   },
   "id": "f9b523f9e8e26ed4"
  },
  {
   "cell_type": "code",
   "execution_count": 113,
   "outputs": [],
   "source": [
    "from queue import LifoQueue"
   ],
   "metadata": {
    "collapsed": false,
    "ExecuteTime": {
     "end_time": "2023-08-09T19:46:56.053791086Z",
     "start_time": "2023-08-09T19:46:55.965362889Z"
    }
   },
   "id": "ae04f8863264707d"
  },
  {
   "cell_type": "code",
   "execution_count": 114,
   "outputs": [
    {
     "data": {
      "text/plain": "<queue.LifoQueue at 0x7f3420122fd0>"
     },
     "execution_count": 114,
     "metadata": {},
     "output_type": "execute_result"
    }
   ],
   "source": [
    "t = LifoQueue()\n",
    "t.put(\"cat\")\n",
    "t.put(\"dog\")\n",
    "t"
   ],
   "metadata": {
    "collapsed": false,
    "ExecuteTime": {
     "end_time": "2023-08-09T19:47:21.562770560Z",
     "start_time": "2023-08-09T19:47:21.473563874Z"
    }
   },
   "id": "60f7195c115124d0"
  },
  {
   "cell_type": "code",
   "execution_count": 115,
   "outputs": [
    {
     "data": {
      "text/plain": "'dog'"
     },
     "execution_count": 115,
     "metadata": {},
     "output_type": "execute_result"
    }
   ],
   "source": [
    "t.get()"
   ],
   "metadata": {
    "collapsed": false,
    "ExecuteTime": {
     "end_time": "2023-08-09T19:47:27.729745562Z",
     "start_time": "2023-08-09T19:47:27.645316365Z"
    }
   },
   "id": "88bd71dbf43f6481"
  },
  {
   "cell_type": "code",
   "execution_count": 116,
   "outputs": [
    {
     "data": {
      "text/plain": "'cat'"
     },
     "execution_count": 116,
     "metadata": {},
     "output_type": "execute_result"
    }
   ],
   "source": [
    "t.get()"
   ],
   "metadata": {
    "collapsed": false,
    "ExecuteTime": {
     "end_time": "2023-08-09T19:47:30.331563934Z",
     "start_time": "2023-08-09T19:47:30.255932963Z"
    }
   },
   "id": "7c3d00f6ad35d39f"
  },
  {
   "cell_type": "code",
   "execution_count": 117,
   "outputs": [
    {
     "ename": "Empty",
     "evalue": "",
     "output_type": "error",
     "traceback": [
      "\u001B[0;31m---------------------------------------------------------------------------\u001B[0m",
      "\u001B[0;31mEmpty\u001B[0m                                     Traceback (most recent call last)",
      "Cell \u001B[0;32mIn[117], line 1\u001B[0m\n\u001B[0;32m----> 1\u001B[0m \u001B[43mt\u001B[49m\u001B[38;5;241;43m.\u001B[39;49m\u001B[43mget_nowait\u001B[49m\u001B[43m(\u001B[49m\u001B[43m)\u001B[49m\n",
      "File \u001B[0;32m/usr/lib64/python3.11/queue.py:199\u001B[0m, in \u001B[0;36mQueue.get_nowait\u001B[0;34m(self)\u001B[0m\n\u001B[1;32m    193\u001B[0m \u001B[38;5;28;01mdef\u001B[39;00m \u001B[38;5;21mget_nowait\u001B[39m(\u001B[38;5;28mself\u001B[39m):\n\u001B[1;32m    194\u001B[0m \u001B[38;5;250m    \u001B[39m\u001B[38;5;124;03m'''Remove and return an item from the queue without blocking.\u001B[39;00m\n\u001B[1;32m    195\u001B[0m \n\u001B[1;32m    196\u001B[0m \u001B[38;5;124;03m    Only get an item if one is immediately available. Otherwise\u001B[39;00m\n\u001B[1;32m    197\u001B[0m \u001B[38;5;124;03m    raise the Empty exception.\u001B[39;00m\n\u001B[1;32m    198\u001B[0m \u001B[38;5;124;03m    '''\u001B[39;00m\n\u001B[0;32m--> 199\u001B[0m     \u001B[38;5;28;01mreturn\u001B[39;00m \u001B[38;5;28;43mself\u001B[39;49m\u001B[38;5;241;43m.\u001B[39;49m\u001B[43mget\u001B[49m\u001B[43m(\u001B[49m\u001B[43mblock\u001B[49m\u001B[38;5;241;43m=\u001B[39;49m\u001B[38;5;28;43;01mFalse\u001B[39;49;00m\u001B[43m)\u001B[49m\n",
      "File \u001B[0;32m/usr/lib64/python3.11/queue.py:168\u001B[0m, in \u001B[0;36mQueue.get\u001B[0;34m(self, block, timeout)\u001B[0m\n\u001B[1;32m    166\u001B[0m \u001B[38;5;28;01mif\u001B[39;00m \u001B[38;5;129;01mnot\u001B[39;00m block:\n\u001B[1;32m    167\u001B[0m     \u001B[38;5;28;01mif\u001B[39;00m \u001B[38;5;129;01mnot\u001B[39;00m \u001B[38;5;28mself\u001B[39m\u001B[38;5;241m.\u001B[39m_qsize():\n\u001B[0;32m--> 168\u001B[0m         \u001B[38;5;28;01mraise\u001B[39;00m Empty\n\u001B[1;32m    169\u001B[0m \u001B[38;5;28;01melif\u001B[39;00m timeout \u001B[38;5;129;01mis\u001B[39;00m \u001B[38;5;28;01mNone\u001B[39;00m:\n\u001B[1;32m    170\u001B[0m     \u001B[38;5;28;01mwhile\u001B[39;00m \u001B[38;5;129;01mnot\u001B[39;00m \u001B[38;5;28mself\u001B[39m\u001B[38;5;241m.\u001B[39m_qsize():\n",
      "\u001B[0;31mEmpty\u001B[0m: "
     ]
    }
   ],
   "source": [
    "t.get_nowait()  # nie czeka"
   ],
   "metadata": {
    "collapsed": false,
    "ExecuteTime": {
     "end_time": "2023-08-09T19:47:42.193064164Z",
     "start_time": "2023-08-09T19:47:42.108469060Z"
    }
   },
   "id": "d090f0b41f35b042"
  },
  {
   "cell_type": "markdown",
   "source": [
    "# Queues (FiFo)\n",
    "insert and delete semantics for collections\n",
    "enqueue and dequeue, do not allow random access\n"
   ],
   "metadata": {
    "collapsed": false
   },
   "id": "e30fc5668da7a859"
  },
  {
   "cell_type": "markdown",
   "source": [
    "## list: Terribly slow queues\n",
    "requires resizing"
   ],
   "metadata": {
    "collapsed": false
   },
   "id": "ceaba5701d525bfc"
  },
  {
   "cell_type": "code",
   "execution_count": 119,
   "outputs": [
    {
     "data": {
      "text/plain": "['dog', 'cat']"
     },
     "execution_count": 119,
     "metadata": {},
     "output_type": "execute_result"
    }
   ],
   "source": [
    "q = []\n",
    "q.append(\"dog\")\n",
    "q.append(\"cat\")\n",
    "q"
   ],
   "metadata": {
    "collapsed": false,
    "ExecuteTime": {
     "end_time": "2023-08-09T20:08:08.964970186Z",
     "start_time": "2023-08-09T20:08:08.866671746Z"
    }
   },
   "id": "5c0755b8b7401fbe"
  },
  {
   "cell_type": "code",
   "execution_count": 120,
   "outputs": [
    {
     "data": {
      "text/plain": "['cat']"
     },
     "execution_count": 120,
     "metadata": {},
     "output_type": "execute_result"
    }
   ],
   "source": [
    "q.pop(0)\n",
    "q"
   ],
   "metadata": {
    "collapsed": false,
    "ExecuteTime": {
     "end_time": "2023-08-09T20:08:16.777158679Z",
     "start_time": "2023-08-09T20:08:16.676081580Z"
    }
   },
   "id": "7ddcddcc00911924"
  },
  {
   "cell_type": "markdown",
   "source": [
    "## collections.deque: Fast and Robust Queues\n",
    "double ended queue"
   ],
   "metadata": {
    "collapsed": false
   },
   "id": "b2670e34b4e66ffa"
  },
  {
   "cell_type": "code",
   "execution_count": 121,
   "outputs": [],
   "source": [
    "from collections import deque"
   ],
   "metadata": {
    "collapsed": false,
    "ExecuteTime": {
     "end_time": "2023-08-09T20:09:07.972219396Z",
     "start_time": "2023-08-09T20:09:07.884973219Z"
    }
   },
   "id": "759f325753b6e20b"
  },
  {
   "cell_type": "code",
   "execution_count": 122,
   "outputs": [
    {
     "data": {
      "text/plain": "deque(['cat', 'dog'])"
     },
     "execution_count": 122,
     "metadata": {},
     "output_type": "execute_result"
    }
   ],
   "source": [
    "w = deque()\n",
    "w.append(\"cat\")\n",
    "w.append(\"dog\")\n",
    "w"
   ],
   "metadata": {
    "collapsed": false,
    "ExecuteTime": {
     "end_time": "2023-08-09T20:09:31.025508072Z",
     "start_time": "2023-08-09T20:09:30.931353242Z"
    }
   },
   "id": "f64cadf7c5f48a3b"
  },
  {
   "cell_type": "code",
   "execution_count": 123,
   "outputs": [
    {
     "data": {
      "text/plain": "'cat'"
     },
     "execution_count": 123,
     "metadata": {},
     "output_type": "execute_result"
    }
   ],
   "source": [
    "w.popleft()"
   ],
   "metadata": {
    "collapsed": false,
    "ExecuteTime": {
     "end_time": "2023-08-09T20:09:40.037509211Z",
     "start_time": "2023-08-09T20:09:39.924556760Z"
    }
   },
   "id": "fb4c65bd7c50c6cf"
  },
  {
   "cell_type": "code",
   "execution_count": 124,
   "outputs": [
    {
     "data": {
      "text/plain": "'dog'"
     },
     "execution_count": 124,
     "metadata": {},
     "output_type": "execute_result"
    }
   ],
   "source": [
    "w.popleft()"
   ],
   "metadata": {
    "collapsed": false,
    "ExecuteTime": {
     "end_time": "2023-08-09T20:09:44.198301565Z",
     "start_time": "2023-08-09T20:09:44.109779530Z"
    }
   },
   "id": "8a1db07ceccc3521"
  },
  {
   "cell_type": "markdown",
   "source": [
    "## queue.Queue: Locking Semantics for Parallel Computing\n",
    "the same as above"
   ],
   "metadata": {
    "collapsed": false
   },
   "id": "c762abb8b0e18351"
  },
  {
   "cell_type": "code",
   "execution_count": 125,
   "outputs": [],
   "source": [
    "from queue import Queue"
   ],
   "metadata": {
    "collapsed": false,
    "ExecuteTime": {
     "end_time": "2023-08-09T20:10:50.536475654Z",
     "start_time": "2023-08-09T20:10:50.425421336Z"
    }
   },
   "id": "ccf0c8a09d5a13ac"
  },
  {
   "cell_type": "code",
   "execution_count": 126,
   "outputs": [
    {
     "data": {
      "text/plain": "<queue.Queue at 0x7f34104636d0>"
     },
     "execution_count": 126,
     "metadata": {},
     "output_type": "execute_result"
    }
   ],
   "source": [
    "v = Queue()\n",
    "v.put(\"dog\")\n",
    "v.put(\"cat\")\n",
    "v"
   ],
   "metadata": {
    "collapsed": false,
    "ExecuteTime": {
     "end_time": "2023-08-09T20:11:06.002963364Z",
     "start_time": "2023-08-09T20:11:05.911051950Z"
    }
   },
   "id": "5456a7f9426a112"
  },
  {
   "cell_type": "code",
   "execution_count": 127,
   "outputs": [
    {
     "data": {
      "text/plain": "'dog'"
     },
     "execution_count": 127,
     "metadata": {},
     "output_type": "execute_result"
    }
   ],
   "source": [
    "v.get()"
   ],
   "metadata": {
    "collapsed": false,
    "ExecuteTime": {
     "end_time": "2023-08-09T20:11:11.330772129Z",
     "start_time": "2023-08-09T20:11:11.221311720Z"
    }
   },
   "id": "afdc106daf93ef35"
  },
  {
   "cell_type": "code",
   "execution_count": 128,
   "outputs": [
    {
     "data": {
      "text/plain": "'cat'"
     },
     "execution_count": 128,
     "metadata": {},
     "output_type": "execute_result"
    }
   ],
   "source": [
    "v.get()"
   ],
   "metadata": {
    "collapsed": false,
    "ExecuteTime": {
     "end_time": "2023-08-09T20:11:13.964831691Z",
     "start_time": "2023-08-09T20:11:13.870278919Z"
    }
   },
   "id": "1f091d51466f8051"
  },
  {
   "cell_type": "code",
   "execution_count": 129,
   "outputs": [
    {
     "ename": "Empty",
     "evalue": "",
     "output_type": "error",
     "traceback": [
      "\u001B[0;31m---------------------------------------------------------------------------\u001B[0m",
      "\u001B[0;31mEmpty\u001B[0m                                     Traceback (most recent call last)",
      "Cell \u001B[0;32mIn[129], line 1\u001B[0m\n\u001B[0;32m----> 1\u001B[0m \u001B[43mv\u001B[49m\u001B[38;5;241;43m.\u001B[39;49m\u001B[43mget_nowait\u001B[49m\u001B[43m(\u001B[49m\u001B[43m)\u001B[49m\n",
      "File \u001B[0;32m/usr/lib64/python3.11/queue.py:199\u001B[0m, in \u001B[0;36mQueue.get_nowait\u001B[0;34m(self)\u001B[0m\n\u001B[1;32m    193\u001B[0m \u001B[38;5;28;01mdef\u001B[39;00m \u001B[38;5;21mget_nowait\u001B[39m(\u001B[38;5;28mself\u001B[39m):\n\u001B[1;32m    194\u001B[0m \u001B[38;5;250m    \u001B[39m\u001B[38;5;124;03m'''Remove and return an item from the queue without blocking.\u001B[39;00m\n\u001B[1;32m    195\u001B[0m \n\u001B[1;32m    196\u001B[0m \u001B[38;5;124;03m    Only get an item if one is immediately available. Otherwise\u001B[39;00m\n\u001B[1;32m    197\u001B[0m \u001B[38;5;124;03m    raise the Empty exception.\u001B[39;00m\n\u001B[1;32m    198\u001B[0m \u001B[38;5;124;03m    '''\u001B[39;00m\n\u001B[0;32m--> 199\u001B[0m     \u001B[38;5;28;01mreturn\u001B[39;00m \u001B[38;5;28;43mself\u001B[39;49m\u001B[38;5;241;43m.\u001B[39;49m\u001B[43mget\u001B[49m\u001B[43m(\u001B[49m\u001B[43mblock\u001B[49m\u001B[38;5;241;43m=\u001B[39;49m\u001B[38;5;28;43;01mFalse\u001B[39;49;00m\u001B[43m)\u001B[49m\n",
      "File \u001B[0;32m/usr/lib64/python3.11/queue.py:168\u001B[0m, in \u001B[0;36mQueue.get\u001B[0;34m(self, block, timeout)\u001B[0m\n\u001B[1;32m    166\u001B[0m \u001B[38;5;28;01mif\u001B[39;00m \u001B[38;5;129;01mnot\u001B[39;00m block:\n\u001B[1;32m    167\u001B[0m     \u001B[38;5;28;01mif\u001B[39;00m \u001B[38;5;129;01mnot\u001B[39;00m \u001B[38;5;28mself\u001B[39m\u001B[38;5;241m.\u001B[39m_qsize():\n\u001B[0;32m--> 168\u001B[0m         \u001B[38;5;28;01mraise\u001B[39;00m Empty\n\u001B[1;32m    169\u001B[0m \u001B[38;5;28;01melif\u001B[39;00m timeout \u001B[38;5;129;01mis\u001B[39;00m \u001B[38;5;28;01mNone\u001B[39;00m:\n\u001B[1;32m    170\u001B[0m     \u001B[38;5;28;01mwhile\u001B[39;00m \u001B[38;5;129;01mnot\u001B[39;00m \u001B[38;5;28mself\u001B[39m\u001B[38;5;241m.\u001B[39m_qsize():\n",
      "\u001B[0;31mEmpty\u001B[0m: "
     ]
    }
   ],
   "source": [
    "v.get_nowait()"
   ],
   "metadata": {
    "collapsed": false,
    "ExecuteTime": {
     "end_time": "2023-08-09T20:11:18.966148566Z",
     "start_time": "2023-08-09T20:11:18.829372169Z"
    }
   },
   "id": "28f80e23e79a4b0c"
  },
  {
   "cell_type": "markdown",
   "source": [
    "## multiprocessing.Queue: Shared Job Queues\n",
    "allows queued items to be processed in parallel by concurrent workers\n",
    "global interpreter lock\n",
    " "
   ],
   "metadata": {
    "collapsed": false
   },
   "id": "72a125fbd0262121"
  },
  {
   "cell_type": "code",
   "execution_count": 130,
   "outputs": [],
   "source": [
    "from multiprocessing import Queue"
   ],
   "metadata": {
    "collapsed": false,
    "ExecuteTime": {
     "end_time": "2023-08-09T20:12:38.045738627Z",
     "start_time": "2023-08-09T20:12:37.910092936Z"
    }
   },
   "id": "66bedaa8be63455b"
  },
  {
   "cell_type": "code",
   "execution_count": 131,
   "outputs": [
    {
     "data": {
      "text/plain": "<multiprocessing.queues.Queue at 0x7f3410440ad0>"
     },
     "execution_count": 131,
     "metadata": {},
     "output_type": "execute_result"
    }
   ],
   "source": [
    "y = Queue()\n",
    "y.put(\"dog\")\n",
    "y.put(\"cat\")\n",
    "y"
   ],
   "metadata": {
    "collapsed": false,
    "ExecuteTime": {
     "end_time": "2023-08-09T20:13:02.867596866Z",
     "start_time": "2023-08-09T20:13:02.749895782Z"
    }
   },
   "id": "8efa2a70f01d6faa"
  },
  {
   "cell_type": "code",
   "execution_count": 132,
   "outputs": [
    {
     "data": {
      "text/plain": "'dog'"
     },
     "execution_count": 132,
     "metadata": {},
     "output_type": "execute_result"
    }
   ],
   "source": [
    "y.get()"
   ],
   "metadata": {
    "collapsed": false,
    "ExecuteTime": {
     "end_time": "2023-08-09T20:13:10.082660799Z",
     "start_time": "2023-08-09T20:13:09.991541659Z"
    }
   },
   "id": "a3609db788d72622"
  },
  {
   "cell_type": "code",
   "execution_count": 133,
   "outputs": [
    {
     "data": {
      "text/plain": "'cat'"
     },
     "execution_count": 133,
     "metadata": {},
     "output_type": "execute_result"
    }
   ],
   "source": [
    "y.get()"
   ],
   "metadata": {
    "collapsed": false,
    "ExecuteTime": {
     "end_time": "2023-08-09T20:13:12.734731159Z",
     "start_time": "2023-08-09T20:13:12.645188477Z"
    }
   },
   "id": "5524bd405f3371f5"
  },
  {
   "cell_type": "code",
   "execution_count": 134,
   "outputs": [
    {
     "ename": "Empty",
     "evalue": "",
     "output_type": "error",
     "traceback": [
      "\u001B[0;31m---------------------------------------------------------------------------\u001B[0m",
      "\u001B[0;31mEmpty\u001B[0m                                     Traceback (most recent call last)",
      "Cell \u001B[0;32mIn[134], line 1\u001B[0m\n\u001B[0;32m----> 1\u001B[0m \u001B[43my\u001B[49m\u001B[38;5;241;43m.\u001B[39;49m\u001B[43mget_nowait\u001B[49m\u001B[43m(\u001B[49m\u001B[43m)\u001B[49m\n",
      "File \u001B[0;32m/usr/lib64/python3.11/multiprocessing/queues.py:135\u001B[0m, in \u001B[0;36mQueue.get_nowait\u001B[0;34m(self)\u001B[0m\n\u001B[1;32m    134\u001B[0m \u001B[38;5;28;01mdef\u001B[39;00m \u001B[38;5;21mget_nowait\u001B[39m(\u001B[38;5;28mself\u001B[39m):\n\u001B[0;32m--> 135\u001B[0m     \u001B[38;5;28;01mreturn\u001B[39;00m \u001B[38;5;28;43mself\u001B[39;49m\u001B[38;5;241;43m.\u001B[39;49m\u001B[43mget\u001B[49m\u001B[43m(\u001B[49m\u001B[38;5;28;43;01mFalse\u001B[39;49;00m\u001B[43m)\u001B[49m\n",
      "File \u001B[0;32m/usr/lib64/python3.11/multiprocessing/queues.py:116\u001B[0m, in \u001B[0;36mQueue.get\u001B[0;34m(self, block, timeout)\u001B[0m\n\u001B[1;32m    114\u001B[0m         \u001B[38;5;28;01mraise\u001B[39;00m Empty\n\u001B[1;32m    115\u001B[0m \u001B[38;5;28;01melif\u001B[39;00m \u001B[38;5;129;01mnot\u001B[39;00m \u001B[38;5;28mself\u001B[39m\u001B[38;5;241m.\u001B[39m_poll():\n\u001B[0;32m--> 116\u001B[0m     \u001B[38;5;28;01mraise\u001B[39;00m Empty\n\u001B[1;32m    117\u001B[0m res \u001B[38;5;241m=\u001B[39m \u001B[38;5;28mself\u001B[39m\u001B[38;5;241m.\u001B[39m_recv_bytes()\n\u001B[1;32m    118\u001B[0m \u001B[38;5;28mself\u001B[39m\u001B[38;5;241m.\u001B[39m_sem\u001B[38;5;241m.\u001B[39mrelease()\n",
      "\u001B[0;31mEmpty\u001B[0m: "
     ]
    }
   ],
   "source": [
    "y.get_nowait()"
   ],
   "metadata": {
    "collapsed": false,
    "ExecuteTime": {
     "end_time": "2023-08-09T20:13:19.052685684Z",
     "start_time": "2023-08-09T20:13:18.939670796Z"
    }
   },
   "id": "a5b50aa905f0b8dd"
  },
  {
   "cell_type": "markdown",
   "source": [
    "## Priority Queues\n",
    "manages set of records with ordered keys providing quick access to lowest or highest key\n",
    "retrieves the highest priority element"
   ],
   "metadata": {
    "collapsed": false
   },
   "id": "58df818f968770f1"
  },
  {
   "cell_type": "markdown",
   "source": [
    "## list: Manually Sorted Queues\n",
    "slow operation, requires resorting every time\n"
   ],
   "metadata": {
    "collapsed": false
   },
   "id": "1a6ca28466bd0733"
  },
  {
   "cell_type": "code",
   "execution_count": 135,
   "outputs": [
    {
     "data": {
      "text/plain": "[(1, 'dog'), (2, 'cat')]"
     },
     "execution_count": 135,
     "metadata": {},
     "output_type": "execute_result"
    }
   ],
   "source": [
    "u = []\n",
    "u.append((1, \"dog\"))\n",
    "u.append((2, \"cat\"))\n",
    "u"
   ],
   "metadata": {
    "collapsed": false,
    "ExecuteTime": {
     "end_time": "2023-08-09T20:16:49.461486573Z",
     "start_time": "2023-08-09T20:16:49.327046664Z"
    }
   },
   "id": "14f352bcca69b4c8"
  },
  {
   "cell_type": "code",
   "execution_count": 138,
   "outputs": [
    {
     "data": {
      "text/plain": "[(2, 'cat'), (1, 'dog')]"
     },
     "execution_count": 138,
     "metadata": {},
     "output_type": "execute_result"
    }
   ],
   "source": [
    "u.sort(reverse=True)\n",
    "u"
   ],
   "metadata": {
    "collapsed": false,
    "ExecuteTime": {
     "end_time": "2023-08-09T20:17:20.367056348Z",
     "start_time": "2023-08-09T20:17:20.299691708Z"
    }
   },
   "id": "343621e54a72f8b"
  },
  {
   "cell_type": "code",
   "execution_count": 139,
   "outputs": [
    {
     "name": "stdout",
     "output_type": "stream",
     "text": [
      "(1, 'dog')\n",
      "(2, 'cat')\n"
     ]
    }
   ],
   "source": [
    "while u:\n",
    "    next_item = u.pop()\n",
    "    print(next_item)"
   ],
   "metadata": {
    "collapsed": false,
    "ExecuteTime": {
     "end_time": "2023-08-09T20:17:54.183688256Z",
     "start_time": "2023-08-09T20:17:54.121243659Z"
    }
   },
   "id": "bbe3b5a01f7501ee"
  },
  {
   "cell_type": "markdown",
   "source": [
    "## heapq: List-based Binary Heaps\n",
    "faster than list"
   ],
   "metadata": {
    "collapsed": false
   },
   "id": "94f06ac6d53613b2"
  },
  {
   "cell_type": "code",
   "execution_count": 140,
   "outputs": [],
   "source": [
    "import heapq"
   ],
   "metadata": {
    "collapsed": false,
    "ExecuteTime": {
     "end_time": "2023-08-09T20:18:41.512441164Z",
     "start_time": "2023-08-09T20:18:41.402451435Z"
    }
   },
   "id": "fa84c2e372fca3e7"
  },
  {
   "cell_type": "code",
   "execution_count": 141,
   "outputs": [
    {
     "data": {
      "text/plain": "[(1, 'dog'), (2, 'cat')]"
     },
     "execution_count": 141,
     "metadata": {},
     "output_type": "execute_result"
    }
   ],
   "source": [
    "z = []\n",
    "heapq.heappush(z, (2, \"cat\"))\n",
    "heapq.heappush(z, (1, \"dog\"))\n",
    "z\n"
   ],
   "metadata": {
    "collapsed": false,
    "ExecuteTime": {
     "end_time": "2023-08-09T20:19:25.405665195Z",
     "start_time": "2023-08-09T20:19:25.273179758Z"
    }
   },
   "id": "cd813a6cde46cf99"
  },
  {
   "cell_type": "markdown",
   "source": [
    "## queue.PriorityQueue: Beautiful Priority Queues\n",
    "similar to heapq, but provides semantics for multiple concurrent producers and consumers"
   ],
   "metadata": {
    "collapsed": false
   },
   "id": "6a9c13a1f2ec10d7"
  },
  {
   "cell_type": "code",
   "execution_count": 142,
   "outputs": [],
   "source": [
    "from queue import PriorityQueue"
   ],
   "metadata": {
    "collapsed": false,
    "ExecuteTime": {
     "end_time": "2023-08-09T20:20:42.597896716Z",
     "start_time": "2023-08-09T20:20:42.451535447Z"
    }
   },
   "id": "aa85d7cc99280be9"
  },
  {
   "cell_type": "code",
   "execution_count": 143,
   "outputs": [
    {
     "data": {
      "text/plain": "<queue.PriorityQueue at 0x7f34103f34d0>"
     },
     "execution_count": 143,
     "metadata": {},
     "output_type": "execute_result"
    }
   ],
   "source": [
    "xyz = PriorityQueue()\n",
    "xyz.put((2, \"dog\"))\n",
    "xyz.put((1, \"cat\"))\n",
    "xyz"
   ],
   "metadata": {
    "collapsed": false,
    "ExecuteTime": {
     "end_time": "2023-08-09T20:21:18.438917592Z",
     "start_time": "2023-08-09T20:21:18.322263440Z"
    }
   },
   "id": "74d621593c61c7b"
  },
  {
   "cell_type": "code",
   "execution_count": 144,
   "outputs": [
    {
     "name": "stdout",
     "output_type": "stream",
     "text": [
      "(1, 'cat')\n",
      "(2, 'dog')\n"
     ]
    }
   ],
   "source": [
    "while not xyz.empty():\n",
    "    next_item = xyz.get()\n",
    "    print(next_item)"
   ],
   "metadata": {
    "collapsed": false,
    "ExecuteTime": {
     "end_time": "2023-08-09T20:21:45.563678317Z",
     "start_time": "2023-08-09T20:21:45.407783947Z"
    }
   },
   "id": "956f9255c7d358cc"
  },
  {
   "cell_type": "code",
   "execution_count": null,
   "outputs": [],
   "source": [],
   "metadata": {
    "collapsed": false
   },
   "id": "a8b64c7763a48a8c"
  }
 ],
 "metadata": {
  "kernelspec": {
   "display_name": "Python 3",
   "language": "python",
   "name": "python3"
  },
  "language_info": {
   "codemirror_mode": {
    "name": "ipython",
    "version": 2
   },
   "file_extension": ".py",
   "mimetype": "text/x-python",
   "name": "python",
   "nbconvert_exporter": "python",
   "pygments_lexer": "ipython2",
   "version": "2.7.6"
  }
 },
 "nbformat": 4,
 "nbformat_minor": 5
}
