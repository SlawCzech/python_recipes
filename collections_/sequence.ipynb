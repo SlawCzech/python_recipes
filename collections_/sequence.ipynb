{
 "cells": [
  {
   "cell_type": "markdown",
   "source": [
    "# Dwa rodzaje kolekcji w pythonie\n",
    "- indeksowane (sequence type) - używają indeksów do trzymania informacji gdzie jest jakiś obiekt\n",
    "- mapping type (hashmapy) - używają obiektów do znajdywania innych obiektów (więcej pamięci idzie)\n"
   ],
   "metadata": {
    "collapsed": false
   }
  },
  {
   "cell_type": "markdown",
   "source": [
    "abc.Sequence (klasa matka dla wszysktich sequence. Dziedziczenie:\n",
    "- tuple\n",
    "- str\n",
    "- range\n",
    "- memoryview\n",
    "- abc.ByteString\n",
    "-  - bytes\n",
    "-  - bytearray\n",
    "- abc.MutableSequence\n",
    "-  - list\n",
    "-  - bytearray"
   ],
   "metadata": {
    "collapsed": false
   }
  },
  {
   "cell_type": "code",
   "execution_count": 7,
   "outputs": [],
   "source": [
    "from abc import abstractmethod\n",
    "from collections.abc import Sequence, MutableSequence\n",
    "from typing import overload, _T, Iterable, Iterator, _T_co, _KT, _VT_co, _VT"
   ],
   "metadata": {
    "collapsed": false,
    "ExecuteTime": {
     "end_time": "2023-06-16T18:41:22.128309643Z",
     "start_time": "2023-06-16T18:41:22.080223347Z"
    }
   }
  },
  {
   "cell_type": "code",
   "execution_count": 2,
   "outputs": [],
   "source": [
    "def use_sequence(seq):\n",
    "    print(f\"The type of the sequence is {type(seq)}\")\n",
    "    assert issubclass(type(seq), Sequence)\n",
    "    print(f\"Length is {len(seq)}\")\n",
    "    print(f\"Repr is {repr(seq)}\")\n",
    "    print(\"All items:\")\n",
    "    for item in seq:\n",
    "        print(item)\n",
    "\n",
    "    print(\"_\" * 20)\n",
    "\n"
   ],
   "metadata": {
    "collapsed": false,
    "ExecuteTime": {
     "end_time": "2023-06-16T18:31:00.921637256Z",
     "start_time": "2023-06-16T18:31:00.881210392Z"
    }
   }
  },
  {
   "cell_type": "code",
   "execution_count": 4,
   "outputs": [],
   "source": [
    "r_seq = range(1, 5)\n",
    "l_seq = [x for x in r_seq]\n",
    "s_seq = \"\".join(map(str, l_seq))\n",
    "b_seq = bytes(r_seq)\n",
    "ba_seq = bytearray(r_seq)\n",
    "mv_seq = memoryview(b_seq)\n",
    "all_seq = [r_seq, l_seq, s_seq, b_seq, ba_seq, mv_seq]\n"
   ],
   "metadata": {
    "collapsed": false,
    "ExecuteTime": {
     "end_time": "2023-06-16T18:36:02.153574423Z",
     "start_time": "2023-06-16T18:36:02.147378883Z"
    }
   }
  },
  {
   "cell_type": "code",
   "execution_count": 6,
   "outputs": [
    {
     "name": "stdout",
     "output_type": "stream",
     "text": [
      "The type of the sequence is <class 'range'>\n",
      "Length is 4\n",
      "Repr is range(1, 5)\n",
      "All items:\n",
      "1\n",
      "2\n",
      "3\n",
      "4\n",
      "____________________\n",
      "The type of the sequence is <class 'list'>\n",
      "Length is 4\n",
      "Repr is [1, 2, 3, 4]\n",
      "All items:\n",
      "1\n",
      "2\n",
      "3\n",
      "4\n",
      "____________________\n",
      "The type of the sequence is <class 'str'>\n",
      "Length is 4\n",
      "Repr is '1234'\n",
      "All items:\n",
      "1\n",
      "2\n",
      "3\n",
      "4\n",
      "____________________\n",
      "The type of the sequence is <class 'bytes'>\n",
      "Length is 4\n",
      "Repr is b'\\x01\\x02\\x03\\x04'\n",
      "All items:\n",
      "1\n",
      "2\n",
      "3\n",
      "4\n",
      "____________________\n",
      "The type of the sequence is <class 'bytearray'>\n",
      "Length is 4\n",
      "Repr is bytearray(b'\\x01\\x02\\x03\\x04')\n",
      "All items:\n",
      "1\n",
      "2\n",
      "3\n",
      "4\n",
      "____________________\n",
      "The type of the sequence is <class 'memoryview'>\n",
      "Length is 4\n",
      "Repr is <memory at 0x7f89982edb40>\n",
      "All items:\n",
      "1\n",
      "2\n",
      "3\n",
      "4\n",
      "____________________\n"
     ]
    }
   ],
   "source": [
    "for item in all_seq:\n",
    "    use_sequence(item)"
   ],
   "metadata": {
    "collapsed": false,
    "ExecuteTime": {
     "end_time": "2023-06-16T18:37:06.460345833Z",
     "start_time": "2023-06-16T18:37:06.449668733Z"
    }
   }
  },
  {
   "cell_type": "code",
   "execution_count": 9,
   "outputs": [],
   "source": [
    "class ModTwoSequence(MutableSequence):\n",
    "    _list: list = []\n",
    "\n",
    "    def _validate(self, value):\n",
    "        if value % 2 != 0:\n",
    "            raise ValueError\n",
    "\n",
    "    def insert(self, index: int, value) -> None:\n",
    "        self._validate(value)\n",
    "        type(self)._list.insert(index, value)\n",
    "\n",
    "    def __getitem__(self, index: int):\n",
    "        return type(self)._list[index]\n",
    "\n",
    "    def __setitem__(self, index: int, value) -> None:\n",
    "        self._validate(value)\n",
    "        type(self)._list[index] = value\n",
    "\n",
    "    def __delitem__(self, index: int) -> None:\n",
    "        del type(self)._list[index]\n",
    "\n",
    "    def __len__(self) -> int:\n",
    "        return len(type(self)._list)\n",
    "\n",
    "    def __repr__(self):\n",
    "        return repr(type(self)._list)\n",
    "\n"
   ],
   "metadata": {
    "collapsed": false,
    "ExecuteTime": {
     "end_time": "2023-06-16T18:56:08.760015585Z",
     "start_time": "2023-06-16T18:56:08.741286161Z"
    }
   }
  },
  {
   "cell_type": "code",
   "execution_count": 10,
   "outputs": [
    {
     "data": {
      "text/plain": "'[2, 4, 6]'"
     },
     "execution_count": 10,
     "metadata": {},
     "output_type": "execute_result"
    }
   ],
   "source": [
    "my_list = ModTwoSequence()\n",
    "\n",
    "my_list.insert(0, 2)\n",
    "my_list.insert(1, 4)\n",
    "my_list.insert(2, 6)\n",
    "\n",
    "repr(my_list)"
   ],
   "metadata": {
    "collapsed": false,
    "ExecuteTime": {
     "end_time": "2023-06-16T18:58:37.569586870Z",
     "start_time": "2023-06-16T18:58:37.515479088Z"
    }
   }
  },
  {
   "cell_type": "code",
   "execution_count": 11,
   "outputs": [
    {
     "ename": "ValueError",
     "evalue": "",
     "output_type": "error",
     "traceback": [
      "\u001B[0;31m---------------------------------------------------------------------------\u001B[0m",
      "\u001B[0;31mValueError\u001B[0m                                Traceback (most recent call last)",
      "Cell \u001B[0;32mIn[11], line 1\u001B[0m\n\u001B[0;32m----> 1\u001B[0m \u001B[43mmy_list\u001B[49m\u001B[38;5;241;43m.\u001B[39;49m\u001B[43minsert\u001B[49m\u001B[43m(\u001B[49m\u001B[38;5;241;43m3\u001B[39;49m\u001B[43m,\u001B[49m\u001B[43m \u001B[49m\u001B[38;5;241;43m3\u001B[39;49m\u001B[43m)\u001B[49m\n",
      "Cell \u001B[0;32mIn[9], line 9\u001B[0m, in \u001B[0;36mModTwoSequence.insert\u001B[0;34m(self, index, value)\u001B[0m\n\u001B[1;32m      8\u001B[0m \u001B[38;5;28;01mdef\u001B[39;00m \u001B[38;5;21minsert\u001B[39m(\u001B[38;5;28mself\u001B[39m, index: \u001B[38;5;28mint\u001B[39m, value) \u001B[38;5;241m-\u001B[39m\u001B[38;5;241m>\u001B[39m \u001B[38;5;28;01mNone\u001B[39;00m:\n\u001B[0;32m----> 9\u001B[0m     \u001B[38;5;28;43mself\u001B[39;49m\u001B[38;5;241;43m.\u001B[39;49m\u001B[43m_validate\u001B[49m\u001B[43m(\u001B[49m\u001B[43mvalue\u001B[49m\u001B[43m)\u001B[49m\n\u001B[1;32m     10\u001B[0m     \u001B[38;5;28mtype\u001B[39m(\u001B[38;5;28mself\u001B[39m)\u001B[38;5;241m.\u001B[39m_list\u001B[38;5;241m.\u001B[39minsert(index, value)\n",
      "Cell \u001B[0;32mIn[9], line 6\u001B[0m, in \u001B[0;36mModTwoSequence._validate\u001B[0;34m(self, value)\u001B[0m\n\u001B[1;32m      4\u001B[0m \u001B[38;5;28;01mdef\u001B[39;00m \u001B[38;5;21m_validate\u001B[39m(\u001B[38;5;28mself\u001B[39m, value):\n\u001B[1;32m      5\u001B[0m     \u001B[38;5;28;01mif\u001B[39;00m value \u001B[38;5;241m%\u001B[39m \u001B[38;5;241m2\u001B[39m \u001B[38;5;241m!=\u001B[39m \u001B[38;5;241m0\u001B[39m:\n\u001B[0;32m----> 6\u001B[0m         \u001B[38;5;28;01mraise\u001B[39;00m \u001B[38;5;167;01mValueError\u001B[39;00m\n",
      "\u001B[0;31mValueError\u001B[0m: "
     ]
    }
   ],
   "source": [
    "my_list.insert(3, 3)\n"
   ],
   "metadata": {
    "collapsed": false,
    "ExecuteTime": {
     "end_time": "2023-06-16T18:59:00.045098930Z",
     "start_time": "2023-06-16T18:58:59.986553116Z"
    }
   }
  },
  {
   "cell_type": "markdown",
   "source": [
    "## Mapping type\n",
    "- klasa bazowa: abc.Mapping"
   ],
   "metadata": {
    "collapsed": false
   }
  },
  {
   "cell_type": "markdown",
   "source": [
    "\n",
    "abc.Mapping\n",
    "- abc.MutableMapping\n",
    "-  - dict\n",
    "-  - - defaultdict\n",
    "-"
   ],
   "metadata": {
    "collapsed": false
   }
  },
  {
   "cell_type": "code",
   "execution_count": 12,
   "outputs": [],
   "source": [
    "from collections.abc import MutableMapping\n",
    "\n",
    "\n",
    "class ModTwoMapping(MutableMapping):\n",
    "\n",
    "    _dict = {}\n",
    "\n",
    "    def _validate(self, value):\n",
    "        if value % 2 != 0:\n",
    "            raise ValueError\n",
    "\n",
    "    def __setitem__(self, key, value) -> None:\n",
    "        self._validate(value)\n",
    "        type(self)._dict[key] = value\n",
    "\n",
    "    def __delitem__(self, key) -> None:\n",
    "        del type(self)._dict[key]\n",
    "\n",
    "    def __getitem__(self, key):\n",
    "        return type(self)._dict[key]\n",
    "\n",
    "    def __len__(self) -> int:\n",
    "        return len(type(self)._dict)\n",
    "\n",
    "    def __iter__(self):\n",
    "        return iter(type(self)._dict)\n",
    "\n",
    "    def __repr__(self):\n",
    "        return repr(type(self)._dict)\n",
    "\n"
   ],
   "metadata": {
    "collapsed": false,
    "ExecuteTime": {
     "end_time": "2023-06-16T19:12:47.578197346Z",
     "start_time": "2023-06-16T19:12:47.547711761Z"
    }
   }
  },
  {
   "cell_type": "code",
   "execution_count": 13,
   "outputs": [
    {
     "data": {
      "text/plain": "\"{'2': 2, 4: 4, 'elo': 6}\""
     },
     "execution_count": 13,
     "metadata": {},
     "output_type": "execute_result"
    }
   ],
   "source": [
    "my_dict = ModTwoMapping()\n",
    "\n",
    "my_dict['2'] = 2\n",
    "my_dict[4] = 4\n",
    "my_dict['elo'] = 6\n",
    "\n",
    "repr(my_dict)"
   ],
   "metadata": {
    "collapsed": false,
    "ExecuteTime": {
     "end_time": "2023-06-16T19:14:14.134796768Z",
     "start_time": "2023-06-16T19:14:14.089232400Z"
    }
   }
  },
  {
   "cell_type": "code",
   "execution_count": 14,
   "outputs": [
    {
     "ename": "ValueError",
     "evalue": "",
     "output_type": "error",
     "traceback": [
      "\u001B[0;31m---------------------------------------------------------------------------\u001B[0m",
      "\u001B[0;31mValueError\u001B[0m                                Traceback (most recent call last)",
      "Cell \u001B[0;32mIn[14], line 1\u001B[0m\n\u001B[0;32m----> 1\u001B[0m \u001B[43mmy_dict\u001B[49m\u001B[43m[\u001B[49m\u001B[38;5;241;43m7\u001B[39;49m\u001B[43m]\u001B[49m \u001B[38;5;241m=\u001B[39m \u001B[38;5;241m7\u001B[39m\n",
      "Cell \u001B[0;32mIn[12], line 13\u001B[0m, in \u001B[0;36mModTwoMapping.__setitem__\u001B[0;34m(self, key, value)\u001B[0m\n\u001B[1;32m     12\u001B[0m \u001B[38;5;28;01mdef\u001B[39;00m \u001B[38;5;21m__setitem__\u001B[39m(\u001B[38;5;28mself\u001B[39m, key, value) \u001B[38;5;241m-\u001B[39m\u001B[38;5;241m>\u001B[39m \u001B[38;5;28;01mNone\u001B[39;00m:\n\u001B[0;32m---> 13\u001B[0m     \u001B[38;5;28;43mself\u001B[39;49m\u001B[38;5;241;43m.\u001B[39;49m\u001B[43m_validate\u001B[49m\u001B[43m(\u001B[49m\u001B[43mvalue\u001B[49m\u001B[43m)\u001B[49m\n\u001B[1;32m     14\u001B[0m     \u001B[38;5;28mtype\u001B[39m(\u001B[38;5;28mself\u001B[39m)\u001B[38;5;241m.\u001B[39m_dict[key] \u001B[38;5;241m=\u001B[39m value\n",
      "Cell \u001B[0;32mIn[12], line 10\u001B[0m, in \u001B[0;36mModTwoMapping._validate\u001B[0;34m(self, value)\u001B[0m\n\u001B[1;32m      8\u001B[0m \u001B[38;5;28;01mdef\u001B[39;00m \u001B[38;5;21m_validate\u001B[39m(\u001B[38;5;28mself\u001B[39m, value):\n\u001B[1;32m      9\u001B[0m     \u001B[38;5;28;01mif\u001B[39;00m value \u001B[38;5;241m%\u001B[39m \u001B[38;5;241m2\u001B[39m \u001B[38;5;241m!=\u001B[39m \u001B[38;5;241m0\u001B[39m:\n\u001B[0;32m---> 10\u001B[0m         \u001B[38;5;28;01mraise\u001B[39;00m \u001B[38;5;167;01mValueError\u001B[39;00m\n",
      "\u001B[0;31mValueError\u001B[0m: "
     ]
    }
   ],
   "source": [
    "my_dict[7] = 7"
   ],
   "metadata": {
    "collapsed": false,
    "ExecuteTime": {
     "end_time": "2023-06-16T19:14:28.698751929Z",
     "start_time": "2023-06-16T19:14:28.656881998Z"
    }
   }
  },
  {
   "cell_type": "markdown",
   "source": [
    "# Hash\n",
    "\n"
   ],
   "metadata": {
    "collapsed": false
   }
  },
  {
   "cell_type": "markdown",
   "source": [
    "- do wyszukiwania\n",
    "- unikalny\n",
    "- stała szerokość (bo wyszukiwanie jest szybsze binarnie)\n",
    "- kosztem jest to że trzeba je zapisać\n",
    "\n",
    "Spełnia dwie zasady:\n",
    "- taki sam dla takiej samej wartości\n",
    "- różny dla różnych wartości\n",
    "\n",
    "## Hash powinno się liczyć TYLKO dla obiektów immutable!\n",
    "mimo że python na to pozwoli\n"
   ],
   "metadata": {
    "collapsed": false
   }
  },
  {
   "cell_type": "code",
   "execution_count": 16,
   "outputs": [
    {
     "data": {
      "text/plain": "42"
     },
     "execution_count": 16,
     "metadata": {},
     "output_type": "execute_result"
    }
   ],
   "source": [
    "hash(42)  # liczby reprezentowane liczbami"
   ],
   "metadata": {
    "collapsed": false,
    "ExecuteTime": {
     "end_time": "2023-06-16T19:19:41.060234522Z",
     "start_time": "2023-06-16T19:19:41.046798737Z"
    }
   }
  },
  {
   "cell_type": "code",
   "execution_count": 18,
   "outputs": [
    {
     "data": {
      "text/plain": "42"
     },
     "execution_count": 18,
     "metadata": {},
     "output_type": "execute_result"
    }
   ],
   "source": [
    "(42).__hash__()  # low level api dla hash()"
   ],
   "metadata": {
    "collapsed": false,
    "ExecuteTime": {
     "end_time": "2023-06-16T19:20:41.353031104Z",
     "start_time": "2023-06-16T19:20:41.343787745Z"
    }
   }
  },
  {
   "cell_type": "code",
   "execution_count": 19,
   "outputs": [
    {
     "data": {
      "text/plain": "-1935130500940830548"
     },
     "execution_count": 19,
     "metadata": {},
     "output_type": "execute_result"
    }
   ],
   "source": [
    "s = 'john'\n",
    "hash(s)"
   ],
   "metadata": {
    "collapsed": false,
    "ExecuteTime": {
     "end_time": "2023-06-16T19:21:06.528398389Z",
     "start_time": "2023-06-16T19:21:06.509288205Z"
    }
   }
  },
  {
   "cell_type": "code",
   "execution_count": 20,
   "outputs": [
    {
     "data": {
      "text/plain": "-1935130500940830548"
     },
     "execution_count": 20,
     "metadata": {},
     "output_type": "execute_result"
    }
   ],
   "source": [
    "hash(s)"
   ],
   "metadata": {
    "collapsed": false,
    "ExecuteTime": {
     "end_time": "2023-06-16T19:21:11.435141383Z",
     "start_time": "2023-06-16T19:21:11.393316726Z"
    }
   }
  },
  {
   "cell_type": "code",
   "execution_count": 21,
   "outputs": [
    {
     "data": {
      "text/plain": "-1935130500940830548"
     },
     "execution_count": 21,
     "metadata": {},
     "output_type": "execute_result"
    }
   ],
   "source": [
    "hash('john')"
   ],
   "metadata": {
    "collapsed": false,
    "ExecuteTime": {
     "end_time": "2023-06-16T19:23:34.740009277Z",
     "start_time": "2023-06-16T19:23:34.711346680Z"
    }
   }
  },
  {
   "cell_type": "code",
   "execution_count": 100,
   "outputs": [],
   "source": [
    "from dataclasses import dataclass\n",
    "\n",
    "\n",
    "# class Person:\n",
    "#     def __init__(self, first_name, last_name):\n",
    "#         self.first_name = first_name\n",
    "#         self.last_name = last_name\n",
    "#\n",
    "#     def __repr__(self):\n",
    "#         return f'Person: {self.first_name} {self.last_name}, hash = {hash(self)}'\n",
    "#\n",
    "#     def __hash__(self):\n",
    "#         return hash((self.first_name, self.last_name))\n",
    "#\n",
    "#     def __eq__(self, other):\n",
    "#         return type(self) == type(other) and self.first_name == other.first_name and self.last_name == other.last_name\n",
    "\n",
    "\n",
    "@dataclass(frozen=True)\n",
    "class Person:  # analogiczne do klasy zakomentowanej wyżej plus wartości są już immutable (jeśli frozen=True)!!\n",
    "    first_name: str\n",
    "    last_name: str\n",
    "\n",
    "    def __repr__(self):\n",
    "        return f'Person: {self.first_name} {self.last_name}, hash = {hash(self)}'\n",
    "\n",
    "\n",
    "def is_person_in_dict(first_name, last_name, dictionary):\n",
    "    return Person(first_name, last_name) in dictionary\n",
    "\n",
    "\n"
   ],
   "metadata": {
    "collapsed": false,
    "ExecuteTime": {
     "end_time": "2023-06-16T20:03:35.334986339Z",
     "start_time": "2023-06-16T20:03:35.293440802Z"
    }
   }
  },
  {
   "cell_type": "code",
   "execution_count": 101,
   "outputs": [],
   "source": [
    "p = Person('jaro', 'duck')\n"
   ],
   "metadata": {
    "collapsed": false,
    "ExecuteTime": {
     "end_time": "2023-06-16T20:03:38.206824125Z",
     "start_time": "2023-06-16T20:03:38.200543753Z"
    }
   }
  },
  {
   "cell_type": "code",
   "execution_count": 102,
   "outputs": [
    {
     "data": {
      "text/plain": "'Person: jaro duck, hash = -712082483703939115'"
     },
     "execution_count": 102,
     "metadata": {},
     "output_type": "execute_result"
    }
   ],
   "source": [
    "repr(p)"
   ],
   "metadata": {
    "collapsed": false,
    "ExecuteTime": {
     "end_time": "2023-06-16T20:03:38.968200730Z",
     "start_time": "2023-06-16T20:03:38.955278208Z"
    }
   }
  },
  {
   "cell_type": "code",
   "execution_count": 103,
   "outputs": [],
   "source": [
    "d = {}\n",
    "\n",
    "d[p] = 42"
   ],
   "metadata": {
    "collapsed": false,
    "ExecuteTime": {
     "end_time": "2023-06-16T20:03:39.386742243Z",
     "start_time": "2023-06-16T20:03:39.377439579Z"
    }
   }
  },
  {
   "cell_type": "code",
   "execution_count": 104,
   "outputs": [
    {
     "data": {
      "text/plain": "{Person: jaro duck, hash = -712082483703939115: 42}"
     },
     "execution_count": 104,
     "metadata": {},
     "output_type": "execute_result"
    }
   ],
   "source": [
    "d\n"
   ],
   "metadata": {
    "collapsed": false,
    "ExecuteTime": {
     "end_time": "2023-06-16T20:03:39.881072355Z",
     "start_time": "2023-06-16T20:03:39.871795947Z"
    }
   }
  },
  {
   "cell_type": "code",
   "execution_count": 105,
   "outputs": [],
   "source": [
    "s = Person('janush', 'smith')\n"
   ],
   "metadata": {
    "collapsed": false,
    "ExecuteTime": {
     "end_time": "2023-06-16T20:03:40.299749840Z",
     "start_time": "2023-06-16T20:03:40.292645524Z"
    }
   }
  },
  {
   "cell_type": "code",
   "execution_count": 106,
   "outputs": [],
   "source": [
    "d[s] = 2137"
   ],
   "metadata": {
    "collapsed": false,
    "ExecuteTime": {
     "end_time": "2023-06-16T20:03:40.489851628Z",
     "start_time": "2023-06-16T20:03:40.456030202Z"
    }
   }
  },
  {
   "cell_type": "code",
   "execution_count": 107,
   "outputs": [
    {
     "data": {
      "text/plain": "{Person: jaro duck, hash = -712082483703939115: 42,\n Person: janush smith, hash = -4176253268664350516: 2137}"
     },
     "execution_count": 107,
     "metadata": {},
     "output_type": "execute_result"
    }
   ],
   "source": [
    "d"
   ],
   "metadata": {
    "collapsed": false,
    "ExecuteTime": {
     "end_time": "2023-06-16T20:03:40.665399998Z",
     "start_time": "2023-06-16T20:03:40.619682046Z"
    }
   }
  },
  {
   "cell_type": "code",
   "execution_count": 108,
   "outputs": [
    {
     "data": {
      "text/plain": "42"
     },
     "execution_count": 108,
     "metadata": {},
     "output_type": "execute_result"
    }
   ],
   "source": [
    "d[p]"
   ],
   "metadata": {
    "collapsed": false,
    "ExecuteTime": {
     "end_time": "2023-06-16T20:03:40.846783609Z",
     "start_time": "2023-06-16T20:03:40.822638473Z"
    }
   }
  },
  {
   "cell_type": "code",
   "execution_count": 109,
   "outputs": [],
   "source": [
    "p = None"
   ],
   "metadata": {
    "collapsed": false,
    "ExecuteTime": {
     "end_time": "2023-06-16T20:03:40.989580638Z",
     "start_time": "2023-06-16T20:03:40.984061674Z"
    }
   }
  },
  {
   "cell_type": "code",
   "execution_count": 110,
   "outputs": [
    {
     "data": {
      "text/plain": "{Person: jaro duck, hash = -712082483703939115: 42,\n Person: janush smith, hash = -4176253268664350516: 2137}"
     },
     "execution_count": 110,
     "metadata": {},
     "output_type": "execute_result"
    }
   ],
   "source": [
    "d"
   ],
   "metadata": {
    "collapsed": false,
    "ExecuteTime": {
     "end_time": "2023-06-16T20:03:41.300713467Z",
     "start_time": "2023-06-16T20:03:41.293592457Z"
    }
   }
  },
  {
   "cell_type": "code",
   "execution_count": 111,
   "outputs": [
    {
     "data": {
      "text/plain": "'Person: jaro duck, hash = -712082483703939115'"
     },
     "execution_count": 111,
     "metadata": {},
     "output_type": "execute_result"
    }
   ],
   "source": [
    "t = Person('jaro', 'duck')\n",
    "\n",
    "repr(t)"
   ],
   "metadata": {
    "collapsed": false,
    "ExecuteTime": {
     "end_time": "2023-06-16T20:03:41.464516242Z",
     "start_time": "2023-06-16T20:03:41.457076723Z"
    }
   }
  },
  {
   "cell_type": "code",
   "execution_count": 112,
   "outputs": [],
   "source": [
    "w = list(d.keys())[0]"
   ],
   "metadata": {
    "collapsed": false,
    "ExecuteTime": {
     "end_time": "2023-06-16T20:03:41.641278358Z",
     "start_time": "2023-06-16T20:03:41.635373202Z"
    }
   }
  },
  {
   "cell_type": "code",
   "execution_count": 113,
   "outputs": [
    {
     "data": {
      "text/plain": "42"
     },
     "execution_count": 113,
     "metadata": {},
     "output_type": "execute_result"
    }
   ],
   "source": [
    "d[w]"
   ],
   "metadata": {
    "collapsed": false,
    "ExecuteTime": {
     "end_time": "2023-06-16T20:03:41.963764135Z",
     "start_time": "2023-06-16T20:03:41.958684428Z"
    }
   }
  },
  {
   "cell_type": "code",
   "execution_count": 114,
   "outputs": [
    {
     "data": {
      "text/plain": "Person: jaro duck, hash = -712082483703939115"
     },
     "execution_count": 114,
     "metadata": {},
     "output_type": "execute_result"
    }
   ],
   "source": [
    "w"
   ],
   "metadata": {
    "collapsed": false,
    "ExecuteTime": {
     "end_time": "2023-06-16T20:03:42.132932315Z",
     "start_time": "2023-06-16T20:03:42.126273141Z"
    }
   }
  },
  {
   "cell_type": "code",
   "execution_count": 115,
   "outputs": [
    {
     "data": {
      "text/plain": "True"
     },
     "execution_count": 115,
     "metadata": {},
     "output_type": "execute_result"
    }
   ],
   "source": [
    "is_person_in_dict('jaro', 'duck', d)"
   ],
   "metadata": {
    "collapsed": false,
    "ExecuteTime": {
     "end_time": "2023-06-16T20:03:42.339361942Z",
     "start_time": "2023-06-16T20:03:42.293529526Z"
    }
   }
  },
  {
   "cell_type": "code",
   "execution_count": 116,
   "outputs": [
    {
     "data": {
      "text/plain": "{Person: jaro duck, hash = -712082483703939115: 42,\n Person: janush smith, hash = -4176253268664350516: 2137}"
     },
     "execution_count": 116,
     "metadata": {},
     "output_type": "execute_result"
    }
   ],
   "source": [
    "d"
   ],
   "metadata": {
    "collapsed": false,
    "ExecuteTime": {
     "end_time": "2023-06-16T20:03:42.605691756Z",
     "start_time": "2023-06-16T20:03:42.597708931Z"
    }
   }
  },
  {
   "cell_type": "code",
   "execution_count": 117,
   "outputs": [
    {
     "data": {
      "text/plain": "'Person: jaro duck, hash = -712082483703939115'"
     },
     "execution_count": 117,
     "metadata": {},
     "output_type": "execute_result"
    }
   ],
   "source": [
    "repr(w)"
   ],
   "metadata": {
    "collapsed": false,
    "ExecuteTime": {
     "end_time": "2023-06-16T20:03:42.778330859Z",
     "start_time": "2023-06-16T20:03:42.773088246Z"
    }
   }
  },
  {
   "cell_type": "code",
   "execution_count": 118,
   "outputs": [
    {
     "data": {
      "text/plain": "42"
     },
     "execution_count": 118,
     "metadata": {},
     "output_type": "execute_result"
    }
   ],
   "source": [
    "d[w]"
   ],
   "metadata": {
    "collapsed": false,
    "ExecuteTime": {
     "end_time": "2023-06-16T20:03:42.949389431Z",
     "start_time": "2023-06-16T20:03:42.943930796Z"
    }
   }
  },
  {
   "cell_type": "code",
   "execution_count": 119,
   "outputs": [
    {
     "data": {
      "text/plain": "'Person: jaro duck, hash = -712082483703939115'"
     },
     "execution_count": 119,
     "metadata": {},
     "output_type": "execute_result"
    }
   ],
   "source": [
    "p2 = Person('jaro', 'duck')\n",
    "\n",
    "repr(p2)"
   ],
   "metadata": {
    "collapsed": false,
    "ExecuteTime": {
     "end_time": "2023-06-16T20:03:43.342580761Z",
     "start_time": "2023-06-16T20:03:43.336297107Z"
    }
   }
  },
  {
   "cell_type": "code",
   "execution_count": 120,
   "outputs": [
    {
     "data": {
      "text/plain": "42"
     },
     "execution_count": 120,
     "metadata": {},
     "output_type": "execute_result"
    }
   ],
   "source": [
    "\n",
    "d[p2]"
   ],
   "metadata": {
    "collapsed": false,
    "ExecuteTime": {
     "end_time": "2023-06-16T20:03:43.529714387Z",
     "start_time": "2023-06-16T20:03:43.518788804Z"
    }
   }
  },
  {
   "cell_type": "code",
   "execution_count": 121,
   "outputs": [],
   "source": [
    "d[p2] = 666"
   ],
   "metadata": {
    "collapsed": false,
    "ExecuteTime": {
     "end_time": "2023-06-16T20:03:43.713592034Z",
     "start_time": "2023-06-16T20:03:43.705080126Z"
    }
   }
  },
  {
   "cell_type": "code",
   "execution_count": 122,
   "outputs": [
    {
     "data": {
      "text/plain": "{Person: jaro duck, hash = -712082483703939115: 666,\n Person: janush smith, hash = -4176253268664350516: 2137}"
     },
     "execution_count": 122,
     "metadata": {},
     "output_type": "execute_result"
    }
   ],
   "source": [
    "d"
   ],
   "metadata": {
    "collapsed": false,
    "ExecuteTime": {
     "end_time": "2023-06-16T20:03:44.112489955Z",
     "start_time": "2023-06-16T20:03:44.095585805Z"
    }
   }
  },
  {
   "cell_type": "code",
   "execution_count": 123,
   "outputs": [
    {
     "data": {
      "text/plain": "666"
     },
     "execution_count": 123,
     "metadata": {},
     "output_type": "execute_result"
    }
   ],
   "source": [
    "d[p2]"
   ],
   "metadata": {
    "collapsed": false,
    "ExecuteTime": {
     "end_time": "2023-06-16T20:03:44.283118408Z",
     "start_time": "2023-06-16T20:03:44.276834888Z"
    }
   }
  },
  {
   "cell_type": "code",
   "execution_count": 124,
   "outputs": [
    {
     "data": {
      "text/plain": "666"
     },
     "execution_count": 124,
     "metadata": {},
     "output_type": "execute_result"
    }
   ],
   "source": [
    "d[w]"
   ],
   "metadata": {
    "collapsed": false,
    "ExecuteTime": {
     "end_time": "2023-06-16T20:03:44.579774909Z",
     "start_time": "2023-06-16T20:03:44.557502770Z"
    }
   }
  },
  {
   "cell_type": "code",
   "execution_count": 125,
   "outputs": [
    {
     "data": {
      "text/plain": "'Person: jaro duck, hash = -712082483703939115'"
     },
     "execution_count": 125,
     "metadata": {},
     "output_type": "execute_result"
    }
   ],
   "source": [
    "repr(p2)"
   ],
   "metadata": {
    "collapsed": false,
    "ExecuteTime": {
     "end_time": "2023-06-16T20:03:44.748006879Z",
     "start_time": "2023-06-16T20:03:44.700124821Z"
    }
   }
  },
  {
   "cell_type": "code",
   "execution_count": 126,
   "outputs": [
    {
     "data": {
      "text/plain": "'Person: jaro duck, hash = -712082483703939115'"
     },
     "execution_count": 126,
     "metadata": {},
     "output_type": "execute_result"
    }
   ],
   "source": [
    "repr(w)"
   ],
   "metadata": {
    "collapsed": false,
    "ExecuteTime": {
     "end_time": "2023-06-16T20:03:44.934417569Z",
     "start_time": "2023-06-16T20:03:44.912686264Z"
    }
   }
  },
  {
   "cell_type": "code",
   "execution_count": 127,
   "outputs": [
    {
     "ename": "FrozenInstanceError",
     "evalue": "cannot assign to field 'last_name'",
     "output_type": "error",
     "traceback": [
      "\u001B[0;31m---------------------------------------------------------------------------\u001B[0m",
      "\u001B[0;31mFrozenInstanceError\u001B[0m                       Traceback (most recent call last)",
      "Cell \u001B[0;32mIn[127], line 1\u001B[0m\n\u001B[0;32m----> 1\u001B[0m \u001B[43mp2\u001B[49m\u001B[38;5;241;43m.\u001B[39;49m\u001B[43mlast_name\u001B[49m \u001B[38;5;241m=\u001B[39m \u001B[38;5;124m'\u001B[39m\u001B[38;5;124mkaczynski\u001B[39m\u001B[38;5;124m'\u001B[39m\n",
      "File \u001B[0;32m<string>:4\u001B[0m, in \u001B[0;36m__setattr__\u001B[0;34m(self, name, value)\u001B[0m\n",
      "\u001B[0;31mFrozenInstanceError\u001B[0m: cannot assign to field 'last_name'"
     ]
    }
   ],
   "source": [
    "p2.last_name = 'kaczynski'"
   ],
   "metadata": {
    "collapsed": false,
    "ExecuteTime": {
     "end_time": "2023-06-16T20:03:45.308379813Z",
     "start_time": "2023-06-16T20:03:45.243920773Z"
    }
   }
  },
  {
   "cell_type": "code",
   "execution_count": 128,
   "outputs": [
    {
     "data": {
      "text/plain": "'Person: jaro duck, hash = -712082483703939115'"
     },
     "execution_count": 128,
     "metadata": {},
     "output_type": "execute_result"
    }
   ],
   "source": [
    "repr(p2)"
   ],
   "metadata": {
    "collapsed": false,
    "ExecuteTime": {
     "end_time": "2023-06-16T20:03:45.602921849Z",
     "start_time": "2023-06-16T20:03:45.577469339Z"
    }
   }
  },
  {
   "cell_type": "code",
   "execution_count": 129,
   "outputs": [
    {
     "data": {
      "text/plain": "666"
     },
     "execution_count": 129,
     "metadata": {},
     "output_type": "execute_result"
    }
   ],
   "source": [
    "d[p2]"
   ],
   "metadata": {
    "collapsed": false,
    "ExecuteTime": {
     "end_time": "2023-06-16T20:03:46.028575108Z",
     "start_time": "2023-06-16T20:03:46.017174210Z"
    }
   }
  },
  {
   "cell_type": "code",
   "execution_count": 130,
   "outputs": [
    {
     "data": {
      "text/plain": "{Person: jaro duck, hash = -712082483703939115: 666,\n Person: janush smith, hash = -4176253268664350516: 2137}"
     },
     "execution_count": 130,
     "metadata": {},
     "output_type": "execute_result"
    }
   ],
   "source": [
    "d"
   ],
   "metadata": {
    "collapsed": false,
    "ExecuteTime": {
     "end_time": "2023-06-16T20:03:46.867442437Z",
     "start_time": "2023-06-16T20:03:46.861098851Z"
    }
   }
  },
  {
   "cell_type": "markdown",
   "source": [
    "# defaultdict"
   ],
   "metadata": {
    "collapsed": false
   }
  },
  {
   "cell_type": "code",
   "execution_count": 131,
   "outputs": [],
   "source": [
    "from collections import defaultdict\n"
   ],
   "metadata": {
    "collapsed": false,
    "ExecuteTime": {
     "end_time": "2023-06-16T20:08:31.457013805Z",
     "start_time": "2023-06-16T20:08:31.416142026Z"
    }
   }
  },
  {
   "cell_type": "code",
   "execution_count": 132,
   "outputs": [],
   "source": [
    "d = defaultdict(list)"
   ],
   "metadata": {
    "collapsed": false,
    "ExecuteTime": {
     "end_time": "2023-06-16T20:08:56.487988154Z",
     "start_time": "2023-06-16T20:08:56.438198438Z"
    }
   }
  },
  {
   "cell_type": "code",
   "execution_count": 133,
   "outputs": [
    {
     "data": {
      "text/plain": "collections.defaultdict"
     },
     "execution_count": 133,
     "metadata": {},
     "output_type": "execute_result"
    }
   ],
   "source": [
    "type(d)"
   ],
   "metadata": {
    "collapsed": false,
    "ExecuteTime": {
     "end_time": "2023-06-16T20:09:01.011958882Z",
     "start_time": "2023-06-16T20:09:00.951819322Z"
    }
   }
  },
  {
   "cell_type": "code",
   "execution_count": 134,
   "outputs": [
    {
     "data": {
      "text/plain": "[]"
     },
     "execution_count": 134,
     "metadata": {},
     "output_type": "execute_result"
    }
   ],
   "source": [
    "d[1]"
   ],
   "metadata": {
    "collapsed": false,
    "ExecuteTime": {
     "end_time": "2023-06-16T20:09:21.624178440Z",
     "start_time": "2023-06-16T20:09:21.600864147Z"
    }
   }
  },
  {
   "cell_type": "code",
   "execution_count": 135,
   "outputs": [
    {
     "data": {
      "text/plain": "defaultdict(list, {1: []})"
     },
     "execution_count": 135,
     "metadata": {},
     "output_type": "execute_result"
    }
   ],
   "source": [
    "d"
   ],
   "metadata": {
    "collapsed": false,
    "ExecuteTime": {
     "end_time": "2023-06-16T20:09:33.750538232Z",
     "start_time": "2023-06-16T20:09:33.705966969Z"
    }
   }
  },
  {
   "cell_type": "code",
   "execution_count": 141,
   "outputs": [
    {
     "data": {
      "text/plain": "defaultdict(list, {1: [], 'elo': ['XD']})"
     },
     "execution_count": 141,
     "metadata": {},
     "output_type": "execute_result"
    }
   ],
   "source": [
    "d['elo'].append('XD')\n",
    "d"
   ],
   "metadata": {
    "collapsed": false,
    "ExecuteTime": {
     "end_time": "2023-06-16T20:12:03.501047450Z",
     "start_time": "2023-06-16T20:12:03.455067261Z"
    }
   }
  },
  {
   "cell_type": "code",
   "execution_count": 143,
   "outputs": [],
   "source": [
    "d['elo'] = 42"
   ],
   "metadata": {
    "collapsed": false,
    "ExecuteTime": {
     "end_time": "2023-06-16T20:12:41.202752159Z",
     "start_time": "2023-06-16T20:12:41.195104195Z"
    }
   }
  },
  {
   "cell_type": "code",
   "execution_count": 146,
   "outputs": [
    {
     "ename": "AttributeError",
     "evalue": "'int' object has no attribute 'append'",
     "output_type": "error",
     "traceback": [
      "\u001B[0;31m---------------------------------------------------------------------------\u001B[0m",
      "\u001B[0;31mAttributeError\u001B[0m                            Traceback (most recent call last)",
      "Cell \u001B[0;32mIn[146], line 1\u001B[0m\n\u001B[0;32m----> 1\u001B[0m \u001B[43md\u001B[49m\u001B[43m[\u001B[49m\u001B[38;5;124;43m'\u001B[39;49m\u001B[38;5;124;43melo\u001B[39;49m\u001B[38;5;124;43m'\u001B[39;49m\u001B[43m]\u001B[49m\u001B[38;5;241;43m.\u001B[39;49m\u001B[43mappend\u001B[49m(\u001B[38;5;124m'\u001B[39m\u001B[38;5;124msleeping beauty\u001B[39m\u001B[38;5;124m'\u001B[39m)\n",
      "\u001B[0;31mAttributeError\u001B[0m: 'int' object has no attribute 'append'"
     ]
    }
   ],
   "source": [
    "d['elo'].append('sleeping beauty')"
   ],
   "metadata": {
    "collapsed": false,
    "ExecuteTime": {
     "end_time": "2023-06-16T20:12:59.906126279Z",
     "start_time": "2023-06-16T20:12:59.831941695Z"
    }
   }
  },
  {
   "cell_type": "code",
   "execution_count": 138,
   "outputs": [],
   "source": [
    "e = defaultdict(lambda: 42)"
   ],
   "metadata": {
    "collapsed": false,
    "ExecuteTime": {
     "end_time": "2023-06-16T20:10:43.051139271Z",
     "start_time": "2023-06-16T20:10:43.044335040Z"
    }
   }
  },
  {
   "cell_type": "code",
   "execution_count": 139,
   "outputs": [
    {
     "data": {
      "text/plain": "42"
     },
     "execution_count": 139,
     "metadata": {},
     "output_type": "execute_result"
    }
   ],
   "source": [
    "e[2]"
   ],
   "metadata": {
    "collapsed": false,
    "ExecuteTime": {
     "end_time": "2023-06-16T20:10:43.536875177Z",
     "start_time": "2023-06-16T20:10:43.521404648Z"
    }
   }
  },
  {
   "cell_type": "code",
   "execution_count": 140,
   "outputs": [
    {
     "data": {
      "text/plain": "defaultdict(<function __main__.<lambda>()>, {2: 42})"
     },
     "execution_count": 140,
     "metadata": {},
     "output_type": "execute_result"
    }
   ],
   "source": [
    "e"
   ],
   "metadata": {
    "collapsed": false,
    "ExecuteTime": {
     "end_time": "2023-06-16T20:10:46.785963201Z",
     "start_time": "2023-06-16T20:10:46.742038811Z"
    }
   }
  },
  {
   "cell_type": "code",
   "execution_count": 149,
   "outputs": [
    {
     "name": "stdout",
     "output_type": "stream",
     "text": [
      "['Edward MADEJSKI', 'Erwin NYC', 'Ryszard PIEC', 'Leonard PIONTEK', 'Fryedryk SZERFKE', 'Wladyslaw SZSZEPANIAK', 'Gerard WODARZ', 'Ernest WILIMOWSKI', 'Ewald DYTKO', 'Antoni GALECKI', 'Wilhelm GORA', 'Boleslaw HABOWSKI', 'Stanislaw BARAN', 'Ewald CEBULA', 'Edmund GIEMSA', 'Jozef KORBAS', 'Kazimierz LIS', 'Antoni LYKO', 'Wilhelm PIEC', 'Edmund TWORZ', 'Jan WASIEWICZ', 'Walter BROM', 'Jan TOMASZEWSKI', 'Antoni SZYMANOWSKI', 'Jerzy GORGON', 'Wladyslaw ZMUDA', 'Adam MUSIAL', 'Kazimierz DEYNA', 'Henryk KASPERCZAK', 'Zygmunt MASZCZYK', 'Grzegorz LATO', 'Andrzej SZARMACH', 'Robert GADOCHA', 'Andrzej FISCHER', 'Zygmunt KALINOWSKI', 'Zbigniew GUT', 'Henryk WIECZOREK', 'Miroslaw BULZACKI', 'Leslaw CMIKIEWICZ', 'Roman JAKOBCZAK', 'Jan DOMARSKI', 'Zdzislaw KAPKA', 'Kazimierz KMIECIK', 'Marek KUSTO', 'Jan TOMASZEWSKI', 'Antoni SZYMANOWSKI', 'Jerzy GORGON', 'Wladyslaw ZMUDA', 'Adam MUSIAL', 'Kazimierz DEYNA', 'Henryk KASPERCZAK', 'Zygmunt MASZCZYK', 'Grzegorz LATO', 'Andrzej SZARMACH', 'Robert GADOCHA', 'Andrzej FISCHER', 'Zygmunt KALINOWSKI', 'Zbigniew GUT', 'Henryk WIECZOREK', 'Miroslaw BULZACKI', 'Leslaw CMIKIEWICZ', 'Roman JAKOBCZAK', 'Jan DOMARSKI', 'Zdzislaw KAPKA', 'Kazimierz KMIECIK', 'Marek KUSTO', 'Jan TOMASZEWSKI', 'Antoni SZYMANOWSKI', 'Jerzy GORGON', 'Wladyslaw ZMUDA', 'Adam MUSIAL', 'Kazimierz DEYNA', 'Henryk KASPERCZAK', 'Zygmunt MASZCZYK', 'Grzegorz LATO', 'Andrzej SZARMACH', 'Robert GADOCHA', 'Andrzej FISCHER', 'Zygmunt KALINOWSKI', 'Zbigniew GUT', 'Henryk WIECZOREK', 'Miroslaw BULZACKI', 'Leslaw CMIKIEWICZ', 'Roman JAKOBCZAK', 'Jan DOMARSKI', 'Zdzislaw KAPKA', 'Kazimierz KMIECIK', 'Marek KUSTO', 'Jan TOMASZEWSKI', 'Antoni SZYMANOWSKI', 'Zbigniew GUT', 'Jerzy GORGON', 'Wladyslaw ZMUDA', 'Kazimierz DEYNA', 'Henryk KASPERCZAK', 'Zygmunt MASZCZYK', 'Grzegorz LATO', 'Andrzej SZARMACH', 'Robert GADOCHA', 'Andrzej FISCHER', 'Zygmunt KALINOWSKI', 'Henryk WIECZOREK', 'Miroslaw BULZACKI', 'Adam MUSIAL', 'Leslaw CMIKIEWICZ', 'Roman JAKOBCZAK', 'Jan DOMARSKI', 'Zdzislaw KAPKA', 'Kazimierz KMIECIK', 'Marek KUSTO', 'Jan TOMASZEWSKI', 'Antoni SZYMANOWSKI', 'Jerzy GORGON', 'Wladyslaw ZMUDA', 'Adam MUSIAL', 'Kazimierz DEYNA', 'Henryk KASPERCZAK', 'Zygmunt MASZCZYK', 'Grzegorz LATO', 'Andrzej SZARMACH', 'Robert GADOCHA', 'Andrzej FISCHER', 'Zygmunt KALINOWSKI', 'Zbigniew GUT', 'Henryk WIECZOREK', 'Miroslaw BULZACKI', 'Leslaw CMIKIEWICZ', 'Roman JAKOBCZAK', 'Jan DOMARSKI', 'Zdzislaw KAPKA', 'Kazimierz KMIECIK', 'Marek KUSTO', 'Jan TOMASZEWSKI', 'Antoni SZYMANOWSKI', 'Jerzy GORGON', 'Wladyslaw ZMUDA', 'Adam MUSIAL', 'Kazimierz DEYNA', 'Henryk KASPERCZAK', 'Zygmunt MASZCZYK', 'Grzegorz LATO', 'Robert GADOCHA', 'Jan DOMARSKI', 'Andrzej FISCHER', 'Zygmunt KALINOWSKI', 'Zbigniew GUT', 'Henryk WIECZOREK', 'Miroslaw BULZACKI', 'Leslaw CMIKIEWICZ', 'Roman JAKOBCZAK', 'Andrzej SZARMACH', 'Zdzislaw KAPKA', 'Kazimierz KMIECIK', 'Marek KUSTO', 'Jan TOMASZEWSKI', 'Antoni SZYMANOWSKI', 'Jerzy GORGON', 'Wladyslaw ZMUDA', 'Adam MUSIAL', 'Kazimierz DEYNA', 'Henryk KASPERCZAK', 'Zygmunt MASZCZYK', 'Grzegorz LATO', 'Andrzej SZARMACH', 'Robert GADOCHA', 'Andrzej FISCHER', 'Zygmunt KALINOWSKI', 'Zbigniew GUT', 'Henryk WIECZOREK', 'Miroslaw BULZACKI', 'Leslaw CMIKIEWICZ', 'Roman JAKOBCZAK', 'Jan DOMARSKI', 'Zdzislaw KAPKA', 'Kazimierz KMIECIK', 'Marek KUSTO', 'Jan TOMASZEWSKI', 'Henryk MACULEWICZ', 'Antoni SZYMANOWSKI', 'Adam NAWALKA', 'Jerzy GORGON', 'Wladyslaw ZMUDA', 'Bohdan MASZTALER', 'Kazimierz DEYNA', 'Grzegorz LATO', 'Andrzej SZARMACH', 'Wlodzimierz LUBANSKI', 'Wlodzimierz MAZUR', 'Andrzej IWAN', 'Henryk KASPERCZAK', 'Wojciech RUDY', 'Janusz KUPCEWICZ', 'Miroslav JUSTEK', 'Marek KUSTO', 'Zbigniew BONIEK', 'Roman WOJCICKI', 'Zygmunt KUKLA', 'Zdzislaw KOSTRZEWA', 'Jan TOMASZEWSKI', 'Henryk MACULEWICZ', 'Antoni SZYMANOWSKI', 'Adam NAWALKA', 'Jerzy GORGON', 'Henryk KASPERCZAK', 'Wladyslaw ZMUDA', 'Kazimierz DEYNA', 'Grzegorz LATO', 'Andrzej SZARMACH', 'Wlodzimierz LUBANSKI', 'Wlodzimierz MAZUR', 'Andrzej IWAN', 'Wojciech RUDY', 'Bohdan MASZTALER', 'Janusz KUPCEWICZ', 'Miroslav JUSTEK', 'Marek KUSTO', 'Zbigniew BONIEK', 'Roman WOJCICKI', 'Zygmunt KUKLA', 'Zdzislaw KOSTRZEWA', 'Jan TOMASZEWSKI', 'Antoni SZYMANOWSKI', 'Jerzy GORGON', 'Andrzej IWAN', 'Henryk KASPERCZAK', 'Wladyslaw ZMUDA', 'Wojciech RUDY', 'Bohdan MASZTALER', 'Kazimierz DEYNA', 'Grzegorz LATO', 'Zbigniew BONIEK', 'Wlodzimierz MAZUR', 'Henryk MACULEWICZ', 'Adam NAWALKA', 'Janusz KUPCEWICZ', 'Miroslav JUSTEK', 'Marek KUSTO', 'Andrzej SZARMACH', 'Wlodzimierz LUBANSKI', 'Roman WOJCICKI', 'Zygmunt KUKLA', 'Zdzislaw KOSTRZEWA', 'Jan TOMASZEWSKI', 'Henryk MACULEWICZ', 'Antoni SZYMANOWSKI', 'Adam NAWALKA', 'Henryk KASPERCZAK', 'Wladyslaw ZMUDA', 'Bohdan MASZTALER', 'Kazimierz DEYNA', 'Grzegorz LATO', 'Andrzej SZARMACH', 'Zbigniew BONIEK', 'Wlodzimierz MAZUR', 'Jerzy GORGON', 'Andrzej IWAN', 'Wojciech RUDY', 'Janusz KUPCEWICZ', 'Miroslav JUSTEK', 'Marek KUSTO', 'Wlodzimierz LUBANSKI', 'Roman WOJCICKI', 'Zygmunt KUKLA', 'Zdzislaw KOSTRZEWA', 'Zygmunt KUKLA', 'Henryk MACULEWICZ', 'Antoni SZYMANOWSKI', 'Adam NAWALKA', 'Jerzy GORGON', 'Wladyslaw ZMUDA', 'Bohdan MASZTALER', 'Kazimierz DEYNA', 'Grzegorz LATO', 'Andrzej SZARMACH', 'Zbigniew BONIEK', 'Jan TOMASZEWSKI', 'Wlodzimierz MAZUR', 'Andrzej IWAN', 'Henryk KASPERCZAK', 'Wojciech RUDY', 'Janusz KUPCEWICZ', 'Miroslav JUSTEK', 'Marek KUSTO', 'Wlodzimierz LUBANSKI', 'Roman WOJCICKI', 'Zdzislaw KOSTRZEWA', 'Zygmunt KUKLA', 'Henryk MACULEWICZ', 'Antoni SZYMANOWSKI', 'Adam NAWALKA', 'Jerzy GORGON', 'Henryk KASPERCZAK', 'Wladyslaw ZMUDA', 'Kazimierz DEYNA', 'Grzegorz LATO', 'Andrzej SZARMACH', 'Zbigniew BONIEK', 'Jan TOMASZEWSKI', 'Wlodzimierz MAZUR', 'Andrzej IWAN', 'Wojciech RUDY', 'Bohdan MASZTALER', 'Janusz KUPCEWICZ', 'Miroslav JUSTEK', 'Marek KUSTO', 'Wlodzimierz LUBANSKI', 'Roman WOJCICKI', 'Zdzislaw KOSTRZEWA', 'Jozef MLYNARCZYK', 'Pawel JANAS', 'Jan JALOCHA', 'Waldemar MATYSIK', 'Wladyslaw ZMUDA', 'Stefan MAJEWSKI', 'Wlodimierz SMOLAREK', 'Andrzej BUNCOL', 'Grzegorz LATO', 'Andrzej IWAN', 'Zbigniew BONIEK', 'Marek DZIUBA', 'Janusz KUPCEWICZ', 'Tadeusz DOLNY', 'Piotr SKROBOWSKI', 'Roman WOJCICKI', 'Andrzej PALASZ', 'Wlodzimierz CIOLEK', 'Andrzej SZARMACH', 'Marek KUSTO', 'Jacek KAZIMIERSKI', 'Piotr MOWLIK', 'Jozef MLYNARCZYK', 'Pawel JANAS', 'Jan JALOCHA', 'Wladyslaw ZMUDA', 'Stefan MAJEWSKI', 'Wlodimierz SMOLAREK', 'Andrzej BUNCOL', 'Andrzej PALASZ', 'Grzegorz LATO', 'Andrzej IWAN', 'Zbigniew BONIEK', 'Marek DZIUBA', 'Janusz KUPCEWICZ', 'Tadeusz DOLNY', 'Piotr SKROBOWSKI', 'Waldemar MATYSIK', 'Roman WOJCICKI', 'Wlodzimierz CIOLEK', 'Andrzej SZARMACH', 'Marek KUSTO', 'Jacek KAZIMIERSKI', 'Piotr MOWLIK', 'Jozef MLYNARCZYK', 'Janusz KUPCEWICZ', 'Pawel JANAS', 'Jan JALOCHA', 'Waldemar MATYSIK', 'Wladyslaw ZMUDA', 'Stefan MAJEWSKI', 'Wlodimierz SMOLAREK', 'Andrzej BUNCOL', 'Grzegorz LATO', 'Zbigniew BONIEK', 'Marek DZIUBA', 'Tadeusz DOLNY', 'Piotr SKROBOWSKI', 'Roman WOJCICKI', 'Andrzej PALASZ', 'Wlodzimierz CIOLEK', 'Andrzej SZARMACH', 'Marek KUSTO', 'Andrzej IWAN', 'Jacek KAZIMIERSKI', 'Piotr MOWLIK', 'Jozef MLYNARCZYK', 'Marek DZIUBA', 'Janusz KUPCEWICZ', 'Pawel JANAS', 'Waldemar MATYSIK', 'Wladyslaw ZMUDA', 'Stefan MAJEWSKI', 'Wlodimierz SMOLAREK', 'Andrzej BUNCOL', 'Grzegorz LATO', 'Zbigniew BONIEK', 'Tadeusz DOLNY', 'Piotr SKROBOWSKI', 'Jan JALOCHA', 'Roman WOJCICKI', 'Andrzej PALASZ', 'Wlodzimierz CIOLEK', 'Andrzej SZARMACH', 'Marek KUSTO', 'Andrzej IWAN', 'Jacek KAZIMIERSKI', 'Piotr MOWLIK', 'Jozef MLYNARCZYK', 'Marek DZIUBA', 'Janusz KUPCEWICZ', 'Pawel JANAS', 'Waldemar MATYSIK', 'Wladyslaw ZMUDA', 'Stefan MAJEWSKI', 'Wlodimierz SMOLAREK', 'Andrzej BUNCOL', 'Grzegorz LATO', 'Zbigniew BONIEK', 'Tadeusz DOLNY', 'Piotr SKROBOWSKI', 'Jan JALOCHA', 'Roman WOJCICKI', 'Andrzej PALASZ', 'Wlodzimierz CIOLEK', 'Andrzej SZARMACH', 'Marek KUSTO', 'Andrzej IWAN', 'Jacek KAZIMIERSKI', 'Piotr MOWLIK', 'Jozef MLYNARCZYK', 'Marek DZIUBA', 'Janusz KUPCEWICZ', 'Pawel JANAS', 'Waldemar MATYSIK', 'Wladyslaw ZMUDA', 'Stefan MAJEWSKI', 'Wlodimierz SMOLAREK', 'Andrzej BUNCOL', 'Wlodzimierz CIOLEK', 'Grzegorz LATO', 'Tadeusz DOLNY', 'Piotr SKROBOWSKI', 'Jan JALOCHA', 'Roman WOJCICKI', 'Andrzej PALASZ', 'Andrzej SZARMACH', 'Marek KUSTO', 'Andrzej IWAN', 'Zbigniew BONIEK', 'Jacek KAZIMIERSKI', 'Piotr MOWLIK', 'Jozef MLYNARCZYK', 'Marek DZIUBA', 'Janusz KUPCEWICZ', 'Pawel JANAS', 'Waldemar MATYSIK', 'Wladyslaw ZMUDA', 'Stefan MAJEWSKI', 'Andrzej BUNCOL', 'Grzegorz LATO', 'Andrzej SZARMACH', 'Zbigniew BONIEK', 'Tadeusz DOLNY', 'Piotr SKROBOWSKI', 'Jan JALOCHA', 'Wlodimierz SMOLAREK', 'Roman WOJCICKI', 'Andrzej PALASZ', 'Wlodzimierz CIOLEK', 'Marek KUSTO', 'Andrzej IWAN', 'Jacek KAZIMIERSKI', 'Piotr MOWLIK', 'Jozef MLYNARCZYK', 'Marek OSTROWSKI', 'Roman WOJCICKI', 'Waldemar MATYSIK', 'Stefan MAJEWSKI', 'Wlodimierz SMOLAREK', 'Ryszard KOMORNICKI', 'Dariusz KUBICKI', 'Andrzej BUNCOL', 'Zbigniew BONIEK', 'Dariusz DZIEKANOWSKI', 'Kazimierz PRZYBYS', 'Wladyslaw ZMUDA', 'Ryszard TARASIEWICZ', 'Jan URBAN', 'Jan KARAS', 'Jacek KAZIMIERSKI', 'Andrzej PALASZ', 'Andrzej ZGUTCZYNSKI', 'Krzysztof PAWLAK', 'Jozef WANDZIK', 'Jan FURTOK', 'Jozef MLYNARCZYK', 'Marek OSTROWSKI', 'Roman WOJCICKI', 'Waldemar MATYSIK', 'Jan URBAN', 'Stefan MAJEWSKI', 'Wlodimierz SMOLAREK', 'Ryszard KOMORNICKI', 'Krzysztof PAWLAK', 'Zbigniew BONIEK', 'Dariusz DZIEKANOWSKI', 'Kazimierz PRZYBYS', 'Wladyslaw ZMUDA', 'Ryszard TARASIEWICZ', 'Jan KARAS', 'Jacek KAZIMIERSKI', 'Dariusz KUBICKI', 'Andrzej BUNCOL', 'Andrzej PALASZ', 'Andrzej ZGUTCZYNSKI', 'Jozef WANDZIK', 'Jan FURTOK', 'Jozef MLYNARCZYK', 'Marek OSTROWSKI', 'Roman WOJCICKI', 'Waldemar MATYSIK', 'Jan URBAN', 'Stefan MAJEWSKI', 'Wlodimierz SMOLAREK', 'Ryszard KOMORNICKI', 'Krzysztof PAWLAK', 'Zbigniew BONIEK', 'Dariusz DZIEKANOWSKI', 'Kazimierz PRZYBYS', 'Wladyslaw ZMUDA', 'Ryszard TARASIEWICZ', 'Jan KARAS', 'Jacek KAZIMIERSKI', 'Dariusz KUBICKI', 'Andrzej BUNCOL', 'Andrzej PALASZ', 'Andrzej ZGUTCZYNSKI', 'Jozef WANDZIK', 'Jan FURTOK', 'Jozef MLYNARCZYK', 'Kazimierz PRZYBYS', 'Marek OSTROWSKI', 'Roman WOJCICKI', 'Ryszard TARASIEWICZ', 'Jan URBAN', 'Jan KARAS', 'Stefan MAJEWSKI', 'Wlodimierz SMOLAREK', 'Zbigniew BONIEK', 'Dariusz DZIEKANOWSKI', 'Wladyslaw ZMUDA', 'Waldemar MATYSIK', 'Jacek KAZIMIERSKI', 'Ryszard KOMORNICKI', 'Dariusz KUBICKI', 'Andrzej BUNCOL', 'Andrzej PALASZ', 'Andrzej ZGUTCZYNSKI', 'Krzysztof PAWLAK', 'Jozef WANDZIK', 'Jan FURTOK', 'DUDEK', 'ZEWLAKOW', 'HAJTO', 'SWIERCZEWSKI', 'KALUZNY', 'OLISADEBE', 'WALDOCH', 'KRZYNOWEK', 'ZURAWSKI', 'J. BAK', 'KOZMINSKI', 'MAJDAN', 'MATYSEK', 'KLOS', 'ZIELINSKI', 'RZASA', 'KUCHARSKI', 'KRYSZALOWICZ', 'GLOWACKI', 'M. ZEWLAKOW', 'MURAWSKI', 'A. BAK', 'SIBIK', 'DUDEK', 'ZEWLAKOW', 'HAJTO', 'SWIERCZEWSKI', 'KRYSZALOWICZ', 'KALUZNY', 'OLISADEBE', 'WALDOCH', 'KRZYNOWEK', 'ZURAWSKI', 'KOZMINSKI', 'MAJDAN', 'MATYSEK', 'KLOS', 'ZIELINSKI', 'RZASA', 'KUCHARSKI', 'GLOWACKI', 'M. ZEWLAKOW', 'MURAWSKI', 'A. BAK', 'J. BAK', 'SIBIK', 'MAJDAN', 'KLOS', 'ZIELINSKI', 'KUCHARSKI', 'KRYSZALOWICZ', 'OLISADEBE', 'GLOWACKI', 'MURAWSKI', 'KRZYNOWEK', 'ZURAWSKI', 'KOZMINSKI', 'DUDEK', 'MATYSEK', 'ZEWLAKOW', 'RZASA', 'HAJTO', 'SWIERCZEWSKI', 'KALUZNY', 'M. ZEWLAKOW', 'WALDOCH', 'A. BAK', 'J. BAK', 'SIBIK', 'BORUC', 'JOP', 'BASZCZYNSKI', 'BAK', 'SOBOLEWSKI', 'KRZYNOWEK', 'ZURAWSKI', 'SZYMKOWIAK', 'ZEWLAKOW', 'SMOLAREK', 'RADOMSKI', 'GANCARCZYK', 'KOSOWSKI', 'RASIAK', 'KUSZCZAK', 'MILA', 'DUDKA', 'LEWANDOWSKI', 'BOSACKI', 'GIZA', 'JELEN', 'FABIANSKI', 'BROZEK', 'BORUC', 'BASZCZYNSKI', 'BAK', 'SOBOLEWSKI', 'KRZYNOWEK', 'ZURAWSKI', 'ZEWLAKOW', 'SMOLAREK', 'RADOMSKI', 'BOSACKI', 'JELEN', 'JOP', 'GANCARCZYK', 'KOSOWSKI', 'SZYMKOWIAK', 'RASIAK', 'KUSZCZAK', 'MILA', 'DUDKA', 'LEWANDOWSKI', 'GIZA', 'FABIANSKI', 'BROZEK', 'BORUC', 'BASZCZYNSKI', 'BAK', 'KRZYNOWEK', 'ZURAWSKI', 'SZYMKOWIAK', 'ZEWLAKOW', 'SMOLAREK', 'RADOMSKI', 'BOSACKI', 'JELEN', 'JOP', 'GANCARCZYK', 'KOSOWSKI', 'SOBOLEWSKI', 'RASIAK', 'KUSZCZAK', 'MILA', 'DUDKA', 'LEWANDOWSKI', 'GIZA', 'FABIANSKI', 'BROZEK']\n"
     ]
    }
   ],
   "source": [
    "import csv\n",
    "import os\n",
    "\n",
    "with open(os.path.join(\"data\", \"Male_WorldCupPlayers.csv\"), 'rt', encoding='utf-8') as players:\n",
    "    reader = csv.reader(players)\n",
    "    next(reader)\n",
    "    name_list = []\n",
    "    for row in reader:\n",
    "        name_list.append((row[2], row[6]))\n",
    "    # print(name_list)\n",
    "\n",
    "    players_by_country = defaultdict(list)\n",
    "    for country, name in name_list:\n",
    "        players_by_country[country].append(name)\n",
    "    print(players_by_country['POL'])\n",
    "\n"
   ],
   "metadata": {
    "collapsed": false,
    "ExecuteTime": {
     "end_time": "2023-06-16T20:24:17.579760118Z",
     "start_time": "2023-06-16T20:24:17.476053968Z"
    }
   }
  },
  {
   "cell_type": "code",
   "execution_count": null,
   "outputs": [],
   "source": [],
   "metadata": {
    "collapsed": false
   }
  }
 ],
 "metadata": {
  "kernelspec": {
   "display_name": "Python 3",
   "language": "python",
   "name": "python3"
  },
  "language_info": {
   "codemirror_mode": {
    "name": "ipython",
    "version": 2
   },
   "file_extension": ".py",
   "mimetype": "text/x-python",
   "name": "python",
   "nbconvert_exporter": "python",
   "pygments_lexer": "ipython2",
   "version": "2.7.6"
  }
 },
 "nbformat": 4,
 "nbformat_minor": 0
}
