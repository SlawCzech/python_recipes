{
 "cells": [
  {
   "cell_type": "markdown",
   "source": [
    "# Dwa rodzaje kolekcji w pythonie\n",
    "- indeksowane (sequence type) - używają indeksów do trzymania informacji gdzie jest jakiś obiekt\n",
    "- mapping type (hashmapy) - używają obiektów do znajdywania innych obiektów (więcej pamięci idzie)\n"
   ],
   "metadata": {
    "collapsed": false
   }
  },
  {
   "cell_type": "markdown",
   "source": [
    "abc.Sequence (klasa matka dla wszysktich sequence. Dziedziczenie:\n",
    "- tuple\n",
    "- - NamedTuple\n",
    "- str\n",
    "- range\n",
    "- memoryview\n",
    "- abc.ByteString\n",
    "-  - bytes\n",
    "-  - bytearray\n",
    "- abc.MutableSequence\n",
    "-  - list\n",
    "-  - bytearray\n",
    "-  - deque"
   ],
   "metadata": {
    "collapsed": false
   }
  },
  {
   "cell_type": "code",
   "execution_count": 36,
   "outputs": [],
   "source": [
    "from abc import abstractmethod\n",
    "from collections.abc import Sequence, MutableSequence\n",
    "# from typing import overload, _T, Iterable, Iterator, _T_co, _KT, _VT_co, _VT"
   ],
   "metadata": {
    "collapsed": false,
    "ExecuteTime": {
     "end_time": "2023-06-19T18:11:49.758057819Z",
     "start_time": "2023-06-19T18:11:49.631735854Z"
    }
   }
  },
  {
   "cell_type": "code",
   "execution_count": 37,
   "outputs": [],
   "source": [
    "def use_sequence(seq):\n",
    "    print(f\"The type of the sequence is {type(seq)}\")\n",
    "    assert issubclass(type(seq), Sequence)\n",
    "    print(f\"Length is {len(seq)}\")\n",
    "    print(f\"Repr is {repr(seq)}\")\n",
    "    print(\"All items:\")\n",
    "    for item in seq:\n",
    "        print(item)\n",
    "\n",
    "    print(\"_\" * 20)\n",
    "\n"
   ],
   "metadata": {
    "collapsed": false,
    "ExecuteTime": {
     "end_time": "2023-06-19T18:11:49.906070789Z",
     "start_time": "2023-06-19T18:11:49.647952013Z"
    }
   }
  },
  {
   "cell_type": "code",
   "execution_count": 38,
   "outputs": [],
   "source": [
    "r_seq = range(1, 5)\n",
    "l_seq = [x for x in r_seq]\n",
    "s_seq = \"\".join(map(str, l_seq))\n",
    "b_seq = bytes(r_seq)\n",
    "ba_seq = bytearray(r_seq)\n",
    "mv_seq = memoryview(b_seq)\n",
    "all_seq = [r_seq, l_seq, s_seq, b_seq, ba_seq, mv_seq]\n"
   ],
   "metadata": {
    "collapsed": false,
    "ExecuteTime": {
     "end_time": "2023-06-19T18:11:49.906343845Z",
     "start_time": "2023-06-19T18:11:49.648505647Z"
    }
   }
  },
  {
   "cell_type": "code",
   "execution_count": 39,
   "outputs": [
    {
     "name": "stdout",
     "output_type": "stream",
     "text": [
      "The type of the sequence is <class 'range'>\n",
      "Length is 4\n",
      "Repr is range(1, 5)\n",
      "All items:\n",
      "1\n",
      "2\n",
      "3\n",
      "4\n",
      "____________________\n",
      "The type of the sequence is <class 'list'>\n",
      "Length is 4\n",
      "Repr is [1, 2, 3, 4]\n",
      "All items:\n",
      "1\n",
      "2\n",
      "3\n",
      "4\n",
      "____________________\n",
      "The type of the sequence is <class 'str'>\n",
      "Length is 4\n",
      "Repr is '1234'\n",
      "All items:\n",
      "1\n",
      "2\n",
      "3\n",
      "4\n",
      "____________________\n",
      "The type of the sequence is <class 'bytes'>\n",
      "Length is 4\n",
      "Repr is b'\\x01\\x02\\x03\\x04'\n",
      "All items:\n",
      "1\n",
      "2\n",
      "3\n",
      "4\n",
      "____________________\n",
      "The type of the sequence is <class 'bytearray'>\n",
      "Length is 4\n",
      "Repr is bytearray(b'\\x01\\x02\\x03\\x04')\n",
      "All items:\n",
      "1\n",
      "2\n",
      "3\n",
      "4\n",
      "____________________\n",
      "The type of the sequence is <class 'memoryview'>\n",
      "Length is 4\n",
      "Repr is <memory at 0x7fee4d327700>\n",
      "All items:\n",
      "1\n",
      "2\n",
      "3\n",
      "4\n",
      "____________________\n"
     ]
    }
   ],
   "source": [
    "for item in all_seq:\n",
    "    use_sequence(item)"
   ],
   "metadata": {
    "collapsed": false,
    "ExecuteTime": {
     "end_time": "2023-06-19T18:11:49.906694684Z",
     "start_time": "2023-06-19T18:11:49.649006889Z"
    }
   }
  },
  {
   "cell_type": "code",
   "execution_count": 40,
   "outputs": [],
   "source": [
    "class ModTwoSequence(MutableSequence):\n",
    "    _list: list = []\n",
    "\n",
    "    def _validate(self, value):\n",
    "        if value % 2 != 0:\n",
    "            raise ValueError\n",
    "\n",
    "    def insert(self, index: int, value) -> None:\n",
    "        self._validate(value)\n",
    "        type(self)._list.insert(index, value)\n",
    "\n",
    "    def __getitem__(self, index: int):\n",
    "        return type(self)._list[index]\n",
    "\n",
    "    def __setitem__(self, index: int, value) -> None:\n",
    "        self._validate(value)\n",
    "        type(self)._list[index] = value\n",
    "\n",
    "    def __delitem__(self, index: int) -> None:\n",
    "        del type(self)._list[index]\n",
    "\n",
    "    def __len__(self) -> int:\n",
    "        return len(type(self)._list)\n",
    "\n",
    "    def __repr__(self):\n",
    "        return repr(type(self)._list)\n",
    "\n"
   ],
   "metadata": {
    "collapsed": false,
    "ExecuteTime": {
     "end_time": "2023-06-19T18:11:49.923631153Z",
     "start_time": "2023-06-19T18:11:49.649594317Z"
    }
   }
  },
  {
   "cell_type": "code",
   "execution_count": 41,
   "outputs": [
    {
     "data": {
      "text/plain": "'[2, 4, 6]'"
     },
     "execution_count": 41,
     "metadata": {},
     "output_type": "execute_result"
    }
   ],
   "source": [
    "my_list = ModTwoSequence()\n",
    "\n",
    "my_list.insert(0, 2)\n",
    "my_list.insert(1, 4)\n",
    "my_list.insert(2, 6)\n",
    "\n",
    "repr(my_list)"
   ],
   "metadata": {
    "collapsed": false,
    "ExecuteTime": {
     "end_time": "2023-06-19T18:11:49.927481432Z",
     "start_time": "2023-06-19T18:11:49.665658535Z"
    }
   }
  },
  {
   "cell_type": "code",
   "execution_count": 42,
   "outputs": [
    {
     "ename": "ValueError",
     "evalue": "",
     "output_type": "error",
     "traceback": [
      "\u001B[0;31m---------------------------------------------------------------------------\u001B[0m",
      "\u001B[0;31mValueError\u001B[0m                                Traceback (most recent call last)",
      "Cell \u001B[0;32mIn[42], line 1\u001B[0m\n\u001B[0;32m----> 1\u001B[0m \u001B[43mmy_list\u001B[49m\u001B[38;5;241;43m.\u001B[39;49m\u001B[43minsert\u001B[49m\u001B[43m(\u001B[49m\u001B[38;5;241;43m3\u001B[39;49m\u001B[43m,\u001B[49m\u001B[43m \u001B[49m\u001B[38;5;241;43m3\u001B[39;49m\u001B[43m)\u001B[49m\n",
      "Cell \u001B[0;32mIn[40], line 9\u001B[0m, in \u001B[0;36mModTwoSequence.insert\u001B[0;34m(self, index, value)\u001B[0m\n\u001B[1;32m      8\u001B[0m \u001B[38;5;28;01mdef\u001B[39;00m \u001B[38;5;21minsert\u001B[39m(\u001B[38;5;28mself\u001B[39m, index: \u001B[38;5;28mint\u001B[39m, value) \u001B[38;5;241m-\u001B[39m\u001B[38;5;241m>\u001B[39m \u001B[38;5;28;01mNone\u001B[39;00m:\n\u001B[0;32m----> 9\u001B[0m     \u001B[38;5;28;43mself\u001B[39;49m\u001B[38;5;241;43m.\u001B[39;49m\u001B[43m_validate\u001B[49m\u001B[43m(\u001B[49m\u001B[43mvalue\u001B[49m\u001B[43m)\u001B[49m\n\u001B[1;32m     10\u001B[0m     \u001B[38;5;28mtype\u001B[39m(\u001B[38;5;28mself\u001B[39m)\u001B[38;5;241m.\u001B[39m_list\u001B[38;5;241m.\u001B[39minsert(index, value)\n",
      "Cell \u001B[0;32mIn[40], line 6\u001B[0m, in \u001B[0;36mModTwoSequence._validate\u001B[0;34m(self, value)\u001B[0m\n\u001B[1;32m      4\u001B[0m \u001B[38;5;28;01mdef\u001B[39;00m \u001B[38;5;21m_validate\u001B[39m(\u001B[38;5;28mself\u001B[39m, value):\n\u001B[1;32m      5\u001B[0m     \u001B[38;5;28;01mif\u001B[39;00m value \u001B[38;5;241m%\u001B[39m \u001B[38;5;241m2\u001B[39m \u001B[38;5;241m!=\u001B[39m \u001B[38;5;241m0\u001B[39m:\n\u001B[0;32m----> 6\u001B[0m         \u001B[38;5;28;01mraise\u001B[39;00m \u001B[38;5;167;01mValueError\u001B[39;00m\n",
      "\u001B[0;31mValueError\u001B[0m: "
     ]
    }
   ],
   "source": [
    "my_list.insert(3, 3)\n"
   ],
   "metadata": {
    "collapsed": false,
    "ExecuteTime": {
     "end_time": "2023-06-19T18:11:50.026485532Z",
     "start_time": "2023-06-19T18:11:49.666164565Z"
    }
   }
  },
  {
   "cell_type": "markdown",
   "source": [
    "# Deque\n",
    "Double ended queue - może być używana jako kolejka lub stos lub to i to (queue + stack)\n"
   ],
   "metadata": {
    "collapsed": false
   }
  },
  {
   "cell_type": "code",
   "execution_count": 194,
   "outputs": [],
   "source": [
    "from collections import deque"
   ],
   "metadata": {
    "collapsed": false,
    "ExecuteTime": {
     "end_time": "2023-06-19T19:59:57.406658175Z",
     "start_time": "2023-06-19T19:59:57.383420281Z"
    }
   }
  },
  {
   "cell_type": "code",
   "execution_count": 196,
   "outputs": [],
   "source": [
    "d = deque()"
   ],
   "metadata": {
    "collapsed": false,
    "ExecuteTime": {
     "end_time": "2023-06-19T20:00:19.803674906Z",
     "start_time": "2023-06-19T20:00:19.789588804Z"
    }
   }
  },
  {
   "cell_type": "code",
   "execution_count": 197,
   "outputs": [
    {
     "data": {
      "text/plain": "deque([])"
     },
     "execution_count": 197,
     "metadata": {},
     "output_type": "execute_result"
    }
   ],
   "source": [
    "d"
   ],
   "metadata": {
    "collapsed": false,
    "ExecuteTime": {
     "end_time": "2023-06-19T20:00:35.002546854Z",
     "start_time": "2023-06-19T20:00:34.904741466Z"
    }
   }
  },
  {
   "cell_type": "code",
   "execution_count": 198,
   "outputs": [
    {
     "data": {
      "text/plain": "deque([1])"
     },
     "execution_count": 198,
     "metadata": {},
     "output_type": "execute_result"
    }
   ],
   "source": [
    "d.append(1)\n",
    "d"
   ],
   "metadata": {
    "collapsed": false,
    "ExecuteTime": {
     "end_time": "2023-06-19T20:00:52.868207768Z",
     "start_time": "2023-06-19T20:00:52.853798264Z"
    }
   }
  },
  {
   "cell_type": "code",
   "execution_count": 199,
   "outputs": [
    {
     "data": {
      "text/plain": "deque([1, 2, 3])"
     },
     "execution_count": 199,
     "metadata": {},
     "output_type": "execute_result"
    }
   ],
   "source": [
    "d.append(2)\n",
    "d.append(3)\n",
    "d"
   ],
   "metadata": {
    "collapsed": false,
    "ExecuteTime": {
     "end_time": "2023-06-19T20:01:09.088859748Z",
     "start_time": "2023-06-19T20:01:09.043748245Z"
    }
   }
  },
  {
   "cell_type": "code",
   "execution_count": 201,
   "outputs": [
    {
     "ename": "IndexError",
     "evalue": "pop from an empty deque",
     "output_type": "error",
     "traceback": [
      "\u001B[0;31m---------------------------------------------------------------------------\u001B[0m",
      "\u001B[0;31mIndexError\u001B[0m                                Traceback (most recent call last)",
      "Cell \u001B[0;32mIn[201], line 3\u001B[0m\n\u001B[1;32m      1\u001B[0m d\u001B[38;5;241m.\u001B[39mpop()\n\u001B[1;32m      2\u001B[0m d\u001B[38;5;241m.\u001B[39mpop()\n\u001B[0;32m----> 3\u001B[0m \u001B[43md\u001B[49m\u001B[38;5;241;43m.\u001B[39;49m\u001B[43mpop\u001B[49m\u001B[43m(\u001B[49m\u001B[43m)\u001B[49m\n\u001B[1;32m      4\u001B[0m d\n",
      "\u001B[0;31mIndexError\u001B[0m: pop from an empty deque"
     ]
    }
   ],
   "source": [
    "d.pop()\n",
    "d.pop()\n",
    "d.pop()\n",
    "d"
   ],
   "metadata": {
    "collapsed": false,
    "ExecuteTime": {
     "end_time": "2023-06-19T20:01:56.675931646Z",
     "start_time": "2023-06-19T20:01:56.633241397Z"
    }
   }
  },
  {
   "cell_type": "code",
   "execution_count": 202,
   "outputs": [
    {
     "data": {
      "text/plain": "deque([1])"
     },
     "execution_count": 202,
     "metadata": {},
     "output_type": "execute_result"
    }
   ],
   "source": [
    "d.appendleft(1)\n",
    "d"
   ],
   "metadata": {
    "collapsed": false,
    "ExecuteTime": {
     "end_time": "2023-06-19T20:02:27.947875112Z",
     "start_time": "2023-06-19T20:02:27.931795741Z"
    }
   }
  },
  {
   "cell_type": "code",
   "execution_count": 203,
   "outputs": [
    {
     "data": {
      "text/plain": "deque([3, 2, 1])"
     },
     "execution_count": 203,
     "metadata": {},
     "output_type": "execute_result"
    }
   ],
   "source": [
    "d.appendleft(2)\n",
    "d.appendleft(3)\n",
    "d"
   ],
   "metadata": {
    "collapsed": false,
    "ExecuteTime": {
     "end_time": "2023-06-19T20:02:41.128866990Z",
     "start_time": "2023-06-19T20:02:41.083771060Z"
    }
   }
  },
  {
   "cell_type": "code",
   "execution_count": 204,
   "outputs": [
    {
     "data": {
      "text/plain": "deque([1])"
     },
     "execution_count": 204,
     "metadata": {},
     "output_type": "execute_result"
    }
   ],
   "source": [
    "d.popleft()\n",
    "d.popleft()\n",
    "d"
   ],
   "metadata": {
    "collapsed": false,
    "ExecuteTime": {
     "end_time": "2023-06-19T20:02:51.576374659Z",
     "start_time": "2023-06-19T20:02:51.560841792Z"
    }
   }
  },
  {
   "cell_type": "code",
   "execution_count": 205,
   "outputs": [],
   "source": [
    "deck = deque(maxlen=3)\n"
   ],
   "metadata": {
    "collapsed": false,
    "ExecuteTime": {
     "end_time": "2023-06-19T20:03:43.433591658Z",
     "start_time": "2023-06-19T20:03:43.385847899Z"
    }
   }
  },
  {
   "cell_type": "code",
   "execution_count": 206,
   "outputs": [
    {
     "data": {
      "text/plain": "deque([1, 0], maxlen=3)"
     },
     "execution_count": 206,
     "metadata": {},
     "output_type": "execute_result"
    }
   ],
   "source": [
    "deck.extendleft(range(2))\n",
    "deck"
   ],
   "metadata": {
    "collapsed": false,
    "ExecuteTime": {
     "end_time": "2023-06-19T20:04:41.897510983Z",
     "start_time": "2023-06-19T20:04:41.847842434Z"
    }
   }
  },
  {
   "cell_type": "code",
   "execution_count": 207,
   "outputs": [
    {
     "data": {
      "text/plain": "deque([2, 1, 0], maxlen=3)"
     },
     "execution_count": 207,
     "metadata": {},
     "output_type": "execute_result"
    }
   ],
   "source": [
    "deck.appendleft(2)\n",
    "# deck.appendleft(3)\n",
    "deck"
   ],
   "metadata": {
    "collapsed": false,
    "ExecuteTime": {
     "end_time": "2023-06-19T20:05:30.629407566Z",
     "start_time": "2023-06-19T20:05:30.615035908Z"
    }
   }
  },
  {
   "cell_type": "code",
   "execution_count": 208,
   "outputs": [
    {
     "data": {
      "text/plain": "deque([3, 2, 1], maxlen=3)"
     },
     "execution_count": 208,
     "metadata": {},
     "output_type": "execute_result"
    }
   ],
   "source": [
    "deck.appendleft(3)\n",
    "deck"
   ],
   "metadata": {
    "collapsed": false,
    "ExecuteTime": {
     "end_time": "2023-06-19T20:05:40.357245648Z",
     "start_time": "2023-06-19T20:05:40.311033280Z"
    }
   }
  },
  {
   "cell_type": "code",
   "execution_count": 209,
   "outputs": [],
   "source": [
    "virtual_queue = deque()\n"
   ],
   "metadata": {
    "collapsed": false,
    "ExecuteTime": {
     "end_time": "2023-06-19T20:06:58.121232589Z",
     "start_time": "2023-06-19T20:06:58.101451055Z"
    }
   }
  },
  {
   "cell_type": "code",
   "execution_count": 210,
   "outputs": [
    {
     "data": {
      "text/plain": "deque(['Person10',\n       'Person9',\n       'Person8',\n       'Person7',\n       'Person6',\n       'Person5',\n       'Person4',\n       'Person3',\n       'Person2',\n       'Person1',\n       'Person0'])"
     },
     "execution_count": 210,
     "metadata": {},
     "output_type": "execute_result"
    }
   ],
   "source": [
    "virtual_queue.extendleft(f\"Person{i}\" for i in range(0, 11))\n",
    "virtual_queue"
   ],
   "metadata": {
    "collapsed": false,
    "ExecuteTime": {
     "end_time": "2023-06-19T20:08:59.245370336Z",
     "start_time": "2023-06-19T20:08:59.201161129Z"
    }
   }
  },
  {
   "cell_type": "code",
   "execution_count": 211,
   "outputs": [
    {
     "data": {
      "text/plain": "deque(['Person10',\n       'Person9',\n       'Person8',\n       'Person7',\n       'Person6',\n       'Person5',\n       'Person4',\n       'Person3',\n       'Person2',\n       'Person1',\n       'Person0',\n       'jaro'])"
     },
     "execution_count": 211,
     "metadata": {},
     "output_type": "execute_result"
    }
   ],
   "source": [
    "important_person = \"jaro\"\n",
    "virtual_queue.append(important_person)\n",
    "virtual_queue"
   ],
   "metadata": {
    "collapsed": false,
    "ExecuteTime": {
     "end_time": "2023-06-19T20:09:58.812230445Z",
     "start_time": "2023-06-19T20:09:58.766256257Z"
    }
   }
  },
  {
   "cell_type": "markdown",
   "source": [
    "# NamedTuple"
   ],
   "metadata": {
    "collapsed": false
   }
  },
  {
   "cell_type": "code",
   "execution_count": 212,
   "outputs": [],
   "source": [
    "from collections import namedtuple"
   ],
   "metadata": {
    "collapsed": false,
    "ExecuteTime": {
     "end_time": "2023-06-19T20:13:14.903217211Z",
     "start_time": "2023-06-19T20:13:14.892560646Z"
    }
   }
  },
  {
   "cell_type": "code",
   "execution_count": 215,
   "outputs": [
    {
     "data": {
      "text/plain": "__main__.Person"
     },
     "execution_count": 215,
     "metadata": {},
     "output_type": "execute_result"
    }
   ],
   "source": [
    "Person = namedtuple(\"Person\", \"first_name last_name\")\n"
   ],
   "metadata": {
    "collapsed": false,
    "ExecuteTime": {
     "end_time": "2023-06-19T20:17:10.766049946Z",
     "start_time": "2023-06-19T20:17:10.718413549Z"
    }
   }
  },
  {
   "cell_type": "code",
   "execution_count": 216,
   "outputs": [
    {
     "data": {
      "text/plain": "(__main__.Person, tuple, object)"
     },
     "execution_count": 216,
     "metadata": {},
     "output_type": "execute_result"
    }
   ],
   "source": [
    "Person.__mro__"
   ],
   "metadata": {
    "collapsed": false,
    "ExecuteTime": {
     "end_time": "2023-06-19T20:17:32.620283232Z",
     "start_time": "2023-06-19T20:17:32.569326979Z"
    }
   }
  },
  {
   "cell_type": "code",
   "execution_count": 217,
   "outputs": [
    {
     "data": {
      "text/plain": "Person(first_name='zimny', last_name='lech')"
     },
     "execution_count": 217,
     "metadata": {},
     "output_type": "execute_result"
    }
   ],
   "source": [
    "vip = Person(\"zimny\", \"lech\")\n",
    "vip"
   ],
   "metadata": {
    "collapsed": false,
    "ExecuteTime": {
     "end_time": "2023-06-19T20:18:32.138635451Z",
     "start_time": "2023-06-19T20:18:32.121844295Z"
    }
   }
  },
  {
   "cell_type": "code",
   "execution_count": 218,
   "outputs": [
    {
     "data": {
      "text/plain": "'zimny'"
     },
     "execution_count": 218,
     "metadata": {},
     "output_type": "execute_result"
    }
   ],
   "source": [
    "vip.first_name"
   ],
   "metadata": {
    "collapsed": false,
    "ExecuteTime": {
     "end_time": "2023-06-19T20:19:06.643821522Z",
     "start_time": "2023-06-19T20:19:06.603470008Z"
    }
   }
  },
  {
   "cell_type": "code",
   "execution_count": 219,
   "outputs": [
    {
     "data": {
      "text/plain": "'zimny'"
     },
     "execution_count": 219,
     "metadata": {},
     "output_type": "execute_result"
    }
   ],
   "source": [
    "vip[0]"
   ],
   "metadata": {
    "collapsed": false,
    "ExecuteTime": {
     "end_time": "2023-06-19T20:19:15.407033677Z",
     "start_time": "2023-06-19T20:19:15.365163700Z"
    }
   }
  },
  {
   "cell_type": "code",
   "execution_count": 221,
   "outputs": [
    {
     "data": {
      "text/plain": "True"
     },
     "execution_count": 221,
     "metadata": {},
     "output_type": "execute_result"
    }
   ],
   "source": [
    "issubclass(Person, Sequence)"
   ],
   "metadata": {
    "collapsed": false,
    "ExecuteTime": {
     "end_time": "2023-06-19T20:20:45.040311694Z",
     "start_time": "2023-06-19T20:20:44.987519642Z"
    }
   }
  },
  {
   "cell_type": "code",
   "execution_count": 222,
   "outputs": [
    {
     "data": {
      "text/plain": "True"
     },
     "execution_count": 222,
     "metadata": {},
     "output_type": "execute_result"
    }
   ],
   "source": [
    "isinstance(vip, Sequence)"
   ],
   "metadata": {
    "collapsed": false,
    "ExecuteTime": {
     "end_time": "2023-06-19T20:21:06.378742707Z",
     "start_time": "2023-06-19T20:21:06.311648450Z"
    }
   }
  },
  {
   "cell_type": "code",
   "execution_count": 223,
   "outputs": [],
   "source": [
    "from collections.abc import Mapping"
   ],
   "metadata": {
    "collapsed": false,
    "ExecuteTime": {
     "end_time": "2023-06-19T20:22:17.876338126Z",
     "start_time": "2023-06-19T20:22:17.821016946Z"
    }
   }
  },
  {
   "cell_type": "code",
   "execution_count": 224,
   "outputs": [
    {
     "data": {
      "text/plain": "False"
     },
     "execution_count": 224,
     "metadata": {},
     "output_type": "execute_result"
    }
   ],
   "source": [
    "issubclass(Person, Mapping)"
   ],
   "metadata": {
    "collapsed": false,
    "ExecuteTime": {
     "end_time": "2023-06-19T20:22:20.873028468Z",
     "start_time": "2023-06-19T20:22:20.844528088Z"
    }
   }
  },
  {
   "cell_type": "code",
   "execution_count": 225,
   "outputs": [
    {
     "name": "stdout",
     "output_type": "stream",
     "text": [
      "zimny\n",
      "lech\n"
     ]
    }
   ],
   "source": [
    "for item in vip:\n",
    "    print(item)"
   ],
   "metadata": {
    "collapsed": false,
    "ExecuteTime": {
     "end_time": "2023-06-19T20:22:57.110954473Z",
     "start_time": "2023-06-19T20:22:57.095680054Z"
    }
   }
  },
  {
   "cell_type": "markdown",
   "source": [
    "Podobny do dataclass\n",
    "Wczytywanie danych o złożonej strukturze, np. json\n",
    "\n",
    "NamedTuple:\n",
    "- domyślnie immutable and hashable\n",
    "- implicit `__eq__`\n",
    "- można porównywać do zwykłe tupli\n",
    "- da się posortować\n",
    "- da się po niej dziedziczyć\n",
    "\n",
    "DataClass: (od pythona 3.8?)\n",
    "- immutable and hashable when `frozen=True`\n",
    "- tworzy tylko `__init__`, resztę samemu\n",
    "- jeśli chcemy sortowanie, to trzeba sobie zaimplementować\n",
    "- żeby iterować, trzeba skonwertować na słownik bądź tuplę (methods: asdict, astuple)\n",
    "- można po niej dziedziczyć\n",
    "\n",
    "To, której się używa, zależy od własnych preferencji, bo robią to samo. NamedTuple było pierwsze. DataClass są jakby prostsze."
   ],
   "metadata": {
    "collapsed": false
   }
  },
  {
   "cell_type": "code",
   "execution_count": null,
   "outputs": [],
   "source": [],
   "metadata": {
    "collapsed": false
   }
  },
  {
   "cell_type": "code",
   "execution_count": null,
   "outputs": [],
   "source": [],
   "metadata": {
    "collapsed": false
   }
  },
  {
   "cell_type": "code",
   "execution_count": null,
   "outputs": [],
   "source": [],
   "metadata": {
    "collapsed": false
   }
  },
  {
   "cell_type": "code",
   "execution_count": null,
   "outputs": [],
   "source": [],
   "metadata": {
    "collapsed": false
   }
  },
  {
   "cell_type": "markdown",
   "source": [
    "`## Mapping type\n",
    "- klasa bazowa: abc.Mapping"
   ],
   "metadata": {
    "collapsed": false
   }
  },
  {
   "cell_type": "code",
   "execution_count": null,
   "outputs": [],
   "source": [],
   "metadata": {
    "collapsed": false
   }
  },
  {
   "cell_type": "markdown",
   "source": [
    "\n",
    "abc.Mapping\n",
    "- abc.MutableMapping\n",
    "-  - dict\n",
    "-  - - defaultdict\n",
    "-  - - Counter\n",
    "-  - - OrderedDict"
   ],
   "metadata": {
    "collapsed": false
   }
  },
  {
   "cell_type": "code",
   "execution_count": null,
   "outputs": [],
   "source": [
    "from collections.abc import MutableMapping\n",
    "\n",
    "\n",
    "class ModTwoMapping(MutableMapping):\n",
    "\n",
    "    _dict = {}\n",
    "\n",
    "    def _validate(self, value):\n",
    "        if value % 2 != 0:\n",
    "            raise ValueError\n",
    "\n",
    "    def __setitem__(self, key, value) -> None:\n",
    "        self._validate(value)\n",
    "        type(self)._dict[key] = value\n",
    "\n",
    "    def __delitem__(self, key) -> None:\n",
    "        del type(self)._dict[key]\n",
    "\n",
    "    def __getitem__(self, key):\n",
    "        return type(self)._dict[key]\n",
    "\n",
    "    def __len__(self) -> int:\n",
    "        return len(type(self)._dict)\n",
    "\n",
    "    def __iter__(self):\n",
    "        return iter(type(self)._dict)\n",
    "\n",
    "    def __repr__(self):\n",
    "        return repr(type(self)._dict)\n",
    "\n"
   ],
   "metadata": {
    "collapsed": false,
    "ExecuteTime": {
     "start_time": "2023-06-19T18:11:49.725311438Z"
    }
   }
  },
  {
   "cell_type": "code",
   "execution_count": null,
   "outputs": [],
   "source": [
    "my_dict = ModTwoMapping()\n",
    "\n",
    "my_dict['2'] = 2\n",
    "my_dict[4] = 4\n",
    "my_dict['elo'] = 6\n",
    "\n",
    "repr(my_dict)"
   ],
   "metadata": {
    "collapsed": false,
    "ExecuteTime": {
     "start_time": "2023-06-19T18:11:49.725671512Z"
    }
   }
  },
  {
   "cell_type": "code",
   "execution_count": null,
   "outputs": [],
   "source": [
    "my_dict[7] = 7"
   ],
   "metadata": {
    "collapsed": false,
    "ExecuteTime": {
     "start_time": "2023-06-19T18:11:49.726246824Z"
    }
   }
  },
  {
   "cell_type": "markdown",
   "source": [
    "# Hash\n",
    "\n"
   ],
   "metadata": {
    "collapsed": false
   }
  },
  {
   "cell_type": "markdown",
   "source": [
    "- do wyszukiwania\n",
    "- unikalny\n",
    "- stała szerokość (bo wyszukiwanie jest szybsze binarnie)\n",
    "- kosztem jest to że trzeba je zapisać\n",
    "\n",
    "Spełnia dwie zasady:\n",
    "- taki sam dla takiej samej wartości\n",
    "- różny dla różnych wartości\n",
    "\n",
    "## Hash powinno się liczyć TYLKO dla obiektów immutable!\n",
    "mimo że python na to pozwoli\n"
   ],
   "metadata": {
    "collapsed": false
   }
  },
  {
   "cell_type": "code",
   "execution_count": null,
   "outputs": [],
   "source": [
    "hash(42)  # liczby reprezentowane liczbami"
   ],
   "metadata": {
    "collapsed": false,
    "ExecuteTime": {
     "start_time": "2023-06-19T18:11:49.726485517Z"
    }
   }
  },
  {
   "cell_type": "code",
   "execution_count": null,
   "outputs": [],
   "source": [
    "(42).__hash__()  # low level api dla hash()"
   ],
   "metadata": {
    "collapsed": false,
    "ExecuteTime": {
     "start_time": "2023-06-19T18:11:49.726714381Z"
    }
   }
  },
  {
   "cell_type": "code",
   "execution_count": 43,
   "outputs": [
    {
     "data": {
      "text/plain": "3195142390859658054"
     },
     "execution_count": 43,
     "metadata": {},
     "output_type": "execute_result"
    }
   ],
   "source": [
    "s = 'john'\n",
    "hash(s)"
   ],
   "metadata": {
    "collapsed": false,
    "ExecuteTime": {
     "end_time": "2023-06-19T18:11:50.027382190Z",
     "start_time": "2023-06-19T18:11:49.726977183Z"
    }
   }
  },
  {
   "cell_type": "code",
   "execution_count": 44,
   "outputs": [
    {
     "data": {
      "text/plain": "3195142390859658054"
     },
     "execution_count": 44,
     "metadata": {},
     "output_type": "execute_result"
    }
   ],
   "source": [
    "hash(s)"
   ],
   "metadata": {
    "collapsed": false,
    "ExecuteTime": {
     "end_time": "2023-06-19T18:11:50.027575339Z",
     "start_time": "2023-06-19T18:11:49.727241592Z"
    }
   }
  },
  {
   "cell_type": "code",
   "execution_count": 45,
   "outputs": [
    {
     "data": {
      "text/plain": "3195142390859658054"
     },
     "execution_count": 45,
     "metadata": {},
     "output_type": "execute_result"
    }
   ],
   "source": [
    "hash('john')"
   ],
   "metadata": {
    "collapsed": false,
    "ExecuteTime": {
     "end_time": "2023-06-19T18:11:50.027835631Z",
     "start_time": "2023-06-19T18:11:49.727539193Z"
    }
   }
  },
  {
   "cell_type": "code",
   "execution_count": 46,
   "outputs": [],
   "source": [
    "from dataclasses import dataclass\n",
    "\n",
    "\n",
    "# class Person:\n",
    "#     def __init__(self, first_name, last_name):\n",
    "#         self.first_name = first_name\n",
    "#         self.last_name = last_name\n",
    "#\n",
    "#     def __repr__(self):\n",
    "#         return f'Person: {self.first_name} {self.last_name}, hash = {hash(self)}'\n",
    "#\n",
    "#     def __hash__(self):\n",
    "#         return hash((self.first_name, self.last_name))\n",
    "#\n",
    "#     def __eq__(self, other):\n",
    "#         return type(self) == type(other) and self.first_name == other.first_name and self.last_name == other.last_name\n",
    "\n",
    "\n",
    "@dataclass(frozen=True)\n",
    "class Person:  # analogiczne do klasy zakomentowanej wyżej plus wartości są już immutable (jeśli frozen=True)!!\n",
    "    first_name: str\n",
    "    last_name: str\n",
    "\n",
    "    def __repr__(self):\n",
    "        return f'Person: {self.first_name} {self.last_name}, hash = {hash(self)}'\n",
    "\n",
    "\n",
    "def is_person_in_dict(first_name, last_name, dictionary):\n",
    "    return Person(first_name, last_name) in dictionary\n",
    "\n",
    "\n"
   ],
   "metadata": {
    "collapsed": false,
    "ExecuteTime": {
     "end_time": "2023-06-19T18:11:50.028064300Z",
     "start_time": "2023-06-19T18:11:49.727748848Z"
    }
   }
  },
  {
   "cell_type": "code",
   "execution_count": 47,
   "outputs": [],
   "source": [
    "p = Person('jaro', 'duck')\n"
   ],
   "metadata": {
    "collapsed": false,
    "ExecuteTime": {
     "end_time": "2023-06-19T18:11:50.028156858Z",
     "start_time": "2023-06-19T18:11:49.727971704Z"
    }
   }
  },
  {
   "cell_type": "code",
   "execution_count": 48,
   "outputs": [
    {
     "data": {
      "text/plain": "'Person: jaro duck, hash = 3738973549547880866'"
     },
     "execution_count": 48,
     "metadata": {},
     "output_type": "execute_result"
    }
   ],
   "source": [
    "repr(p)"
   ],
   "metadata": {
    "collapsed": false,
    "ExecuteTime": {
     "end_time": "2023-06-19T18:11:50.028344468Z",
     "start_time": "2023-06-19T18:11:49.728198535Z"
    }
   }
  },
  {
   "cell_type": "code",
   "execution_count": 49,
   "outputs": [],
   "source": [
    "d = {}\n",
    "\n",
    "d[p] = 42"
   ],
   "metadata": {
    "collapsed": false,
    "ExecuteTime": {
     "end_time": "2023-06-19T18:11:50.028537796Z",
     "start_time": "2023-06-19T18:11:49.728424578Z"
    }
   }
  },
  {
   "cell_type": "code",
   "execution_count": 50,
   "outputs": [
    {
     "data": {
      "text/plain": "{Person: jaro duck, hash = 3738973549547880866: 42}"
     },
     "execution_count": 50,
     "metadata": {},
     "output_type": "execute_result"
    }
   ],
   "source": [
    "d\n"
   ],
   "metadata": {
    "collapsed": false,
    "ExecuteTime": {
     "end_time": "2023-06-19T18:11:50.029509393Z",
     "start_time": "2023-06-19T18:11:49.728680893Z"
    }
   }
  },
  {
   "cell_type": "code",
   "execution_count": 51,
   "outputs": [],
   "source": [
    "s = Person('janush', 'smith')\n"
   ],
   "metadata": {
    "collapsed": false,
    "ExecuteTime": {
     "end_time": "2023-06-19T18:11:50.029635947Z",
     "start_time": "2023-06-19T18:11:49.767198746Z"
    }
   }
  },
  {
   "cell_type": "code",
   "execution_count": 52,
   "outputs": [],
   "source": [
    "d[s] = 2137"
   ],
   "metadata": {
    "collapsed": false,
    "ExecuteTime": {
     "end_time": "2023-06-19T18:11:50.029716564Z",
     "start_time": "2023-06-19T18:11:49.767889579Z"
    }
   }
  },
  {
   "cell_type": "code",
   "execution_count": 53,
   "outputs": [
    {
     "data": {
      "text/plain": "{Person: jaro duck, hash = 3738973549547880866: 42,\n Person: janush smith, hash = -6877968432936876694: 2137}"
     },
     "execution_count": 53,
     "metadata": {},
     "output_type": "execute_result"
    }
   ],
   "source": [
    "d"
   ],
   "metadata": {
    "collapsed": false,
    "ExecuteTime": {
     "end_time": "2023-06-19T18:11:50.029923833Z",
     "start_time": "2023-06-19T18:11:49.768348026Z"
    }
   }
  },
  {
   "cell_type": "code",
   "execution_count": 54,
   "outputs": [
    {
     "data": {
      "text/plain": "42"
     },
     "execution_count": 54,
     "metadata": {},
     "output_type": "execute_result"
    }
   ],
   "source": [
    "d[p]"
   ],
   "metadata": {
    "collapsed": false,
    "ExecuteTime": {
     "end_time": "2023-06-19T18:11:50.037831552Z",
     "start_time": "2023-06-19T18:11:49.768680636Z"
    }
   }
  },
  {
   "cell_type": "code",
   "execution_count": 55,
   "outputs": [],
   "source": [
    "p = None"
   ],
   "metadata": {
    "collapsed": false,
    "ExecuteTime": {
     "end_time": "2023-06-19T18:11:50.038093346Z",
     "start_time": "2023-06-19T18:11:49.768949313Z"
    }
   }
  },
  {
   "cell_type": "code",
   "execution_count": 56,
   "outputs": [
    {
     "data": {
      "text/plain": "{Person: jaro duck, hash = 3738973549547880866: 42,\n Person: janush smith, hash = -6877968432936876694: 2137}"
     },
     "execution_count": 56,
     "metadata": {},
     "output_type": "execute_result"
    }
   ],
   "source": [
    "d"
   ],
   "metadata": {
    "collapsed": false,
    "ExecuteTime": {
     "end_time": "2023-06-19T18:11:50.038295467Z",
     "start_time": "2023-06-19T18:11:49.769531490Z"
    }
   }
  },
  {
   "cell_type": "code",
   "execution_count": 57,
   "outputs": [
    {
     "data": {
      "text/plain": "'Person: jaro duck, hash = 3738973549547880866'"
     },
     "execution_count": 57,
     "metadata": {},
     "output_type": "execute_result"
    }
   ],
   "source": [
    "t = Person('jaro', 'duck')\n",
    "\n",
    "repr(t)"
   ],
   "metadata": {
    "collapsed": false,
    "ExecuteTime": {
     "end_time": "2023-06-19T18:11:50.038455518Z",
     "start_time": "2023-06-19T18:11:49.771385391Z"
    }
   }
  },
  {
   "cell_type": "code",
   "execution_count": 58,
   "outputs": [],
   "source": [
    "w = list(d.keys())[0]"
   ],
   "metadata": {
    "collapsed": false,
    "ExecuteTime": {
     "end_time": "2023-06-19T18:11:50.038558743Z",
     "start_time": "2023-06-19T18:11:49.772002875Z"
    }
   }
  },
  {
   "cell_type": "code",
   "execution_count": 59,
   "outputs": [
    {
     "data": {
      "text/plain": "42"
     },
     "execution_count": 59,
     "metadata": {},
     "output_type": "execute_result"
    }
   ],
   "source": [
    "d[w]"
   ],
   "metadata": {
    "collapsed": false,
    "ExecuteTime": {
     "end_time": "2023-06-19T18:11:50.038713042Z",
     "start_time": "2023-06-19T18:11:49.772842355Z"
    }
   }
  },
  {
   "cell_type": "code",
   "execution_count": 60,
   "outputs": [
    {
     "data": {
      "text/plain": "Person: jaro duck, hash = 3738973549547880866"
     },
     "execution_count": 60,
     "metadata": {},
     "output_type": "execute_result"
    }
   ],
   "source": [
    "w"
   ],
   "metadata": {
    "collapsed": false,
    "ExecuteTime": {
     "end_time": "2023-06-19T18:11:50.038905638Z",
     "start_time": "2023-06-19T18:11:49.773476653Z"
    }
   }
  },
  {
   "cell_type": "code",
   "execution_count": 61,
   "outputs": [
    {
     "data": {
      "text/plain": "True"
     },
     "execution_count": 61,
     "metadata": {},
     "output_type": "execute_result"
    }
   ],
   "source": [
    "is_person_in_dict('jaro', 'duck', d)"
   ],
   "metadata": {
    "collapsed": false,
    "ExecuteTime": {
     "end_time": "2023-06-19T18:11:50.039328690Z",
     "start_time": "2023-06-19T18:11:49.775194487Z"
    }
   }
  },
  {
   "cell_type": "code",
   "execution_count": 62,
   "outputs": [
    {
     "data": {
      "text/plain": "{Person: jaro duck, hash = 3738973549547880866: 42,\n Person: janush smith, hash = -6877968432936876694: 2137}"
     },
     "execution_count": 62,
     "metadata": {},
     "output_type": "execute_result"
    }
   ],
   "source": [
    "d"
   ],
   "metadata": {
    "collapsed": false,
    "ExecuteTime": {
     "end_time": "2023-06-19T18:11:50.039579079Z",
     "start_time": "2023-06-19T18:11:49.818281158Z"
    }
   }
  },
  {
   "cell_type": "code",
   "execution_count": 63,
   "outputs": [
    {
     "data": {
      "text/plain": "'Person: jaro duck, hash = 3738973549547880866'"
     },
     "execution_count": 63,
     "metadata": {},
     "output_type": "execute_result"
    }
   ],
   "source": [
    "repr(w)"
   ],
   "metadata": {
    "collapsed": false,
    "ExecuteTime": {
     "end_time": "2023-06-19T18:11:50.039796604Z",
     "start_time": "2023-06-19T18:11:49.818680278Z"
    }
   }
  },
  {
   "cell_type": "code",
   "execution_count": 64,
   "outputs": [
    {
     "data": {
      "text/plain": "42"
     },
     "execution_count": 64,
     "metadata": {},
     "output_type": "execute_result"
    }
   ],
   "source": [
    "d[w]"
   ],
   "metadata": {
    "collapsed": false,
    "ExecuteTime": {
     "end_time": "2023-06-19T18:11:50.040011702Z",
     "start_time": "2023-06-19T18:11:49.818980402Z"
    }
   }
  },
  {
   "cell_type": "code",
   "execution_count": 65,
   "outputs": [
    {
     "data": {
      "text/plain": "'Person: jaro duck, hash = 3738973549547880866'"
     },
     "execution_count": 65,
     "metadata": {},
     "output_type": "execute_result"
    }
   ],
   "source": [
    "p2 = Person('jaro', 'duck')\n",
    "\n",
    "repr(p2)"
   ],
   "metadata": {
    "collapsed": false,
    "ExecuteTime": {
     "end_time": "2023-06-19T18:11:50.040259482Z",
     "start_time": "2023-06-19T18:11:49.819308579Z"
    }
   }
  },
  {
   "cell_type": "code",
   "execution_count": 66,
   "outputs": [
    {
     "data": {
      "text/plain": "42"
     },
     "execution_count": 66,
     "metadata": {},
     "output_type": "execute_result"
    }
   ],
   "source": [
    "\n",
    "d[p2]"
   ],
   "metadata": {
    "collapsed": false,
    "ExecuteTime": {
     "end_time": "2023-06-19T18:11:50.040484283Z",
     "start_time": "2023-06-19T18:11:49.819652615Z"
    }
   }
  },
  {
   "cell_type": "code",
   "execution_count": 67,
   "outputs": [],
   "source": [
    "d[p2] = 666"
   ],
   "metadata": {
    "collapsed": false,
    "ExecuteTime": {
     "end_time": "2023-06-19T18:11:50.040653779Z",
     "start_time": "2023-06-19T18:11:49.820122841Z"
    }
   }
  },
  {
   "cell_type": "code",
   "execution_count": 68,
   "outputs": [
    {
     "data": {
      "text/plain": "{Person: jaro duck, hash = 3738973549547880866: 666,\n Person: janush smith, hash = -6877968432936876694: 2137}"
     },
     "execution_count": 68,
     "metadata": {},
     "output_type": "execute_result"
    }
   ],
   "source": [
    "d"
   ],
   "metadata": {
    "collapsed": false,
    "ExecuteTime": {
     "end_time": "2023-06-19T18:11:50.040863486Z",
     "start_time": "2023-06-19T18:11:49.820387208Z"
    }
   }
  },
  {
   "cell_type": "code",
   "execution_count": 69,
   "outputs": [
    {
     "data": {
      "text/plain": "666"
     },
     "execution_count": 69,
     "metadata": {},
     "output_type": "execute_result"
    }
   ],
   "source": [
    "d[p2]"
   ],
   "metadata": {
    "collapsed": false,
    "ExecuteTime": {
     "end_time": "2023-06-19T18:11:50.041241592Z",
     "start_time": "2023-06-19T18:11:49.820705305Z"
    }
   }
  },
  {
   "cell_type": "code",
   "execution_count": 70,
   "outputs": [
    {
     "data": {
      "text/plain": "666"
     },
     "execution_count": 70,
     "metadata": {},
     "output_type": "execute_result"
    }
   ],
   "source": [
    "d[w]"
   ],
   "metadata": {
    "collapsed": false,
    "ExecuteTime": {
     "end_time": "2023-06-19T18:11:50.041483440Z",
     "start_time": "2023-06-19T18:11:49.859945092Z"
    }
   }
  },
  {
   "cell_type": "code",
   "execution_count": 71,
   "outputs": [
    {
     "data": {
      "text/plain": "'Person: jaro duck, hash = 3738973549547880866'"
     },
     "execution_count": 71,
     "metadata": {},
     "output_type": "execute_result"
    }
   ],
   "source": [
    "repr(p2)"
   ],
   "metadata": {
    "collapsed": false,
    "ExecuteTime": {
     "end_time": "2023-06-19T18:11:50.041719331Z",
     "start_time": "2023-06-19T18:11:49.860663358Z"
    }
   }
  },
  {
   "cell_type": "code",
   "execution_count": 72,
   "outputs": [
    {
     "data": {
      "text/plain": "'Person: jaro duck, hash = 3738973549547880866'"
     },
     "execution_count": 72,
     "metadata": {},
     "output_type": "execute_result"
    }
   ],
   "source": [
    "repr(w)"
   ],
   "metadata": {
    "collapsed": false,
    "ExecuteTime": {
     "end_time": "2023-06-19T18:11:50.041932233Z",
     "start_time": "2023-06-19T18:11:49.860987942Z"
    }
   }
  },
  {
   "cell_type": "code",
   "execution_count": 73,
   "outputs": [
    {
     "ename": "FrozenInstanceError",
     "evalue": "cannot assign to field 'last_name'",
     "output_type": "error",
     "traceback": [
      "\u001B[0;31m---------------------------------------------------------------------------\u001B[0m",
      "\u001B[0;31mFrozenInstanceError\u001B[0m                       Traceback (most recent call last)",
      "Cell \u001B[0;32mIn[73], line 1\u001B[0m\n\u001B[0;32m----> 1\u001B[0m \u001B[43mp2\u001B[49m\u001B[38;5;241;43m.\u001B[39;49m\u001B[43mlast_name\u001B[49m \u001B[38;5;241m=\u001B[39m \u001B[38;5;124m'\u001B[39m\u001B[38;5;124mkaczynski\u001B[39m\u001B[38;5;124m'\u001B[39m\n",
      "File \u001B[0;32m<string>:4\u001B[0m, in \u001B[0;36m__setattr__\u001B[0;34m(self, name, value)\u001B[0m\n",
      "\u001B[0;31mFrozenInstanceError\u001B[0m: cannot assign to field 'last_name'"
     ]
    }
   ],
   "source": [
    "p2.last_name = 'kaczynski'"
   ],
   "metadata": {
    "collapsed": false,
    "ExecuteTime": {
     "start_time": "2023-06-19T18:11:49.861190543Z"
    }
   }
  },
  {
   "cell_type": "code",
   "execution_count": 74,
   "outputs": [
    {
     "data": {
      "text/plain": "'Person: jaro duck, hash = 3738973549547880866'"
     },
     "execution_count": 74,
     "metadata": {},
     "output_type": "execute_result"
    }
   ],
   "source": [
    "repr(p2)"
   ],
   "metadata": {
    "collapsed": false,
    "ExecuteTime": {
     "end_time": "2023-06-19T18:12:03.203375375Z",
     "start_time": "2023-06-19T18:12:03.195740459Z"
    }
   }
  },
  {
   "cell_type": "code",
   "execution_count": 75,
   "outputs": [
    {
     "data": {
      "text/plain": "666"
     },
     "execution_count": 75,
     "metadata": {},
     "output_type": "execute_result"
    }
   ],
   "source": [
    "d[p2]"
   ],
   "metadata": {
    "collapsed": false,
    "ExecuteTime": {
     "end_time": "2023-06-19T18:12:03.799027248Z",
     "start_time": "2023-06-19T18:12:03.788749403Z"
    }
   }
  },
  {
   "cell_type": "code",
   "execution_count": 76,
   "outputs": [
    {
     "data": {
      "text/plain": "{Person: jaro duck, hash = 3738973549547880866: 666,\n Person: janush smith, hash = -6877968432936876694: 2137}"
     },
     "execution_count": 76,
     "metadata": {},
     "output_type": "execute_result"
    }
   ],
   "source": [
    "d"
   ],
   "metadata": {
    "collapsed": false,
    "ExecuteTime": {
     "end_time": "2023-06-19T18:12:04.226948821Z",
     "start_time": "2023-06-19T18:12:04.213591290Z"
    }
   }
  },
  {
   "cell_type": "markdown",
   "source": [
    "# defaultdict"
   ],
   "metadata": {
    "collapsed": false
   }
  },
  {
   "cell_type": "code",
   "execution_count": 77,
   "outputs": [],
   "source": [
    "from collections import defaultdict\n"
   ],
   "metadata": {
    "collapsed": false,
    "ExecuteTime": {
     "end_time": "2023-06-19T18:12:06.174524991Z",
     "start_time": "2023-06-19T18:12:06.167611860Z"
    }
   }
  },
  {
   "cell_type": "code",
   "execution_count": 78,
   "outputs": [],
   "source": [
    "d = defaultdict(list)"
   ],
   "metadata": {
    "collapsed": false,
    "ExecuteTime": {
     "end_time": "2023-06-19T18:12:06.461507699Z",
     "start_time": "2023-06-19T18:12:06.454561677Z"
    }
   }
  },
  {
   "cell_type": "code",
   "execution_count": 79,
   "outputs": [
    {
     "data": {
      "text/plain": "collections.defaultdict"
     },
     "execution_count": 79,
     "metadata": {},
     "output_type": "execute_result"
    }
   ],
   "source": [
    "type(d)"
   ],
   "metadata": {
    "collapsed": false,
    "ExecuteTime": {
     "end_time": "2023-06-19T18:12:06.633184402Z",
     "start_time": "2023-06-19T18:12:06.626427203Z"
    }
   }
  },
  {
   "cell_type": "code",
   "execution_count": 80,
   "outputs": [
    {
     "data": {
      "text/plain": "[]"
     },
     "execution_count": 80,
     "metadata": {},
     "output_type": "execute_result"
    }
   ],
   "source": [
    "d[1]"
   ],
   "metadata": {
    "collapsed": false,
    "ExecuteTime": {
     "end_time": "2023-06-19T18:12:06.809198474Z",
     "start_time": "2023-06-19T18:12:06.802132061Z"
    }
   }
  },
  {
   "cell_type": "code",
   "execution_count": 81,
   "outputs": [
    {
     "data": {
      "text/plain": "defaultdict(list, {1: []})"
     },
     "execution_count": 81,
     "metadata": {},
     "output_type": "execute_result"
    }
   ],
   "source": [
    "d"
   ],
   "metadata": {
    "collapsed": false,
    "ExecuteTime": {
     "end_time": "2023-06-19T18:12:06.993368685Z",
     "start_time": "2023-06-19T18:12:06.983125016Z"
    }
   }
  },
  {
   "cell_type": "code",
   "execution_count": 82,
   "outputs": [
    {
     "data": {
      "text/plain": "defaultdict(list, {1: [], 'elo': ['XD']})"
     },
     "execution_count": 82,
     "metadata": {},
     "output_type": "execute_result"
    }
   ],
   "source": [
    "d['elo'].append('XD')\n",
    "d"
   ],
   "metadata": {
    "collapsed": false,
    "ExecuteTime": {
     "end_time": "2023-06-19T18:12:07.415290710Z",
     "start_time": "2023-06-19T18:12:07.407315278Z"
    }
   }
  },
  {
   "cell_type": "code",
   "execution_count": 83,
   "outputs": [],
   "source": [
    "d['elo'] = 42"
   ],
   "metadata": {
    "collapsed": false,
    "ExecuteTime": {
     "end_time": "2023-06-19T18:12:07.766511196Z",
     "start_time": "2023-06-19T18:12:07.760315220Z"
    }
   }
  },
  {
   "cell_type": "code",
   "execution_count": 84,
   "outputs": [
    {
     "ename": "AttributeError",
     "evalue": "'int' object has no attribute 'append'",
     "output_type": "error",
     "traceback": [
      "\u001B[0;31m---------------------------------------------------------------------------\u001B[0m",
      "\u001B[0;31mAttributeError\u001B[0m                            Traceback (most recent call last)",
      "Cell \u001B[0;32mIn[84], line 1\u001B[0m\n\u001B[0;32m----> 1\u001B[0m \u001B[43md\u001B[49m\u001B[43m[\u001B[49m\u001B[38;5;124;43m'\u001B[39;49m\u001B[38;5;124;43melo\u001B[39;49m\u001B[38;5;124;43m'\u001B[39;49m\u001B[43m]\u001B[49m\u001B[38;5;241;43m.\u001B[39;49m\u001B[43mappend\u001B[49m(\u001B[38;5;124m'\u001B[39m\u001B[38;5;124msleeping beauty\u001B[39m\u001B[38;5;124m'\u001B[39m)\n",
      "\u001B[0;31mAttributeError\u001B[0m: 'int' object has no attribute 'append'"
     ]
    }
   ],
   "source": [
    "d['elo'].append('sleeping beauty')"
   ],
   "metadata": {
    "collapsed": false,
    "ExecuteTime": {
     "end_time": "2023-06-19T18:12:08.132803651Z",
     "start_time": "2023-06-19T18:12:08.117303345Z"
    }
   }
  },
  {
   "cell_type": "code",
   "execution_count": 85,
   "outputs": [],
   "source": [
    "e = defaultdict(lambda: 42)"
   ],
   "metadata": {
    "collapsed": false,
    "ExecuteTime": {
     "end_time": "2023-06-19T18:12:08.294308775Z",
     "start_time": "2023-06-19T18:12:08.288233045Z"
    }
   }
  },
  {
   "cell_type": "code",
   "execution_count": 86,
   "outputs": [
    {
     "data": {
      "text/plain": "42"
     },
     "execution_count": 86,
     "metadata": {},
     "output_type": "execute_result"
    }
   ],
   "source": [
    "e[2]"
   ],
   "metadata": {
    "collapsed": false,
    "ExecuteTime": {
     "end_time": "2023-06-19T18:12:08.665130697Z",
     "start_time": "2023-06-19T18:12:08.654742295Z"
    }
   }
  },
  {
   "cell_type": "code",
   "execution_count": 87,
   "outputs": [
    {
     "data": {
      "text/plain": "defaultdict(<function __main__.<lambda>()>, {2: 42})"
     },
     "execution_count": 87,
     "metadata": {},
     "output_type": "execute_result"
    }
   ],
   "source": [
    "e"
   ],
   "metadata": {
    "collapsed": false,
    "ExecuteTime": {
     "end_time": "2023-06-19T18:12:09.069610512Z",
     "start_time": "2023-06-19T18:12:09.062358881Z"
    }
   }
  },
  {
   "cell_type": "code",
   "execution_count": 88,
   "outputs": [
    {
     "name": "stdout",
     "output_type": "stream",
     "text": [
      "['Edward MADEJSKI', 'Erwin NYC', 'Ryszard PIEC', 'Leonard PIONTEK', 'Fryedryk SZERFKE', 'Wladyslaw SZSZEPANIAK', 'Gerard WODARZ', 'Ernest WILIMOWSKI', 'Ewald DYTKO', 'Antoni GALECKI', 'Wilhelm GORA', 'Boleslaw HABOWSKI', 'Stanislaw BARAN', 'Ewald CEBULA', 'Edmund GIEMSA', 'Jozef KORBAS', 'Kazimierz LIS', 'Antoni LYKO', 'Wilhelm PIEC', 'Edmund TWORZ', 'Jan WASIEWICZ', 'Walter BROM', 'Jan TOMASZEWSKI', 'Antoni SZYMANOWSKI', 'Jerzy GORGON', 'Wladyslaw ZMUDA', 'Adam MUSIAL', 'Kazimierz DEYNA', 'Henryk KASPERCZAK', 'Zygmunt MASZCZYK', 'Grzegorz LATO', 'Andrzej SZARMACH', 'Robert GADOCHA', 'Andrzej FISCHER', 'Zygmunt KALINOWSKI', 'Zbigniew GUT', 'Henryk WIECZOREK', 'Miroslaw BULZACKI', 'Leslaw CMIKIEWICZ', 'Roman JAKOBCZAK', 'Jan DOMARSKI', 'Zdzislaw KAPKA', 'Kazimierz KMIECIK', 'Marek KUSTO', 'Jan TOMASZEWSKI', 'Antoni SZYMANOWSKI', 'Jerzy GORGON', 'Wladyslaw ZMUDA', 'Adam MUSIAL', 'Kazimierz DEYNA', 'Henryk KASPERCZAK', 'Zygmunt MASZCZYK', 'Grzegorz LATO', 'Andrzej SZARMACH', 'Robert GADOCHA', 'Andrzej FISCHER', 'Zygmunt KALINOWSKI', 'Zbigniew GUT', 'Henryk WIECZOREK', 'Miroslaw BULZACKI', 'Leslaw CMIKIEWICZ', 'Roman JAKOBCZAK', 'Jan DOMARSKI', 'Zdzislaw KAPKA', 'Kazimierz KMIECIK', 'Marek KUSTO', 'Jan TOMASZEWSKI', 'Antoni SZYMANOWSKI', 'Jerzy GORGON', 'Wladyslaw ZMUDA', 'Adam MUSIAL', 'Kazimierz DEYNA', 'Henryk KASPERCZAK', 'Zygmunt MASZCZYK', 'Grzegorz LATO', 'Andrzej SZARMACH', 'Robert GADOCHA', 'Andrzej FISCHER', 'Zygmunt KALINOWSKI', 'Zbigniew GUT', 'Henryk WIECZOREK', 'Miroslaw BULZACKI', 'Leslaw CMIKIEWICZ', 'Roman JAKOBCZAK', 'Jan DOMARSKI', 'Zdzislaw KAPKA', 'Kazimierz KMIECIK', 'Marek KUSTO', 'Jan TOMASZEWSKI', 'Antoni SZYMANOWSKI', 'Zbigniew GUT', 'Jerzy GORGON', 'Wladyslaw ZMUDA', 'Kazimierz DEYNA', 'Henryk KASPERCZAK', 'Zygmunt MASZCZYK', 'Grzegorz LATO', 'Andrzej SZARMACH', 'Robert GADOCHA', 'Andrzej FISCHER', 'Zygmunt KALINOWSKI', 'Henryk WIECZOREK', 'Miroslaw BULZACKI', 'Adam MUSIAL', 'Leslaw CMIKIEWICZ', 'Roman JAKOBCZAK', 'Jan DOMARSKI', 'Zdzislaw KAPKA', 'Kazimierz KMIECIK', 'Marek KUSTO', 'Jan TOMASZEWSKI', 'Antoni SZYMANOWSKI', 'Jerzy GORGON', 'Wladyslaw ZMUDA', 'Adam MUSIAL', 'Kazimierz DEYNA', 'Henryk KASPERCZAK', 'Zygmunt MASZCZYK', 'Grzegorz LATO', 'Andrzej SZARMACH', 'Robert GADOCHA', 'Andrzej FISCHER', 'Zygmunt KALINOWSKI', 'Zbigniew GUT', 'Henryk WIECZOREK', 'Miroslaw BULZACKI', 'Leslaw CMIKIEWICZ', 'Roman JAKOBCZAK', 'Jan DOMARSKI', 'Zdzislaw KAPKA', 'Kazimierz KMIECIK', 'Marek KUSTO', 'Jan TOMASZEWSKI', 'Antoni SZYMANOWSKI', 'Jerzy GORGON', 'Wladyslaw ZMUDA', 'Adam MUSIAL', 'Kazimierz DEYNA', 'Henryk KASPERCZAK', 'Zygmunt MASZCZYK', 'Grzegorz LATO', 'Robert GADOCHA', 'Jan DOMARSKI', 'Andrzej FISCHER', 'Zygmunt KALINOWSKI', 'Zbigniew GUT', 'Henryk WIECZOREK', 'Miroslaw BULZACKI', 'Leslaw CMIKIEWICZ', 'Roman JAKOBCZAK', 'Andrzej SZARMACH', 'Zdzislaw KAPKA', 'Kazimierz KMIECIK', 'Marek KUSTO', 'Jan TOMASZEWSKI', 'Antoni SZYMANOWSKI', 'Jerzy GORGON', 'Wladyslaw ZMUDA', 'Adam MUSIAL', 'Kazimierz DEYNA', 'Henryk KASPERCZAK', 'Zygmunt MASZCZYK', 'Grzegorz LATO', 'Andrzej SZARMACH', 'Robert GADOCHA', 'Andrzej FISCHER', 'Zygmunt KALINOWSKI', 'Zbigniew GUT', 'Henryk WIECZOREK', 'Miroslaw BULZACKI', 'Leslaw CMIKIEWICZ', 'Roman JAKOBCZAK', 'Jan DOMARSKI', 'Zdzislaw KAPKA', 'Kazimierz KMIECIK', 'Marek KUSTO', 'Jan TOMASZEWSKI', 'Henryk MACULEWICZ', 'Antoni SZYMANOWSKI', 'Adam NAWALKA', 'Jerzy GORGON', 'Wladyslaw ZMUDA', 'Bohdan MASZTALER', 'Kazimierz DEYNA', 'Grzegorz LATO', 'Andrzej SZARMACH', 'Wlodzimierz LUBANSKI', 'Wlodzimierz MAZUR', 'Andrzej IWAN', 'Henryk KASPERCZAK', 'Wojciech RUDY', 'Janusz KUPCEWICZ', 'Miroslav JUSTEK', 'Marek KUSTO', 'Zbigniew BONIEK', 'Roman WOJCICKI', 'Zygmunt KUKLA', 'Zdzislaw KOSTRZEWA', 'Jan TOMASZEWSKI', 'Henryk MACULEWICZ', 'Antoni SZYMANOWSKI', 'Adam NAWALKA', 'Jerzy GORGON', 'Henryk KASPERCZAK', 'Wladyslaw ZMUDA', 'Kazimierz DEYNA', 'Grzegorz LATO', 'Andrzej SZARMACH', 'Wlodzimierz LUBANSKI', 'Wlodzimierz MAZUR', 'Andrzej IWAN', 'Wojciech RUDY', 'Bohdan MASZTALER', 'Janusz KUPCEWICZ', 'Miroslav JUSTEK', 'Marek KUSTO', 'Zbigniew BONIEK', 'Roman WOJCICKI', 'Zygmunt KUKLA', 'Zdzislaw KOSTRZEWA', 'Jan TOMASZEWSKI', 'Antoni SZYMANOWSKI', 'Jerzy GORGON', 'Andrzej IWAN', 'Henryk KASPERCZAK', 'Wladyslaw ZMUDA', 'Wojciech RUDY', 'Bohdan MASZTALER', 'Kazimierz DEYNA', 'Grzegorz LATO', 'Zbigniew BONIEK', 'Wlodzimierz MAZUR', 'Henryk MACULEWICZ', 'Adam NAWALKA', 'Janusz KUPCEWICZ', 'Miroslav JUSTEK', 'Marek KUSTO', 'Andrzej SZARMACH', 'Wlodzimierz LUBANSKI', 'Roman WOJCICKI', 'Zygmunt KUKLA', 'Zdzislaw KOSTRZEWA', 'Jan TOMASZEWSKI', 'Henryk MACULEWICZ', 'Antoni SZYMANOWSKI', 'Adam NAWALKA', 'Henryk KASPERCZAK', 'Wladyslaw ZMUDA', 'Bohdan MASZTALER', 'Kazimierz DEYNA', 'Grzegorz LATO', 'Andrzej SZARMACH', 'Zbigniew BONIEK', 'Wlodzimierz MAZUR', 'Jerzy GORGON', 'Andrzej IWAN', 'Wojciech RUDY', 'Janusz KUPCEWICZ', 'Miroslav JUSTEK', 'Marek KUSTO', 'Wlodzimierz LUBANSKI', 'Roman WOJCICKI', 'Zygmunt KUKLA', 'Zdzislaw KOSTRZEWA', 'Zygmunt KUKLA', 'Henryk MACULEWICZ', 'Antoni SZYMANOWSKI', 'Adam NAWALKA', 'Jerzy GORGON', 'Wladyslaw ZMUDA', 'Bohdan MASZTALER', 'Kazimierz DEYNA', 'Grzegorz LATO', 'Andrzej SZARMACH', 'Zbigniew BONIEK', 'Jan TOMASZEWSKI', 'Wlodzimierz MAZUR', 'Andrzej IWAN', 'Henryk KASPERCZAK', 'Wojciech RUDY', 'Janusz KUPCEWICZ', 'Miroslav JUSTEK', 'Marek KUSTO', 'Wlodzimierz LUBANSKI', 'Roman WOJCICKI', 'Zdzislaw KOSTRZEWA', 'Zygmunt KUKLA', 'Henryk MACULEWICZ', 'Antoni SZYMANOWSKI', 'Adam NAWALKA', 'Jerzy GORGON', 'Henryk KASPERCZAK', 'Wladyslaw ZMUDA', 'Kazimierz DEYNA', 'Grzegorz LATO', 'Andrzej SZARMACH', 'Zbigniew BONIEK', 'Jan TOMASZEWSKI', 'Wlodzimierz MAZUR', 'Andrzej IWAN', 'Wojciech RUDY', 'Bohdan MASZTALER', 'Janusz KUPCEWICZ', 'Miroslav JUSTEK', 'Marek KUSTO', 'Wlodzimierz LUBANSKI', 'Roman WOJCICKI', 'Zdzislaw KOSTRZEWA', 'Jozef MLYNARCZYK', 'Pawel JANAS', 'Jan JALOCHA', 'Waldemar MATYSIK', 'Wladyslaw ZMUDA', 'Stefan MAJEWSKI', 'Wlodimierz SMOLAREK', 'Andrzej BUNCOL', 'Grzegorz LATO', 'Andrzej IWAN', 'Zbigniew BONIEK', 'Marek DZIUBA', 'Janusz KUPCEWICZ', 'Tadeusz DOLNY', 'Piotr SKROBOWSKI', 'Roman WOJCICKI', 'Andrzej PALASZ', 'Wlodzimierz CIOLEK', 'Andrzej SZARMACH', 'Marek KUSTO', 'Jacek KAZIMIERSKI', 'Piotr MOWLIK', 'Jozef MLYNARCZYK', 'Pawel JANAS', 'Jan JALOCHA', 'Wladyslaw ZMUDA', 'Stefan MAJEWSKI', 'Wlodimierz SMOLAREK', 'Andrzej BUNCOL', 'Andrzej PALASZ', 'Grzegorz LATO', 'Andrzej IWAN', 'Zbigniew BONIEK', 'Marek DZIUBA', 'Janusz KUPCEWICZ', 'Tadeusz DOLNY', 'Piotr SKROBOWSKI', 'Waldemar MATYSIK', 'Roman WOJCICKI', 'Wlodzimierz CIOLEK', 'Andrzej SZARMACH', 'Marek KUSTO', 'Jacek KAZIMIERSKI', 'Piotr MOWLIK', 'Jozef MLYNARCZYK', 'Janusz KUPCEWICZ', 'Pawel JANAS', 'Jan JALOCHA', 'Waldemar MATYSIK', 'Wladyslaw ZMUDA', 'Stefan MAJEWSKI', 'Wlodimierz SMOLAREK', 'Andrzej BUNCOL', 'Grzegorz LATO', 'Zbigniew BONIEK', 'Marek DZIUBA', 'Tadeusz DOLNY', 'Piotr SKROBOWSKI', 'Roman WOJCICKI', 'Andrzej PALASZ', 'Wlodzimierz CIOLEK', 'Andrzej SZARMACH', 'Marek KUSTO', 'Andrzej IWAN', 'Jacek KAZIMIERSKI', 'Piotr MOWLIK', 'Jozef MLYNARCZYK', 'Marek DZIUBA', 'Janusz KUPCEWICZ', 'Pawel JANAS', 'Waldemar MATYSIK', 'Wladyslaw ZMUDA', 'Stefan MAJEWSKI', 'Wlodimierz SMOLAREK', 'Andrzej BUNCOL', 'Grzegorz LATO', 'Zbigniew BONIEK', 'Tadeusz DOLNY', 'Piotr SKROBOWSKI', 'Jan JALOCHA', 'Roman WOJCICKI', 'Andrzej PALASZ', 'Wlodzimierz CIOLEK', 'Andrzej SZARMACH', 'Marek KUSTO', 'Andrzej IWAN', 'Jacek KAZIMIERSKI', 'Piotr MOWLIK', 'Jozef MLYNARCZYK', 'Marek DZIUBA', 'Janusz KUPCEWICZ', 'Pawel JANAS', 'Waldemar MATYSIK', 'Wladyslaw ZMUDA', 'Stefan MAJEWSKI', 'Wlodimierz SMOLAREK', 'Andrzej BUNCOL', 'Grzegorz LATO', 'Zbigniew BONIEK', 'Tadeusz DOLNY', 'Piotr SKROBOWSKI', 'Jan JALOCHA', 'Roman WOJCICKI', 'Andrzej PALASZ', 'Wlodzimierz CIOLEK', 'Andrzej SZARMACH', 'Marek KUSTO', 'Andrzej IWAN', 'Jacek KAZIMIERSKI', 'Piotr MOWLIK', 'Jozef MLYNARCZYK', 'Marek DZIUBA', 'Janusz KUPCEWICZ', 'Pawel JANAS', 'Waldemar MATYSIK', 'Wladyslaw ZMUDA', 'Stefan MAJEWSKI', 'Wlodimierz SMOLAREK', 'Andrzej BUNCOL', 'Wlodzimierz CIOLEK', 'Grzegorz LATO', 'Tadeusz DOLNY', 'Piotr SKROBOWSKI', 'Jan JALOCHA', 'Roman WOJCICKI', 'Andrzej PALASZ', 'Andrzej SZARMACH', 'Marek KUSTO', 'Andrzej IWAN', 'Zbigniew BONIEK', 'Jacek KAZIMIERSKI', 'Piotr MOWLIK', 'Jozef MLYNARCZYK', 'Marek DZIUBA', 'Janusz KUPCEWICZ', 'Pawel JANAS', 'Waldemar MATYSIK', 'Wladyslaw ZMUDA', 'Stefan MAJEWSKI', 'Andrzej BUNCOL', 'Grzegorz LATO', 'Andrzej SZARMACH', 'Zbigniew BONIEK', 'Tadeusz DOLNY', 'Piotr SKROBOWSKI', 'Jan JALOCHA', 'Wlodimierz SMOLAREK', 'Roman WOJCICKI', 'Andrzej PALASZ', 'Wlodzimierz CIOLEK', 'Marek KUSTO', 'Andrzej IWAN', 'Jacek KAZIMIERSKI', 'Piotr MOWLIK', 'Jozef MLYNARCZYK', 'Marek OSTROWSKI', 'Roman WOJCICKI', 'Waldemar MATYSIK', 'Stefan MAJEWSKI', 'Wlodimierz SMOLAREK', 'Ryszard KOMORNICKI', 'Dariusz KUBICKI', 'Andrzej BUNCOL', 'Zbigniew BONIEK', 'Dariusz DZIEKANOWSKI', 'Kazimierz PRZYBYS', 'Wladyslaw ZMUDA', 'Ryszard TARASIEWICZ', 'Jan URBAN', 'Jan KARAS', 'Jacek KAZIMIERSKI', 'Andrzej PALASZ', 'Andrzej ZGUTCZYNSKI', 'Krzysztof PAWLAK', 'Jozef WANDZIK', 'Jan FURTOK', 'Jozef MLYNARCZYK', 'Marek OSTROWSKI', 'Roman WOJCICKI', 'Waldemar MATYSIK', 'Jan URBAN', 'Stefan MAJEWSKI', 'Wlodimierz SMOLAREK', 'Ryszard KOMORNICKI', 'Krzysztof PAWLAK', 'Zbigniew BONIEK', 'Dariusz DZIEKANOWSKI', 'Kazimierz PRZYBYS', 'Wladyslaw ZMUDA', 'Ryszard TARASIEWICZ', 'Jan KARAS', 'Jacek KAZIMIERSKI', 'Dariusz KUBICKI', 'Andrzej BUNCOL', 'Andrzej PALASZ', 'Andrzej ZGUTCZYNSKI', 'Jozef WANDZIK', 'Jan FURTOK', 'Jozef MLYNARCZYK', 'Marek OSTROWSKI', 'Roman WOJCICKI', 'Waldemar MATYSIK', 'Jan URBAN', 'Stefan MAJEWSKI', 'Wlodimierz SMOLAREK', 'Ryszard KOMORNICKI', 'Krzysztof PAWLAK', 'Zbigniew BONIEK', 'Dariusz DZIEKANOWSKI', 'Kazimierz PRZYBYS', 'Wladyslaw ZMUDA', 'Ryszard TARASIEWICZ', 'Jan KARAS', 'Jacek KAZIMIERSKI', 'Dariusz KUBICKI', 'Andrzej BUNCOL', 'Andrzej PALASZ', 'Andrzej ZGUTCZYNSKI', 'Jozef WANDZIK', 'Jan FURTOK', 'Jozef MLYNARCZYK', 'Kazimierz PRZYBYS', 'Marek OSTROWSKI', 'Roman WOJCICKI', 'Ryszard TARASIEWICZ', 'Jan URBAN', 'Jan KARAS', 'Stefan MAJEWSKI', 'Wlodimierz SMOLAREK', 'Zbigniew BONIEK', 'Dariusz DZIEKANOWSKI', 'Wladyslaw ZMUDA', 'Waldemar MATYSIK', 'Jacek KAZIMIERSKI', 'Ryszard KOMORNICKI', 'Dariusz KUBICKI', 'Andrzej BUNCOL', 'Andrzej PALASZ', 'Andrzej ZGUTCZYNSKI', 'Krzysztof PAWLAK', 'Jozef WANDZIK', 'Jan FURTOK', 'DUDEK', 'ZEWLAKOW', 'HAJTO', 'SWIERCZEWSKI', 'KALUZNY', 'OLISADEBE', 'WALDOCH', 'KRZYNOWEK', 'ZURAWSKI', 'J. BAK', 'KOZMINSKI', 'MAJDAN', 'MATYSEK', 'KLOS', 'ZIELINSKI', 'RZASA', 'KUCHARSKI', 'KRYSZALOWICZ', 'GLOWACKI', 'M. ZEWLAKOW', 'MURAWSKI', 'A. BAK', 'SIBIK', 'DUDEK', 'ZEWLAKOW', 'HAJTO', 'SWIERCZEWSKI', 'KRYSZALOWICZ', 'KALUZNY', 'OLISADEBE', 'WALDOCH', 'KRZYNOWEK', 'ZURAWSKI', 'KOZMINSKI', 'MAJDAN', 'MATYSEK', 'KLOS', 'ZIELINSKI', 'RZASA', 'KUCHARSKI', 'GLOWACKI', 'M. ZEWLAKOW', 'MURAWSKI', 'A. BAK', 'J. BAK', 'SIBIK', 'MAJDAN', 'KLOS', 'ZIELINSKI', 'KUCHARSKI', 'KRYSZALOWICZ', 'OLISADEBE', 'GLOWACKI', 'MURAWSKI', 'KRZYNOWEK', 'ZURAWSKI', 'KOZMINSKI', 'DUDEK', 'MATYSEK', 'ZEWLAKOW', 'RZASA', 'HAJTO', 'SWIERCZEWSKI', 'KALUZNY', 'M. ZEWLAKOW', 'WALDOCH', 'A. BAK', 'J. BAK', 'SIBIK', 'BORUC', 'JOP', 'BASZCZYNSKI', 'BAK', 'SOBOLEWSKI', 'KRZYNOWEK', 'ZURAWSKI', 'SZYMKOWIAK', 'ZEWLAKOW', 'SMOLAREK', 'RADOMSKI', 'GANCARCZYK', 'KOSOWSKI', 'RASIAK', 'KUSZCZAK', 'MILA', 'DUDKA', 'LEWANDOWSKI', 'BOSACKI', 'GIZA', 'JELEN', 'FABIANSKI', 'BROZEK', 'BORUC', 'BASZCZYNSKI', 'BAK', 'SOBOLEWSKI', 'KRZYNOWEK', 'ZURAWSKI', 'ZEWLAKOW', 'SMOLAREK', 'RADOMSKI', 'BOSACKI', 'JELEN', 'JOP', 'GANCARCZYK', 'KOSOWSKI', 'SZYMKOWIAK', 'RASIAK', 'KUSZCZAK', 'MILA', 'DUDKA', 'LEWANDOWSKI', 'GIZA', 'FABIANSKI', 'BROZEK', 'BORUC', 'BASZCZYNSKI', 'BAK', 'KRZYNOWEK', 'ZURAWSKI', 'SZYMKOWIAK', 'ZEWLAKOW', 'SMOLAREK', 'RADOMSKI', 'BOSACKI', 'JELEN', 'JOP', 'GANCARCZYK', 'KOSOWSKI', 'SOBOLEWSKI', 'RASIAK', 'KUSZCZAK', 'MILA', 'DUDKA', 'LEWANDOWSKI', 'GIZA', 'FABIANSKI', 'BROZEK']\n"
     ]
    }
   ],
   "source": [
    "import csv\n",
    "import os\n",
    "\n",
    "with open(os.path.join(\"data\", \"Male_WorldCupPlayers.csv\"), 'rt', encoding='utf-8') as players:\n",
    "    reader = csv.reader(players)\n",
    "    next(reader)\n",
    "    name_list = []\n",
    "    for row in reader:\n",
    "        name_list.append((row[2], row[6]))\n",
    "    # print(name_list)\n",
    "\n",
    "    players_by_country = defaultdict(list)\n",
    "    for country, name in name_list:\n",
    "        players_by_country[country].append(name)\n",
    "    print(players_by_country['POL'])\n",
    "\n"
   ],
   "metadata": {
    "collapsed": false,
    "ExecuteTime": {
     "end_time": "2023-06-19T18:12:10.701419480Z",
     "start_time": "2023-06-19T18:12:10.637268650Z"
    }
   }
  },
  {
   "cell_type": "markdown",
   "source": [
    "# Counter\n",
    "\n",
    "- nie zwraca key error jak nie ma klucza\n",
    "-"
   ],
   "metadata": {
    "collapsed": false
   }
  },
  {
   "cell_type": "code",
   "execution_count": 89,
   "outputs": [],
   "source": [
    "from collections import Counter"
   ],
   "metadata": {
    "collapsed": false,
    "ExecuteTime": {
     "end_time": "2023-06-19T18:21:47.806827182Z",
     "start_time": "2023-06-19T18:21:47.776919382Z"
    }
   }
  },
  {
   "cell_type": "code",
   "execution_count": 111,
   "outputs": [],
   "source": [
    "c = Counter()"
   ],
   "metadata": {
    "collapsed": false,
    "ExecuteTime": {
     "end_time": "2023-06-19T18:32:00.511949217Z",
     "start_time": "2023-06-19T18:32:00.470997542Z"
    }
   }
  },
  {
   "cell_type": "code",
   "execution_count": 112,
   "outputs": [
    {
     "data": {
      "text/plain": "Counter()"
     },
     "execution_count": 112,
     "metadata": {},
     "output_type": "execute_result"
    }
   ],
   "source": [
    "c"
   ],
   "metadata": {
    "collapsed": false,
    "ExecuteTime": {
     "end_time": "2023-06-19T18:32:00.901233477Z",
     "start_time": "2023-06-19T18:32:00.892209566Z"
    }
   }
  },
  {
   "cell_type": "code",
   "execution_count": 113,
   "outputs": [
    {
     "data": {
      "text/plain": "0"
     },
     "execution_count": 113,
     "metadata": {},
     "output_type": "execute_result"
    }
   ],
   "source": [
    "c['john']"
   ],
   "metadata": {
    "collapsed": false,
    "ExecuteTime": {
     "end_time": "2023-06-19T18:32:01.305241953Z",
     "start_time": "2023-06-19T18:32:01.294720261Z"
    }
   }
  },
  {
   "cell_type": "code",
   "execution_count": 114,
   "outputs": [
    {
     "data": {
      "text/plain": "Counter()"
     },
     "execution_count": 114,
     "metadata": {},
     "output_type": "execute_result"
    }
   ],
   "source": [
    "c"
   ],
   "metadata": {
    "collapsed": false,
    "ExecuteTime": {
     "end_time": "2023-06-19T18:32:02.218248880Z",
     "start_time": "2023-06-19T18:32:02.210016429Z"
    }
   }
  },
  {
   "cell_type": "code",
   "execution_count": 115,
   "outputs": [
    {
     "data": {
      "text/plain": "(collections.Counter, dict, object)"
     },
     "execution_count": 115,
     "metadata": {},
     "output_type": "execute_result"
    }
   ],
   "source": [
    "Counter.__mro__"
   ],
   "metadata": {
    "collapsed": false,
    "ExecuteTime": {
     "end_time": "2023-06-19T18:32:02.814576660Z",
     "start_time": "2023-06-19T18:32:02.806873807Z"
    }
   }
  },
  {
   "cell_type": "code",
   "execution_count": 116,
   "outputs": [
    {
     "data": {
      "text/plain": "{}"
     },
     "execution_count": 116,
     "metadata": {},
     "output_type": "execute_result"
    }
   ],
   "source": [
    "vars(c)"
   ],
   "metadata": {
    "collapsed": false,
    "ExecuteTime": {
     "end_time": "2023-06-19T18:32:03.294808315Z",
     "start_time": "2023-06-19T18:32:03.267041674Z"
    }
   }
  },
  {
   "cell_type": "code",
   "execution_count": 117,
   "outputs": [],
   "source": [
    "c['john'] = 0"
   ],
   "metadata": {
    "collapsed": false,
    "ExecuteTime": {
     "end_time": "2023-06-19T18:32:04.330428684Z",
     "start_time": "2023-06-19T18:32:04.315860734Z"
    }
   }
  },
  {
   "cell_type": "code",
   "execution_count": 118,
   "outputs": [
    {
     "data": {
      "text/plain": "Counter({'john': 0})"
     },
     "execution_count": 118,
     "metadata": {},
     "output_type": "execute_result"
    }
   ],
   "source": [
    "c"
   ],
   "metadata": {
    "collapsed": false,
    "ExecuteTime": {
     "end_time": "2023-06-19T18:32:05.227172902Z",
     "start_time": "2023-06-19T18:32:05.216689510Z"
    }
   }
  },
  {
   "cell_type": "code",
   "execution_count": 119,
   "outputs": [
    {
     "data": {
      "text/plain": "Counter({'jaro': 42, 'john': 0})"
     },
     "execution_count": 119,
     "metadata": {},
     "output_type": "execute_result"
    }
   ],
   "source": [
    "c['jaro'] = 42\n",
    "c"
   ],
   "metadata": {
    "collapsed": false,
    "ExecuteTime": {
     "end_time": "2023-06-19T18:32:07.064235965Z",
     "start_time": "2023-06-19T18:32:07.055629252Z"
    }
   }
  },
  {
   "cell_type": "code",
   "execution_count": 120,
   "outputs": [],
   "source": [
    "c['john'] += 1"
   ],
   "metadata": {
    "collapsed": false,
    "ExecuteTime": {
     "end_time": "2023-06-19T18:32:07.907218639Z",
     "start_time": "2023-06-19T18:32:07.899246389Z"
    }
   }
  },
  {
   "cell_type": "code",
   "execution_count": 121,
   "outputs": [
    {
     "data": {
      "text/plain": "Counter({'jaro': 42, 'john': 1})"
     },
     "execution_count": 121,
     "metadata": {},
     "output_type": "execute_result"
    }
   ],
   "source": [
    "c"
   ],
   "metadata": {
    "collapsed": false,
    "ExecuteTime": {
     "end_time": "2023-06-19T18:32:10.499504723Z",
     "start_time": "2023-06-19T18:32:10.490948591Z"
    }
   }
  },
  {
   "cell_type": "code",
   "execution_count": 105,
   "outputs": [],
   "source": [
    "c['jaro'] = \"str\""
   ],
   "metadata": {
    "collapsed": false,
    "ExecuteTime": {
     "end_time": "2023-06-19T18:28:41.570480747Z",
     "start_time": "2023-06-19T18:28:41.529494948Z"
    }
   }
  },
  {
   "cell_type": "code",
   "execution_count": 106,
   "outputs": [
    {
     "ename": "TypeError",
     "evalue": "'<' not supported between instances of 'int' and 'str'",
     "output_type": "error",
     "traceback": [
      "\u001B[0;31m---------------------------------------------------------------------------\u001B[0m",
      "\u001B[0;31mTypeError\u001B[0m                                 Traceback (most recent call last)",
      "File \u001B[0;32m~/projects/recipes/venv/lib64/python3.11/site-packages/IPython/core/formatters.py:708\u001B[0m, in \u001B[0;36mPlainTextFormatter.__call__\u001B[0;34m(self, obj)\u001B[0m\n\u001B[1;32m    701\u001B[0m stream \u001B[38;5;241m=\u001B[39m StringIO()\n\u001B[1;32m    702\u001B[0m printer \u001B[38;5;241m=\u001B[39m pretty\u001B[38;5;241m.\u001B[39mRepresentationPrinter(stream, \u001B[38;5;28mself\u001B[39m\u001B[38;5;241m.\u001B[39mverbose,\n\u001B[1;32m    703\u001B[0m     \u001B[38;5;28mself\u001B[39m\u001B[38;5;241m.\u001B[39mmax_width, \u001B[38;5;28mself\u001B[39m\u001B[38;5;241m.\u001B[39mnewline,\n\u001B[1;32m    704\u001B[0m     max_seq_length\u001B[38;5;241m=\u001B[39m\u001B[38;5;28mself\u001B[39m\u001B[38;5;241m.\u001B[39mmax_seq_length,\n\u001B[1;32m    705\u001B[0m     singleton_pprinters\u001B[38;5;241m=\u001B[39m\u001B[38;5;28mself\u001B[39m\u001B[38;5;241m.\u001B[39msingleton_printers,\n\u001B[1;32m    706\u001B[0m     type_pprinters\u001B[38;5;241m=\u001B[39m\u001B[38;5;28mself\u001B[39m\u001B[38;5;241m.\u001B[39mtype_printers,\n\u001B[1;32m    707\u001B[0m     deferred_pprinters\u001B[38;5;241m=\u001B[39m\u001B[38;5;28mself\u001B[39m\u001B[38;5;241m.\u001B[39mdeferred_printers)\n\u001B[0;32m--> 708\u001B[0m \u001B[43mprinter\u001B[49m\u001B[38;5;241;43m.\u001B[39;49m\u001B[43mpretty\u001B[49m\u001B[43m(\u001B[49m\u001B[43mobj\u001B[49m\u001B[43m)\u001B[49m\n\u001B[1;32m    709\u001B[0m printer\u001B[38;5;241m.\u001B[39mflush()\n\u001B[1;32m    710\u001B[0m \u001B[38;5;28;01mreturn\u001B[39;00m stream\u001B[38;5;241m.\u001B[39mgetvalue()\n",
      "File \u001B[0;32m~/projects/recipes/venv/lib64/python3.11/site-packages/IPython/lib/pretty.py:393\u001B[0m, in \u001B[0;36mRepresentationPrinter.pretty\u001B[0;34m(self, obj)\u001B[0m\n\u001B[1;32m    390\u001B[0m \u001B[38;5;28;01mfor\u001B[39;00m \u001B[38;5;28mcls\u001B[39m \u001B[38;5;129;01min\u001B[39;00m _get_mro(obj_class):\n\u001B[1;32m    391\u001B[0m     \u001B[38;5;28;01mif\u001B[39;00m \u001B[38;5;28mcls\u001B[39m \u001B[38;5;129;01min\u001B[39;00m \u001B[38;5;28mself\u001B[39m\u001B[38;5;241m.\u001B[39mtype_pprinters:\n\u001B[1;32m    392\u001B[0m         \u001B[38;5;66;03m# printer registered in self.type_pprinters\u001B[39;00m\n\u001B[0;32m--> 393\u001B[0m         \u001B[38;5;28;01mreturn\u001B[39;00m \u001B[38;5;28;43mself\u001B[39;49m\u001B[38;5;241;43m.\u001B[39;49m\u001B[43mtype_pprinters\u001B[49m\u001B[43m[\u001B[49m\u001B[38;5;28;43mcls\u001B[39;49m\u001B[43m]\u001B[49m\u001B[43m(\u001B[49m\u001B[43mobj\u001B[49m\u001B[43m,\u001B[49m\u001B[43m \u001B[49m\u001B[38;5;28;43mself\u001B[39;49m\u001B[43m,\u001B[49m\u001B[43m \u001B[49m\u001B[43mcycle\u001B[49m\u001B[43m)\u001B[49m\n\u001B[1;32m    394\u001B[0m     \u001B[38;5;28;01melse\u001B[39;00m:\n\u001B[1;32m    395\u001B[0m         \u001B[38;5;66;03m# deferred printer\u001B[39;00m\n\u001B[1;32m    396\u001B[0m         printer \u001B[38;5;241m=\u001B[39m \u001B[38;5;28mself\u001B[39m\u001B[38;5;241m.\u001B[39m_in_deferred_types(\u001B[38;5;28mcls\u001B[39m)\n",
      "File \u001B[0;32m~/projects/recipes/venv/lib64/python3.11/site-packages/IPython/lib/pretty.py:921\u001B[0m, in \u001B[0;36m_counter_pprint\u001B[0;34m(obj, p, cycle)\u001B[0m\n\u001B[1;32m    919\u001B[0m     p\u001B[38;5;241m.\u001B[39mpretty(cls_ctor(RawText(\u001B[38;5;124m\"\u001B[39m\u001B[38;5;124m...\u001B[39m\u001B[38;5;124m\"\u001B[39m)))\n\u001B[1;32m    920\u001B[0m \u001B[38;5;28;01melif\u001B[39;00m \u001B[38;5;28mlen\u001B[39m(obj):\n\u001B[0;32m--> 921\u001B[0m     p\u001B[38;5;241m.\u001B[39mpretty(cls_ctor(\u001B[38;5;28mdict\u001B[39m(\u001B[43mobj\u001B[49m\u001B[38;5;241;43m.\u001B[39;49m\u001B[43mmost_common\u001B[49m\u001B[43m(\u001B[49m\u001B[43m)\u001B[49m)))\n\u001B[1;32m    922\u001B[0m \u001B[38;5;28;01melse\u001B[39;00m:\n\u001B[1;32m    923\u001B[0m     p\u001B[38;5;241m.\u001B[39mpretty(cls_ctor())\n",
      "File \u001B[0;32m/usr/lib64/python3.11/collections/__init__.py:618\u001B[0m, in \u001B[0;36mCounter.most_common\u001B[0;34m(self, n)\u001B[0m\n\u001B[1;32m    616\u001B[0m \u001B[38;5;66;03m# Emulate Bag.sortedByCount from Smalltalk\u001B[39;00m\n\u001B[1;32m    617\u001B[0m \u001B[38;5;28;01mif\u001B[39;00m n \u001B[38;5;129;01mis\u001B[39;00m \u001B[38;5;28;01mNone\u001B[39;00m:\n\u001B[0;32m--> 618\u001B[0m     \u001B[38;5;28;01mreturn\u001B[39;00m \u001B[38;5;28msorted\u001B[39m(\u001B[38;5;28mself\u001B[39m\u001B[38;5;241m.\u001B[39mitems(), key\u001B[38;5;241m=\u001B[39m_itemgetter(\u001B[38;5;241m1\u001B[39m), reverse\u001B[38;5;241m=\u001B[39m\u001B[38;5;28;01mTrue\u001B[39;00m)\n\u001B[1;32m    620\u001B[0m \u001B[38;5;66;03m# Lazy import to speedup Python startup time\u001B[39;00m\n\u001B[1;32m    621\u001B[0m \u001B[38;5;28;01mimport\u001B[39;00m \u001B[38;5;21;01mheapq\u001B[39;00m\n",
      "\u001B[0;31mTypeError\u001B[0m: '<' not supported between instances of 'int' and 'str'"
     ]
    }
   ],
   "source": [
    "c"
   ],
   "metadata": {
    "collapsed": false,
    "ExecuteTime": {
     "end_time": "2023-06-19T18:28:43.159313170Z",
     "start_time": "2023-06-19T18:28:43.038775932Z"
    }
   }
  },
  {
   "cell_type": "code",
   "execution_count": 107,
   "outputs": [],
   "source": [
    "c['lech'] = \"str\""
   ],
   "metadata": {
    "collapsed": false,
    "ExecuteTime": {
     "end_time": "2023-06-19T18:29:32.574235980Z",
     "start_time": "2023-06-19T18:29:32.532367486Z"
    }
   }
  },
  {
   "cell_type": "code",
   "execution_count": 108,
   "outputs": [
    {
     "ename": "TypeError",
     "evalue": "'<' not supported between instances of 'int' and 'str'",
     "output_type": "error",
     "traceback": [
      "\u001B[0;31m---------------------------------------------------------------------------\u001B[0m",
      "\u001B[0;31mTypeError\u001B[0m                                 Traceback (most recent call last)",
      "File \u001B[0;32m~/projects/recipes/venv/lib64/python3.11/site-packages/IPython/core/formatters.py:708\u001B[0m, in \u001B[0;36mPlainTextFormatter.__call__\u001B[0;34m(self, obj)\u001B[0m\n\u001B[1;32m    701\u001B[0m stream \u001B[38;5;241m=\u001B[39m StringIO()\n\u001B[1;32m    702\u001B[0m printer \u001B[38;5;241m=\u001B[39m pretty\u001B[38;5;241m.\u001B[39mRepresentationPrinter(stream, \u001B[38;5;28mself\u001B[39m\u001B[38;5;241m.\u001B[39mverbose,\n\u001B[1;32m    703\u001B[0m     \u001B[38;5;28mself\u001B[39m\u001B[38;5;241m.\u001B[39mmax_width, \u001B[38;5;28mself\u001B[39m\u001B[38;5;241m.\u001B[39mnewline,\n\u001B[1;32m    704\u001B[0m     max_seq_length\u001B[38;5;241m=\u001B[39m\u001B[38;5;28mself\u001B[39m\u001B[38;5;241m.\u001B[39mmax_seq_length,\n\u001B[1;32m    705\u001B[0m     singleton_pprinters\u001B[38;5;241m=\u001B[39m\u001B[38;5;28mself\u001B[39m\u001B[38;5;241m.\u001B[39msingleton_printers,\n\u001B[1;32m    706\u001B[0m     type_pprinters\u001B[38;5;241m=\u001B[39m\u001B[38;5;28mself\u001B[39m\u001B[38;5;241m.\u001B[39mtype_printers,\n\u001B[1;32m    707\u001B[0m     deferred_pprinters\u001B[38;5;241m=\u001B[39m\u001B[38;5;28mself\u001B[39m\u001B[38;5;241m.\u001B[39mdeferred_printers)\n\u001B[0;32m--> 708\u001B[0m \u001B[43mprinter\u001B[49m\u001B[38;5;241;43m.\u001B[39;49m\u001B[43mpretty\u001B[49m\u001B[43m(\u001B[49m\u001B[43mobj\u001B[49m\u001B[43m)\u001B[49m\n\u001B[1;32m    709\u001B[0m printer\u001B[38;5;241m.\u001B[39mflush()\n\u001B[1;32m    710\u001B[0m \u001B[38;5;28;01mreturn\u001B[39;00m stream\u001B[38;5;241m.\u001B[39mgetvalue()\n",
      "File \u001B[0;32m~/projects/recipes/venv/lib64/python3.11/site-packages/IPython/lib/pretty.py:393\u001B[0m, in \u001B[0;36mRepresentationPrinter.pretty\u001B[0;34m(self, obj)\u001B[0m\n\u001B[1;32m    390\u001B[0m \u001B[38;5;28;01mfor\u001B[39;00m \u001B[38;5;28mcls\u001B[39m \u001B[38;5;129;01min\u001B[39;00m _get_mro(obj_class):\n\u001B[1;32m    391\u001B[0m     \u001B[38;5;28;01mif\u001B[39;00m \u001B[38;5;28mcls\u001B[39m \u001B[38;5;129;01min\u001B[39;00m \u001B[38;5;28mself\u001B[39m\u001B[38;5;241m.\u001B[39mtype_pprinters:\n\u001B[1;32m    392\u001B[0m         \u001B[38;5;66;03m# printer registered in self.type_pprinters\u001B[39;00m\n\u001B[0;32m--> 393\u001B[0m         \u001B[38;5;28;01mreturn\u001B[39;00m \u001B[38;5;28;43mself\u001B[39;49m\u001B[38;5;241;43m.\u001B[39;49m\u001B[43mtype_pprinters\u001B[49m\u001B[43m[\u001B[49m\u001B[38;5;28;43mcls\u001B[39;49m\u001B[43m]\u001B[49m\u001B[43m(\u001B[49m\u001B[43mobj\u001B[49m\u001B[43m,\u001B[49m\u001B[43m \u001B[49m\u001B[38;5;28;43mself\u001B[39;49m\u001B[43m,\u001B[49m\u001B[43m \u001B[49m\u001B[43mcycle\u001B[49m\u001B[43m)\u001B[49m\n\u001B[1;32m    394\u001B[0m     \u001B[38;5;28;01melse\u001B[39;00m:\n\u001B[1;32m    395\u001B[0m         \u001B[38;5;66;03m# deferred printer\u001B[39;00m\n\u001B[1;32m    396\u001B[0m         printer \u001B[38;5;241m=\u001B[39m \u001B[38;5;28mself\u001B[39m\u001B[38;5;241m.\u001B[39m_in_deferred_types(\u001B[38;5;28mcls\u001B[39m)\n",
      "File \u001B[0;32m~/projects/recipes/venv/lib64/python3.11/site-packages/IPython/lib/pretty.py:921\u001B[0m, in \u001B[0;36m_counter_pprint\u001B[0;34m(obj, p, cycle)\u001B[0m\n\u001B[1;32m    919\u001B[0m     p\u001B[38;5;241m.\u001B[39mpretty(cls_ctor(RawText(\u001B[38;5;124m\"\u001B[39m\u001B[38;5;124m...\u001B[39m\u001B[38;5;124m\"\u001B[39m)))\n\u001B[1;32m    920\u001B[0m \u001B[38;5;28;01melif\u001B[39;00m \u001B[38;5;28mlen\u001B[39m(obj):\n\u001B[0;32m--> 921\u001B[0m     p\u001B[38;5;241m.\u001B[39mpretty(cls_ctor(\u001B[38;5;28mdict\u001B[39m(\u001B[43mobj\u001B[49m\u001B[38;5;241;43m.\u001B[39;49m\u001B[43mmost_common\u001B[49m\u001B[43m(\u001B[49m\u001B[43m)\u001B[49m)))\n\u001B[1;32m    922\u001B[0m \u001B[38;5;28;01melse\u001B[39;00m:\n\u001B[1;32m    923\u001B[0m     p\u001B[38;5;241m.\u001B[39mpretty(cls_ctor())\n",
      "File \u001B[0;32m/usr/lib64/python3.11/collections/__init__.py:618\u001B[0m, in \u001B[0;36mCounter.most_common\u001B[0;34m(self, n)\u001B[0m\n\u001B[1;32m    616\u001B[0m \u001B[38;5;66;03m# Emulate Bag.sortedByCount from Smalltalk\u001B[39;00m\n\u001B[1;32m    617\u001B[0m \u001B[38;5;28;01mif\u001B[39;00m n \u001B[38;5;129;01mis\u001B[39;00m \u001B[38;5;28;01mNone\u001B[39;00m:\n\u001B[0;32m--> 618\u001B[0m     \u001B[38;5;28;01mreturn\u001B[39;00m \u001B[38;5;28msorted\u001B[39m(\u001B[38;5;28mself\u001B[39m\u001B[38;5;241m.\u001B[39mitems(), key\u001B[38;5;241m=\u001B[39m_itemgetter(\u001B[38;5;241m1\u001B[39m), reverse\u001B[38;5;241m=\u001B[39m\u001B[38;5;28;01mTrue\u001B[39;00m)\n\u001B[1;32m    620\u001B[0m \u001B[38;5;66;03m# Lazy import to speedup Python startup time\u001B[39;00m\n\u001B[1;32m    621\u001B[0m \u001B[38;5;28;01mimport\u001B[39;00m \u001B[38;5;21;01mheapq\u001B[39;00m\n",
      "\u001B[0;31mTypeError\u001B[0m: '<' not supported between instances of 'int' and 'str'"
     ]
    }
   ],
   "source": [
    "c"
   ],
   "metadata": {
    "collapsed": false,
    "ExecuteTime": {
     "end_time": "2023-06-19T18:29:33.744580934Z",
     "start_time": "2023-06-19T18:29:33.700905511Z"
    }
   }
  },
  {
   "cell_type": "code",
   "execution_count": 109,
   "outputs": [
    {
     "data": {
      "text/plain": "{}"
     },
     "execution_count": 109,
     "metadata": {},
     "output_type": "execute_result"
    }
   ],
   "source": [
    "vars(c)"
   ],
   "metadata": {
    "collapsed": false,
    "ExecuteTime": {
     "end_time": "2023-06-19T18:30:30.958830621Z",
     "start_time": "2023-06-19T18:30:30.927375066Z"
    }
   }
  },
  {
   "cell_type": "code",
   "execution_count": 110,
   "outputs": [
    {
     "data": {
      "text/plain": "['__add__',\n '__and__',\n '__class__',\n '__class_getitem__',\n '__contains__',\n '__delattr__',\n '__delitem__',\n '__dict__',\n '__dir__',\n '__doc__',\n '__eq__',\n '__format__',\n '__ge__',\n '__getattribute__',\n '__getitem__',\n '__getstate__',\n '__gt__',\n '__hash__',\n '__iadd__',\n '__iand__',\n '__init__',\n '__init_subclass__',\n '__ior__',\n '__isub__',\n '__iter__',\n '__le__',\n '__len__',\n '__lt__',\n '__missing__',\n '__module__',\n '__ne__',\n '__neg__',\n '__new__',\n '__or__',\n '__pos__',\n '__reduce__',\n '__reduce_ex__',\n '__repr__',\n '__reversed__',\n '__ror__',\n '__setattr__',\n '__setitem__',\n '__sizeof__',\n '__str__',\n '__sub__',\n '__subclasshook__',\n '__weakref__',\n '_keep_positive',\n 'clear',\n 'copy',\n 'elements',\n 'fromkeys',\n 'get',\n 'items',\n 'keys',\n 'most_common',\n 'pop',\n 'popitem',\n 'setdefault',\n 'subtract',\n 'total',\n 'update',\n 'values']"
     },
     "execution_count": 110,
     "metadata": {},
     "output_type": "execute_result"
    }
   ],
   "source": [
    "dir(c)"
   ],
   "metadata": {
    "collapsed": false,
    "ExecuteTime": {
     "end_time": "2023-06-19T18:30:55.122224764Z",
     "start_time": "2023-06-19T18:30:55.091109180Z"
    }
   }
  },
  {
   "cell_type": "code",
   "execution_count": 122,
   "outputs": [],
   "source": [
    "c['jaro'] = \"str\""
   ],
   "metadata": {
    "collapsed": false,
    "ExecuteTime": {
     "end_time": "2023-06-19T18:34:18.986316256Z",
     "start_time": "2023-06-19T18:34:18.950150302Z"
    }
   }
  },
  {
   "cell_type": "code",
   "execution_count": 123,
   "outputs": [],
   "source": [
    "c['jaro'] = 42"
   ],
   "metadata": {
    "collapsed": false,
    "ExecuteTime": {
     "end_time": "2023-06-19T18:34:27.568419763Z",
     "start_time": "2023-06-19T18:34:27.537726048Z"
    }
   }
  },
  {
   "cell_type": "code",
   "execution_count": 124,
   "outputs": [
    {
     "data": {
      "text/plain": "Counter({'jaro': 42, 'john': 1})"
     },
     "execution_count": 124,
     "metadata": {},
     "output_type": "execute_result"
    }
   ],
   "source": [
    "c"
   ],
   "metadata": {
    "collapsed": false,
    "ExecuteTime": {
     "end_time": "2023-06-19T18:34:28.779826146Z",
     "start_time": "2023-06-19T18:34:28.745597400Z"
    }
   }
  },
  {
   "cell_type": "code",
   "execution_count": 131,
   "outputs": [
    {
     "name": "stdout",
     "output_type": "stream",
     "text": [
      "[('RONALDO', 33), ('KLOSE', 32), ('OSCAR', 28), ('MÚLLER', 28), ('JULIO CESAR', 26), ('CAFU', 26), ('DIDA', 25), ('Sepp MAIER', 25), ('SILVA', 25), ('LEAO', 25)]\n"
     ]
    }
   ],
   "source": [
    "import csv\n",
    "import os\n",
    "\n",
    "with open(os.path.join(\"data\", \"Male_WorldCupPlayers.csv\"), 'rt', encoding='utf-8') as players:\n",
    "    reader = csv.reader(players)\n",
    "    next(reader)\n",
    "    name_list = []\n",
    "    for row in reader:\n",
    "        name_list.append(row[6])\n",
    "    # print(name_list)\n",
    "\n",
    "    players_count = Counter(name_list)  # liczy wystąpienie każdego elementu w kolekcji\n",
    "    # print(players_count)\n",
    "    players_count_top_ten = players_count.most_common(10)\n",
    "    print(players_count_top_ten)\n"
   ],
   "metadata": {
    "collapsed": false,
    "ExecuteTime": {
     "end_time": "2023-06-19T18:41:46.364243834Z",
     "start_time": "2023-06-19T18:41:46.304966399Z"
    }
   }
  },
  {
   "cell_type": "markdown",
   "source": [
    "# ZADANIE - 10 najpopularniejszych słów w Panu Tadeuszu!!!!"
   ],
   "metadata": {
    "collapsed": false
   }
  },
  {
   "cell_type": "code",
   "execution_count": 133,
   "outputs": [],
   "source": [
    "from urllib.request import urlopen"
   ],
   "metadata": {
    "collapsed": false,
    "ExecuteTime": {
     "end_time": "2023-06-19T18:44:58.917156370Z",
     "start_time": "2023-06-19T18:44:58.901149014Z"
    }
   }
  },
  {
   "cell_type": "code",
   "execution_count": 140,
   "outputs": [],
   "source": [
    "import re\n",
    "import string\n",
    "\n",
    "\n"
   ],
   "metadata": {
    "collapsed": false,
    "ExecuteTime": {
     "end_time": "2023-06-19T18:52:57.651796638Z",
     "start_time": "2023-06-19T18:52:57.637692086Z"
    }
   }
  },
  {
   "cell_type": "code",
   "execution_count": 152,
   "outputs": [],
   "source": [
    "def delete_white_signs(tekst):\n",
    "    # Wyrażenie regularne do dopasowania białych znaków i znaków interpunkcyjnych\n",
    "    # pattern = r\"[\\b\\w+\\b]+\".format(re.escape(string.punctuation))\n",
    "\n",
    "    # Usuwanie białych znaków i znaków interpunkcyjnych\n",
    "    return re.sub(r'[^a-zA-Z \\n]', \"\", tekst)\n"
   ],
   "metadata": {
    "collapsed": false,
    "ExecuteTime": {
     "end_time": "2023-06-19T19:02:38.264083015Z",
     "start_time": "2023-06-19T19:02:38.220116052Z"
    }
   }
  },
  {
   "cell_type": "code",
   "execution_count": 154,
   "outputs": [],
   "source": [
    "def clean_string(input_string):\n",
    "    translator = str.maketrans('', '', string.punctuation)\n",
    "    no_punct = input_string.translate(translator)\n",
    "\n",
    "    # Replaces newlines and carriage returns with spaces\n",
    "    cleaned_string = no_punct.replace('\\r', ' ').replace('\\n', ' ')\n",
    "\n",
    "    return cleaned_string"
   ],
   "metadata": {
    "collapsed": false,
    "ExecuteTime": {
     "end_time": "2023-06-19T19:03:06.970454128Z",
     "start_time": "2023-06-19T19:03:06.916390118Z"
    }
   }
  },
  {
   "cell_type": "code",
   "execution_count": 161,
   "outputs": [
    {
     "name": "stdout",
     "output_type": "stream",
     "text": [
      "['__abstractmethods__', '__class__', '__del__', '__delattr__', '__dict__', '__dir__', '__doc__', '__enter__', '__eq__', '__exit__', '__format__', '__ge__', '__getattribute__', '__getstate__', '__gt__', '__hash__', '__init__', '__init_subclass__', '__iter__', '__le__', '__lt__', '__module__', '__ne__', '__new__', '__next__', '__reduce__', '__reduce_ex__', '__repr__', '__setattr__', '__sizeof__', '__str__', '__subclasshook__', '_abc_impl', '_checkClosed', '_checkReadable', '_checkSeekable', '_checkWritable', '_check_close', '_close_conn', '_get_chunk_left', '_method', '_peek_chunked', '_read1_chunked', '_read_and_discard_trailer', '_read_chunked', '_read_next_chunk_size', '_read_status', '_readinto_chunked', '_safe_read', '_safe_readinto', 'begin', 'chunk_left', 'chunked', 'close', 'closed', 'code', 'debuglevel', 'detach', 'fileno', 'flush', 'fp', 'getcode', 'getheader', 'getheaders', 'geturl', 'headers', 'info', 'isatty', 'isclosed', 'length', 'msg', 'peek', 'read', 'read1', 'readable', 'readinto', 'readinto1', 'readline', 'readlines', 'reason', 'seek', 'seekable', 'status', 'tell', 'truncate', 'url', 'version', 'will_close', 'writable', 'write', 'writelines']\n",
      "[('Hrabia', 83), ('Project', 82), ('Tadeusz', 66), ('jest', 62), ('Gutenbergtm', 55), ('Sędzia', 54), ('przez', 51), ('lecz', 51), ('jeszcze', 51), ('Wojski', 51)]\n"
     ]
    }
   ],
   "source": [
    "with urlopen('https://www.gutenberg.org/files/31536/31536-0.txt') as r:\n",
    "    # print(dir(r))\n",
    "    text = r.read().decode('utf-8')\n",
    "    new_text = clean_string(text)\n",
    "    new_text = [item.strip() for item in new_text.split(\" \") if item != \"\" and len(item) > 3]\n",
    "\n",
    "    # print(new_text)\n",
    "    count_words = Counter(new_text).most_common(10)\n",
    "    print(count_words)\n"
   ],
   "metadata": {
    "collapsed": false,
    "ExecuteTime": {
     "end_time": "2023-06-19T19:08:03.644497108Z",
     "start_time": "2023-06-19T19:08:02.477350793Z"
    }
   }
  },
  {
   "cell_type": "markdown",
   "source": [
    "# Sprawdź to samo w Krzyżakach!!!"
   ],
   "metadata": {
    "collapsed": false
   }
  },
  {
   "cell_type": "code",
   "execution_count": 166,
   "outputs": [
    {
     "data": {
      "text/plain": "[Person(first_name='Troy', last_name='Degraw'),\n Person(first_name='Kayleen', last_name='Soja'),\n Person(first_name='Adele', last_name='Kucera'),\n Person(first_name='Roseline', last_name='Venters'),\n Person(first_name='Kirstie', last_name='Mchugh'),\n Person(first_name='Leida', last_name='Carner'),\n Person(first_name='Tyrone', last_name='Harry'),\n Person(first_name='Karla', last_name='Cabana'),\n Person(first_name='Neomi', last_name='Wilcher'),\n Person(first_name='Karine', last_name='Dudash'),\n Person(first_name='Lashell', last_name='Ewald'),\n Person(first_name='Onita', last_name='Concannon'),\n Person(first_name='Florencio', last_name='Antunez'),\n Person(first_name='Yael', last_name='Woodring'),\n Person(first_name='Linh', last_name='Hukill'),\n Person(first_name='Signe', last_name='Dildine'),\n Person(first_name='Robt', last_name='Rosemond'),\n Person(first_name='Hank', last_name='Moscoso'),\n Person(first_name='Kira', last_name='Culler'),\n Person(first_name='Margie', last_name='Rabb'),\n Person(first_name='Elouise', last_name='Grennan'),\n Person(first_name='Jared', last_name='Stanback'),\n Person(first_name='Felicitas', last_name='Copper'),\n Person(first_name='Pasquale', last_name='Weldon'),\n Person(first_name='Nella', last_name='Neugebauer'),\n Person(first_name='Mamie', last_name='Ensey'),\n Person(first_name='Birgit', last_name='Smoot'),\n Person(first_name='Noelia', last_name='Ohagan'),\n Person(first_name='Marion', last_name='Derbyshire'),\n Person(first_name='Lavonda', last_name='Hanscom'),\n Person(first_name='Karie', last_name='Relyea'),\n Person(first_name='Mindy', last_name='Paulus'),\n Person(first_name='Sid', last_name='Traverso'),\n Person(first_name='Ricarda', last_name='Conkling'),\n Person(first_name='Devorah', last_name='Revelle'),\n Person(first_name='Harlan', last_name='Tregre'),\n Person(first_name='Roni', last_name='Krouse'),\n Person(first_name='Shaunna', last_name='Painter'),\n Person(first_name='Miyoko', last_name='Furtado'),\n Person(first_name='Weldon', last_name='Iman'),\n Person(first_name='Reginald', last_name='Crow'),\n Person(first_name='Keith', last_name='Calbert'),\n Person(first_name='Amira', last_name='Canter'),\n Person(first_name='Guillermina', last_name='Backus'),\n Person(first_name='Kiana', last_name='Flanigan'),\n Person(first_name='Remona', last_name='Pinckard'),\n Person(first_name='Manda', last_name='Hoskin'),\n Person(first_name='Donna', last_name='Cappello'),\n Person(first_name='Layla', last_name='Larkins'),\n Person(first_name='Maryland', last_name='Falcon')]"
     },
     "execution_count": 166,
     "metadata": {},
     "output_type": "execute_result"
    }
   ],
   "source": [
    "@dataclass(frozen=True)\n",
    "class Person:\n",
    "    first_name: str\n",
    "    last_name: str\n",
    "\n",
    "\n",
    "def load_people():\n",
    "    people_names = []\n",
    "    with open(os.path.join('data', 'randomnames.csv'), 'rt', encoding='utf-8') as f:\n",
    "        names = csv.reader(f, delimiter=' ')\n",
    "\n",
    "        for name in names:\n",
    "            people_names.append(Person(name[0], name[1]))\n",
    "    return people_names\n",
    "\n",
    "load_people()\n"
   ],
   "metadata": {
    "collapsed": false,
    "ExecuteTime": {
     "end_time": "2023-06-19T19:19:54.244874364Z",
     "start_time": "2023-06-19T19:19:54.230936293Z"
    }
   }
  },
  {
   "cell_type": "code",
   "execution_count": 168,
   "outputs": [],
   "source": [
    "import random\n",
    "\n",
    "def simulate_game(people):\n",
    "    for men in people:\n",
    "        people[men] += random.randint(1, 10)\n"
   ],
   "metadata": {
    "collapsed": false,
    "ExecuteTime": {
     "end_time": "2023-06-19T19:27:30.296170958Z",
     "start_time": "2023-06-19T19:27:30.251600637Z"
    }
   }
  },
  {
   "cell_type": "code",
   "execution_count": 174,
   "outputs": [
    {
     "name": "stdout",
     "output_type": "stream",
     "text": [
      "Counter({Person(first_name='Lashell', last_name='Ewald'): 10, Person(first_name='Jared', last_name='Stanback'): 10, Person(first_name='Mamie', last_name='Ensey'): 10, Person(first_name='Lavonda', last_name='Hanscom'): 10, Person(first_name='Karie', last_name='Relyea'): 10, Person(first_name='Remona', last_name='Pinckard'): 10, Person(first_name='Neomi', last_name='Wilcher'): 9, Person(first_name='Onita', last_name='Concannon'): 9, Person(first_name='Sid', last_name='Traverso'): 9, Person(first_name='Keith', last_name='Calbert'): 9, Person(first_name='Layla', last_name='Larkins'): 9, Person(first_name='Troy', last_name='Degraw'): 8, Person(first_name='Tyrone', last_name='Harry'): 8, Person(first_name='Karine', last_name='Dudash'): 8, Person(first_name='Yael', last_name='Woodring'): 8, Person(first_name='Nella', last_name='Neugebauer'): 8, Person(first_name='Maryland', last_name='Falcon'): 8, Person(first_name='Adele', last_name='Kucera'): 7, Person(first_name='Roseline', last_name='Venters'): 7, Person(first_name='Noelia', last_name='Ohagan'): 7, Person(first_name='Devorah', last_name='Revelle'): 7, Person(first_name='Roni', last_name='Krouse'): 7, Person(first_name='Weldon', last_name='Iman'): 7, Person(first_name='Reginald', last_name='Crow'): 7, Person(first_name='Kiana', last_name='Flanigan'): 7, Person(first_name='Donna', last_name='Cappello'): 7, Person(first_name='Kayleen', last_name='Soja'): 6, Person(first_name='Kirstie', last_name='Mchugh'): 6, Person(first_name='Karla', last_name='Cabana'): 6, Person(first_name='Birgit', last_name='Smoot'): 6, Person(first_name='Florencio', last_name='Antunez'): 4, Person(first_name='Robt', last_name='Rosemond'): 4, Person(first_name='Hank', last_name='Moscoso'): 4, Person(first_name='Margie', last_name='Rabb'): 4, Person(first_name='Marion', last_name='Derbyshire'): 4, Person(first_name='Shaunna', last_name='Painter'): 4, Person(first_name='Miyoko', last_name='Furtado'): 4, Person(first_name='Amira', last_name='Canter'): 4, Person(first_name='Manda', last_name='Hoskin'): 4, Person(first_name='Signe', last_name='Dildine'): 3, Person(first_name='Felicitas', last_name='Copper'): 3, Person(first_name='Pasquale', last_name='Weldon'): 3, Person(first_name='Leida', last_name='Carner'): 2, Person(first_name='Linh', last_name='Hukill'): 2, Person(first_name='Kira', last_name='Culler'): 2, Person(first_name='Elouise', last_name='Grennan'): 2, Person(first_name='Ricarda', last_name='Conkling'): 2, Person(first_name='Guillermina', last_name='Backus'): 2, Person(first_name='Mindy', last_name='Paulus'): 1, Person(first_name='Harlan', last_name='Tregre'): 1})\n"
     ]
    }
   ],
   "source": [
    "people = load_people()\n",
    "game = Counter({person: 0 for person in people})\n"
   ],
   "metadata": {
    "collapsed": false,
    "ExecuteTime": {
     "end_time": "2023-06-19T19:32:35.466320185Z",
     "start_time": "2023-06-19T19:32:35.416745022Z"
    }
   }
  },
  {
   "cell_type": "code",
   "execution_count": 175,
   "outputs": [
    {
     "name": "stdout",
     "output_type": "stream",
     "text": [
      "Counter({Person(first_name='Jared', last_name='Stanback'): 20, Person(first_name='Mamie', last_name='Ensey'): 20, Person(first_name='Keith', last_name='Calbert'): 18, Person(first_name='Neomi', last_name='Wilcher'): 15, Person(first_name='Karie', last_name='Relyea'): 15, Person(first_name='Sid', last_name='Traverso'): 15, Person(first_name='Roni', last_name='Krouse'): 15, Person(first_name='Onita', last_name='Concannon'): 14, Person(first_name='Devorah', last_name='Revelle'): 14, Person(first_name='Remona', last_name='Pinckard'): 14, Person(first_name='Donna', last_name='Cappello'): 14, Person(first_name='Maryland', last_name='Falcon'): 14, Person(first_name='Kayleen', last_name='Soja'): 13, Person(first_name='Kirstie', last_name='Mchugh'): 13, Person(first_name='Tyrone', last_name='Harry'): 13, Person(first_name='Yael', last_name='Woodring'): 13, Person(first_name='Robt', last_name='Rosemond'): 13, Person(first_name='Roseline', last_name='Venters'): 12, Person(first_name='Leida', last_name='Carner'): 12, Person(first_name='Lashell', last_name='Ewald'): 12, Person(first_name='Marion', last_name='Derbyshire'): 12, Person(first_name='Lavonda', last_name='Hanscom'): 12, Person(first_name='Noelia', last_name='Ohagan'): 11, Person(first_name='Miyoko', last_name='Furtado'): 11, Person(first_name='Guillermina', last_name='Backus'): 11, Person(first_name='Troy', last_name='Degraw'): 10, Person(first_name='Karine', last_name='Dudash'): 10, Person(first_name='Nella', last_name='Neugebauer'): 10, Person(first_name='Birgit', last_name='Smoot'): 10, Person(first_name='Reginald', last_name='Crow'): 10, Person(first_name='Layla', last_name='Larkins'): 10, Person(first_name='Adele', last_name='Kucera'): 9, Person(first_name='Signe', last_name='Dildine'): 9, Person(first_name='Hank', last_name='Moscoso'): 9, Person(first_name='Amira', last_name='Canter'): 9, Person(first_name='Kiana', last_name='Flanigan'): 9, Person(first_name='Karla', last_name='Cabana'): 8, Person(first_name='Linh', last_name='Hukill'): 8, Person(first_name='Weldon', last_name='Iman'): 8, Person(first_name='Mindy', last_name='Paulus'): 7, Person(first_name='Pasquale', last_name='Weldon'): 6, Person(first_name='Shaunna', last_name='Painter'): 6, Person(first_name='Florencio', last_name='Antunez'): 5, Person(first_name='Kira', last_name='Culler'): 5, Person(first_name='Margie', last_name='Rabb'): 5, Person(first_name='Harlan', last_name='Tregre'): 5, Person(first_name='Manda', last_name='Hoskin'): 5, Person(first_name='Elouise', last_name='Grennan'): 4, Person(first_name='Felicitas', last_name='Copper'): 4, Person(first_name='Ricarda', last_name='Conkling'): 3})\n"
     ]
    }
   ],
   "source": [
    "simulate_game(game)\n",
    "print(game)"
   ],
   "metadata": {
    "collapsed": false,
    "ExecuteTime": {
     "end_time": "2023-06-19T19:33:03.601733468Z",
     "start_time": "2023-06-19T19:33:03.569560687Z"
    }
   }
  },
  {
   "cell_type": "code",
   "execution_count": 176,
   "outputs": [
    {
     "name": "stdout",
     "output_type": "stream",
     "text": [
      "Counter({Person(first_name='Keith', last_name='Calbert'): 28, Person(first_name='Mamie', last_name='Ensey'): 25, Person(first_name='Tyrone', last_name='Harry'): 23, Person(first_name='Neomi', last_name='Wilcher'): 23, Person(first_name='Jared', last_name='Stanback'): 23, Person(first_name='Sid', last_name='Traverso'): 23, Person(first_name='Maryland', last_name='Falcon'): 23, Person(first_name='Leida', last_name='Carner'): 22, Person(first_name='Devorah', last_name='Revelle'): 22, Person(first_name='Miyoko', last_name='Furtado'): 21, Person(first_name='Donna', last_name='Cappello'): 21, Person(first_name='Karine', last_name='Dudash'): 20, Person(first_name='Lashell', last_name='Ewald'): 20, Person(first_name='Robt', last_name='Rosemond'): 20, Person(first_name='Remona', last_name='Pinckard'): 20, Person(first_name='Signe', last_name='Dildine'): 19, Person(first_name='Marion', last_name='Derbyshire'): 19, Person(first_name='Lavonda', last_name='Hanscom'): 19, Person(first_name='Karie', last_name='Relyea'): 19, Person(first_name='Troy', last_name='Degraw'): 18, Person(first_name='Onita', last_name='Concannon'): 18, Person(first_name='Kayleen', last_name='Soja'): 17, Person(first_name='Adele', last_name='Kucera'): 17, Person(first_name='Kirstie', last_name='Mchugh'): 17, Person(first_name='Birgit', last_name='Smoot'): 17, Person(first_name='Roni', last_name='Krouse'): 17, Person(first_name='Yael', last_name='Woodring'): 16, Person(first_name='Reginald', last_name='Crow'): 16, Person(first_name='Kiana', last_name='Flanigan'): 16, Person(first_name='Roseline', last_name='Venters'): 15, Person(first_name='Amira', last_name='Canter'): 15, Person(first_name='Hank', last_name='Moscoso'): 14, Person(first_name='Nella', last_name='Neugebauer'): 14, Person(first_name='Karla', last_name='Cabana'): 12, Person(first_name='Margie', last_name='Rabb'): 12, Person(first_name='Pasquale', last_name='Weldon'): 12, Person(first_name='Noelia', last_name='Ohagan'): 12, Person(first_name='Mindy', last_name='Paulus'): 12, Person(first_name='Weldon', last_name='Iman'): 12, Person(first_name='Guillermina', last_name='Backus'): 12, Person(first_name='Linh', last_name='Hukill'): 11, Person(first_name='Kira', last_name='Culler'): 11, Person(first_name='Layla', last_name='Larkins'): 11, Person(first_name='Felicitas', last_name='Copper'): 9, Person(first_name='Harlan', last_name='Tregre'): 9, Person(first_name='Elouise', last_name='Grennan'): 8, Person(first_name='Shaunna', last_name='Painter'): 8, Person(first_name='Florencio', last_name='Antunez'): 7, Person(first_name='Ricarda', last_name='Conkling'): 7, Person(first_name='Manda', last_name='Hoskin'): 7})\n"
     ]
    }
   ],
   "source": [
    "simulate_game(game)\n",
    "print(game)"
   ],
   "metadata": {
    "collapsed": false,
    "ExecuteTime": {
     "end_time": "2023-06-19T19:33:15.474157177Z",
     "start_time": "2023-06-19T19:33:15.423793591Z"
    }
   }
  },
  {
   "cell_type": "code",
   "execution_count": 177,
   "outputs": [
    {
     "data": {
      "text/plain": "[(Person(first_name='Keith', last_name='Calbert'), 28),\n (Person(first_name='Mamie', last_name='Ensey'), 25),\n (Person(first_name='Tyrone', last_name='Harry'), 23),\n (Person(first_name='Neomi', last_name='Wilcher'), 23),\n (Person(first_name='Jared', last_name='Stanback'), 23),\n (Person(first_name='Sid', last_name='Traverso'), 23),\n (Person(first_name='Maryland', last_name='Falcon'), 23),\n (Person(first_name='Leida', last_name='Carner'), 22),\n (Person(first_name='Devorah', last_name='Revelle'), 22),\n (Person(first_name='Miyoko', last_name='Furtado'), 21)]"
     },
     "execution_count": 177,
     "metadata": {},
     "output_type": "execute_result"
    }
   ],
   "source": [
    "game.most_common(10)"
   ],
   "metadata": {
    "collapsed": false,
    "ExecuteTime": {
     "end_time": "2023-06-19T19:33:39.088452045Z",
     "start_time": "2023-06-19T19:33:39.040033060Z"
    }
   }
  },
  {
   "cell_type": "code",
   "execution_count": 179,
   "outputs": [
    {
     "name": "stdout",
     "output_type": "stream",
     "text": [
      "(Person(first_name='Troy', last_name='Degraw'), 18)\n",
      "(Person(first_name='Kayleen', last_name='Soja'), 17)\n",
      "(Person(first_name='Adele', last_name='Kucera'), 17)\n",
      "(Person(first_name='Roseline', last_name='Venters'), 15)\n",
      "(Person(first_name='Kirstie', last_name='Mchugh'), 17)\n",
      "(Person(first_name='Leida', last_name='Carner'), 22)\n",
      "(Person(first_name='Tyrone', last_name='Harry'), 23)\n",
      "(Person(first_name='Karla', last_name='Cabana'), 12)\n",
      "(Person(first_name='Neomi', last_name='Wilcher'), 23)\n",
      "(Person(first_name='Karine', last_name='Dudash'), 20)\n",
      "(Person(first_name='Lashell', last_name='Ewald'), 20)\n",
      "(Person(first_name='Onita', last_name='Concannon'), 18)\n",
      "(Person(first_name='Florencio', last_name='Antunez'), 7)\n",
      "(Person(first_name='Yael', last_name='Woodring'), 16)\n",
      "(Person(first_name='Linh', last_name='Hukill'), 11)\n",
      "(Person(first_name='Signe', last_name='Dildine'), 19)\n",
      "(Person(first_name='Robt', last_name='Rosemond'), 20)\n",
      "(Person(first_name='Hank', last_name='Moscoso'), 14)\n",
      "(Person(first_name='Kira', last_name='Culler'), 11)\n",
      "(Person(first_name='Margie', last_name='Rabb'), 12)\n",
      "(Person(first_name='Elouise', last_name='Grennan'), 8)\n",
      "(Person(first_name='Jared', last_name='Stanback'), 23)\n",
      "(Person(first_name='Felicitas', last_name='Copper'), 9)\n",
      "(Person(first_name='Pasquale', last_name='Weldon'), 12)\n",
      "(Person(first_name='Nella', last_name='Neugebauer'), 14)\n",
      "(Person(first_name='Mamie', last_name='Ensey'), 25)\n",
      "(Person(first_name='Birgit', last_name='Smoot'), 17)\n",
      "(Person(first_name='Noelia', last_name='Ohagan'), 12)\n",
      "(Person(first_name='Marion', last_name='Derbyshire'), 19)\n",
      "(Person(first_name='Lavonda', last_name='Hanscom'), 19)\n",
      "(Person(first_name='Karie', last_name='Relyea'), 19)\n",
      "(Person(first_name='Mindy', last_name='Paulus'), 12)\n",
      "(Person(first_name='Sid', last_name='Traverso'), 23)\n",
      "(Person(first_name='Ricarda', last_name='Conkling'), 7)\n",
      "(Person(first_name='Devorah', last_name='Revelle'), 22)\n",
      "(Person(first_name='Harlan', last_name='Tregre'), 9)\n",
      "(Person(first_name='Roni', last_name='Krouse'), 17)\n",
      "(Person(first_name='Shaunna', last_name='Painter'), 8)\n",
      "(Person(first_name='Miyoko', last_name='Furtado'), 21)\n",
      "(Person(first_name='Weldon', last_name='Iman'), 12)\n",
      "(Person(first_name='Reginald', last_name='Crow'), 16)\n",
      "(Person(first_name='Keith', last_name='Calbert'), 28)\n",
      "(Person(first_name='Amira', last_name='Canter'), 15)\n",
      "(Person(first_name='Guillermina', last_name='Backus'), 12)\n",
      "(Person(first_name='Kiana', last_name='Flanigan'), 16)\n",
      "(Person(first_name='Remona', last_name='Pinckard'), 20)\n",
      "(Person(first_name='Manda', last_name='Hoskin'), 7)\n",
      "(Person(first_name='Donna', last_name='Cappello'), 21)\n",
      "(Person(first_name='Layla', last_name='Larkins'), 11)\n",
      "(Person(first_name='Maryland', last_name='Falcon'), 23)\n"
     ]
    }
   ],
   "source": [
    "for item in game.items():\n",
    "    print(item)"
   ],
   "metadata": {
    "collapsed": false,
    "ExecuteTime": {
     "end_time": "2023-06-19T19:35:13.818564378Z",
     "start_time": "2023-06-19T19:35:13.745772187Z"
    }
   }
  },
  {
   "cell_type": "code",
   "execution_count": 182,
   "outputs": [],
   "source": [
    "game[Person(first_name='Keith', last_name='Calbert')] = -5"
   ],
   "metadata": {
    "collapsed": false,
    "ExecuteTime": {
     "end_time": "2023-06-19T19:42:14.816009612Z",
     "start_time": "2023-06-19T19:42:14.772123045Z"
    }
   }
  },
  {
   "cell_type": "code",
   "execution_count": 183,
   "outputs": [
    {
     "data": {
      "text/plain": "Counter({Person(first_name='Mamie', last_name='Ensey'): 25,\n         Person(first_name='Tyrone', last_name='Harry'): 23,\n         Person(first_name='Neomi', last_name='Wilcher'): 23,\n         Person(first_name='Jared', last_name='Stanback'): 23,\n         Person(first_name='Sid', last_name='Traverso'): 23,\n         Person(first_name='Maryland', last_name='Falcon'): 23,\n         Person(first_name='Leida', last_name='Carner'): 22,\n         Person(first_name='Devorah', last_name='Revelle'): 22,\n         Person(first_name='Miyoko', last_name='Furtado'): 21,\n         Person(first_name='Donna', last_name='Cappello'): 21,\n         Person(first_name='Karine', last_name='Dudash'): 20,\n         Person(first_name='Lashell', last_name='Ewald'): 20,\n         Person(first_name='Robt', last_name='Rosemond'): 20,\n         Person(first_name='Remona', last_name='Pinckard'): 20,\n         Person(first_name='Signe', last_name='Dildine'): 19,\n         Person(first_name='Marion', last_name='Derbyshire'): 19,\n         Person(first_name='Lavonda', last_name='Hanscom'): 19,\n         Person(first_name='Karie', last_name='Relyea'): 19,\n         Person(first_name='Troy', last_name='Degraw'): 18,\n         Person(first_name='Onita', last_name='Concannon'): 18,\n         Person(first_name='Kayleen', last_name='Soja'): 17,\n         Person(first_name='Adele', last_name='Kucera'): 17,\n         Person(first_name='Kirstie', last_name='Mchugh'): 17,\n         Person(first_name='Birgit', last_name='Smoot'): 17,\n         Person(first_name='Roni', last_name='Krouse'): 17,\n         Person(first_name='Yael', last_name='Woodring'): 16,\n         Person(first_name='Reginald', last_name='Crow'): 16,\n         Person(first_name='Kiana', last_name='Flanigan'): 16,\n         Person(first_name='Roseline', last_name='Venters'): 15,\n         Person(first_name='Amira', last_name='Canter'): 15,\n         Person(first_name='Hank', last_name='Moscoso'): 14,\n         Person(first_name='Nella', last_name='Neugebauer'): 14,\n         Person(first_name='Karla', last_name='Cabana'): 12,\n         Person(first_name='Margie', last_name='Rabb'): 12,\n         Person(first_name='Pasquale', last_name='Weldon'): 12,\n         Person(first_name='Noelia', last_name='Ohagan'): 12,\n         Person(first_name='Mindy', last_name='Paulus'): 12,\n         Person(first_name='Weldon', last_name='Iman'): 12,\n         Person(first_name='Guillermina', last_name='Backus'): 12,\n         Person(first_name='Linh', last_name='Hukill'): 11,\n         Person(first_name='Kira', last_name='Culler'): 11,\n         Person(first_name='Layla', last_name='Larkins'): 11,\n         Person(first_name='Felicitas', last_name='Copper'): 9,\n         Person(first_name='Harlan', last_name='Tregre'): 9,\n         Person(first_name='Elouise', last_name='Grennan'): 8,\n         Person(first_name='Shaunna', last_name='Painter'): 8,\n         Person(first_name='Florencio', last_name='Antunez'): 7,\n         Person(first_name='Ricarda', last_name='Conkling'): 7,\n         Person(first_name='Manda', last_name='Hoskin'): 7,\n         Person(first_name='Keith', last_name='Calbert'): -5})"
     },
     "execution_count": 183,
     "metadata": {},
     "output_type": "execute_result"
    }
   ],
   "source": [
    "game"
   ],
   "metadata": {
    "collapsed": false,
    "ExecuteTime": {
     "end_time": "2023-06-19T19:42:33.028955830Z",
     "start_time": "2023-06-19T19:42:32.989425437Z"
    }
   }
  },
  {
   "cell_type": "code",
   "execution_count": 184,
   "outputs": [
    {
     "data": {
      "text/plain": "Counter({'a': 4, ' ': 2, 'l': 1, 'm': 1, 'k': 1, 'o': 1, 't': 1})"
     },
     "execution_count": 184,
     "metadata": {},
     "output_type": "execute_result"
    }
   ],
   "source": [
    "Counter('ala ma kota')"
   ],
   "metadata": {
    "collapsed": false,
    "ExecuteTime": {
     "end_time": "2023-06-19T19:43:54.063984728Z",
     "start_time": "2023-06-19T19:43:54.023475633Z"
    }
   }
  },
  {
   "cell_type": "code",
   "execution_count": 185,
   "outputs": [
    {
     "data": {
      "text/plain": "Counter({'ala': 1, 'ma': 1, 'kota': 1})"
     },
     "execution_count": 185,
     "metadata": {},
     "output_type": "execute_result"
    }
   ],
   "source": [
    "Counter('ala ma kota'.split(\" \"))"
   ],
   "metadata": {
    "collapsed": false,
    "ExecuteTime": {
     "end_time": "2023-06-19T19:44:19.395987362Z",
     "start_time": "2023-06-19T19:44:19.292833542Z"
    }
   }
  },
  {
   "cell_type": "code",
   "execution_count": 186,
   "outputs": [
    {
     "ename": "TypeError",
     "evalue": "unhashable type: 'list'",
     "output_type": "error",
     "traceback": [
      "\u001B[0;31m---------------------------------------------------------------------------\u001B[0m",
      "\u001B[0;31mTypeError\u001B[0m                                 Traceback (most recent call last)",
      "Cell \u001B[0;32mIn[186], line 1\u001B[0m\n\u001B[0;32m----> 1\u001B[0m \u001B[43mCounter\u001B[49m\u001B[43m(\u001B[49m\u001B[43m(\u001B[49m\u001B[43m[\u001B[49m\u001B[38;5;241;43m1\u001B[39;49m\u001B[43m,\u001B[49m\u001B[43m \u001B[49m\u001B[38;5;241;43m2\u001B[39;49m\u001B[43m]\u001B[49m\u001B[43m,\u001B[49m\u001B[43m \u001B[49m\u001B[43m[\u001B[49m\u001B[38;5;241;43m3\u001B[39;49m\u001B[43m,\u001B[49m\u001B[43m \u001B[49m\u001B[38;5;241;43m4\u001B[39;49m\u001B[43m]\u001B[49m\u001B[43m)\u001B[49m\u001B[43m)\u001B[49m\n",
      "File \u001B[0;32m/usr/lib64/python3.11/collections/__init__.py:597\u001B[0m, in \u001B[0;36mCounter.__init__\u001B[0;34m(self, iterable, **kwds)\u001B[0m\n\u001B[1;32m    586\u001B[0m \u001B[38;5;250m\u001B[39m\u001B[38;5;124;03m'''Create a new, empty Counter object.  And if given, count elements\u001B[39;00m\n\u001B[1;32m    587\u001B[0m \u001B[38;5;124;03mfrom an input iterable.  Or, initialize the count from another mapping\u001B[39;00m\n\u001B[1;32m    588\u001B[0m \u001B[38;5;124;03mof elements to their counts.\u001B[39;00m\n\u001B[0;32m   (...)\u001B[0m\n\u001B[1;32m    594\u001B[0m \n\u001B[1;32m    595\u001B[0m \u001B[38;5;124;03m'''\u001B[39;00m\n\u001B[1;32m    596\u001B[0m \u001B[38;5;28msuper\u001B[39m()\u001B[38;5;241m.\u001B[39m\u001B[38;5;21m__init__\u001B[39m()\n\u001B[0;32m--> 597\u001B[0m \u001B[38;5;28;43mself\u001B[39;49m\u001B[38;5;241;43m.\u001B[39;49m\u001B[43mupdate\u001B[49m\u001B[43m(\u001B[49m\u001B[43miterable\u001B[49m\u001B[43m,\u001B[49m\u001B[43m \u001B[49m\u001B[38;5;241;43m*\u001B[39;49m\u001B[38;5;241;43m*\u001B[39;49m\u001B[43mkwds\u001B[49m\u001B[43m)\u001B[49m\n",
      "File \u001B[0;32m/usr/lib64/python3.11/collections/__init__.py:688\u001B[0m, in \u001B[0;36mCounter.update\u001B[0;34m(self, iterable, **kwds)\u001B[0m\n\u001B[1;32m    686\u001B[0m             \u001B[38;5;28msuper\u001B[39m()\u001B[38;5;241m.\u001B[39mupdate(iterable)\n\u001B[1;32m    687\u001B[0m     \u001B[38;5;28;01melse\u001B[39;00m:\n\u001B[0;32m--> 688\u001B[0m         _count_elements(\u001B[38;5;28mself\u001B[39m, iterable)\n\u001B[1;32m    689\u001B[0m \u001B[38;5;28;01mif\u001B[39;00m kwds:\n\u001B[1;32m    690\u001B[0m     \u001B[38;5;28mself\u001B[39m\u001B[38;5;241m.\u001B[39mupdate(kwds)\n",
      "\u001B[0;31mTypeError\u001B[0m: unhashable type: 'list'"
     ]
    }
   ],
   "source": [
    "Counter(([1, 2], [3, 4]))  # tylko hashowalne!!!"
   ],
   "metadata": {
    "collapsed": false,
    "ExecuteTime": {
     "end_time": "2023-06-19T19:45:14.122733792Z",
     "start_time": "2023-06-19T19:45:14.081438202Z"
    }
   }
  },
  {
   "cell_type": "markdown",
   "source": [
    "# OrderedDict\n",
    "\n",
    "Trzyma kolejność względem dodawania\n",
    "Używa się go ze względu na pokazanie intencji - że kolejność ma znaczenie!\n"
   ],
   "metadata": {
    "collapsed": false
   }
  },
  {
   "cell_type": "code",
   "execution_count": 193,
   "outputs": [
    {
     "name": "stdout",
     "output_type": "stream",
     "text": [
      "OrderedDict([(Person(first_name='Kayleen', last_name='Soja'), 10), (Person(first_name='Keith', last_name='Calbert'), 10), (Person(first_name='Kirstie', last_name='Mchugh'), 10), (Person(first_name='Lavonda', last_name='Hanscom'), 10), (Person(first_name='Manda', last_name='Hoskin'), 10), (Person(first_name='Marion', last_name='Derbyshire'), 10), (Person(first_name='Maryland', last_name='Falcon'), 10), (Person(first_name='Neomi', last_name='Wilcher'), 10), (Person(first_name='Remona', last_name='Pinckard'), 10), (Person(first_name='Roseline', last_name='Venters'), 9)])\n"
     ]
    }
   ],
   "source": [
    "from collections import OrderedDict\n",
    "\n",
    "people = load_people()\n",
    "game = Counter({person: 0 for person in people})\n",
    "simulate_game(game)\n",
    "top_ten = game.most_common(10)\n",
    "# print(top_ten)\n",
    "by_name = OrderedDict(sorted(top_ten, key=lambda x: x[0].first_name))\n",
    "print(by_name)"
   ],
   "metadata": {
    "collapsed": false,
    "ExecuteTime": {
     "end_time": "2023-06-19T19:55:37.599825117Z",
     "start_time": "2023-06-19T19:55:37.547839406Z"
    }
   }
  },
  {
   "cell_type": "code",
   "execution_count": null,
   "outputs": [],
   "source": [],
   "metadata": {
    "collapsed": false
   }
  },
  {
   "cell_type": "code",
   "execution_count": null,
   "outputs": [],
   "source": [],
   "metadata": {
    "collapsed": false
   }
  }
 ],
 "metadata": {
  "kernelspec": {
   "display_name": "Python 3",
   "language": "python",
   "name": "python3"
  },
  "language_info": {
   "codemirror_mode": {
    "name": "ipython",
    "version": 2
   },
   "file_extension": ".py",
   "mimetype": "text/x-python",
   "name": "python",
   "nbconvert_exporter": "python",
   "pygments_lexer": "ipython2",
   "version": "2.7.6"
  }
 },
 "nbformat": 4,
 "nbformat_minor": 0
}
